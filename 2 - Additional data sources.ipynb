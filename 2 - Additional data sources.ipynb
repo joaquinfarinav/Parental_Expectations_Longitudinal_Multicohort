{
 "cells": [
  {
   "cell_type": "code",
   "execution_count": 1,
   "id": "4c204d49",
   "metadata": {
    "ExecuteTime": {
     "end_time": "2023-10-29T15:06:48.741718Z",
     "start_time": "2023-10-29T15:06:47.939272Z"
    }
   },
   "outputs": [],
   "source": [
    "import pandas as pd\n",
    "import os\n",
    "import itertools\n",
    "import numpy as np\n",
    "\n",
    "# Own functions \n",
    "from emelab_tools import *"
   ]
  },
  {
   "cell_type": "markdown",
   "id": "5cc740af",
   "metadata": {},
   "source": [
    "# DF idalumno\n",
    "\n",
    "data_tot_mrun >>> df con 'agno','grado','idalumno','mrun','rbd' para unir ID estudiante ACE con MINEDUC"
   ]
  },
  {
   "cell_type": "code",
   "execution_count": 3,
   "id": "6bbf98d4",
   "metadata": {
    "ExecuteTime": {
     "end_time": "2023-10-27T21:05:21.487737Z",
     "start_time": "2023-10-27T21:04:10.167311Z"
    },
    "scrolled": true
   },
   "outputs": [
    {
     "name": "stdout",
     "output_type": "stream",
     "text": [
      "simce4b2005_alu_mrun_privada_final-SEG.csv\n",
      "277804\n",
      "269367\n",
      "simce8b2009_alu_mrun_privadas_final-SEG.csv\n",
      "266269\n",
      "260634\n",
      "simce3m2012_alu_mrun_publica_final-SEG.csv\n",
      "['3m']\n",
      "223507\n",
      "220218\n",
      "simce4b2007_alu_mrun_privada_final-SEG.csv\n",
      "267451\n",
      "258425\n",
      "simce8b2011_alu_mrun_privada_final-SEG.csv\n",
      "250473\n",
      "246176\n",
      "simce2m2013_alu_mrun_privada_final-SEG.csv\n",
      "254580\n",
      "241768\n",
      "simce4b2008_alu_mrun_privada_final-SEG.csv\n",
      "264120\n",
      "255712\n",
      "simce2m2014_alu_mrun_privada_final-SEG.csv\n",
      "241730\n",
      "233865\n",
      "simce4b2009_alu_mrun_privadas_final-SEG.csv\n",
      "254823\n",
      "247743\n",
      "simce8b2013_alu_mrun_privada_final-SEG.csv\n",
      "255132\n",
      "245920\n",
      "simce2m2015_alu_mrun_privadas_final-SEG.csv\n",
      "245160\n",
      "233278\n",
      "simce4b2010_alu_mrun_privadas_final-SEG.csv\n",
      "255448\n",
      "251839\n",
      "simce8b2014_alu_mrun_privada_final-SEG.csv\n",
      "256983\n",
      "248951\n",
      "simce2m2016_alu_mrun_privada_final_SEG.csv\n",
      "248158\n",
      "237797\n",
      "simce4b2011_alu_mrun_privada_final-SEG.csv\n",
      "247666\n",
      "242489\n",
      "simce6b2013_alu_mrun_privada_final-SEG.csv\n",
      "262421\n",
      "250138\n",
      "simce8b2015_alu_mrun_privadas_final-SEG.csv\n",
      "255607\n",
      "245440\n",
      "simce2m2017_alu_mrun_privada_final_SEG.csv\n",
      "245197\n",
      "233277\n",
      "simce4b2012_alu_mrun_privada_final-SEG.csv\n",
      "244513\n",
      "239454\n",
      "simce6b2014_alu_mrun_privada_final-SEG.csv\n",
      "256159\n",
      "246755\n",
      "simce2m2018_alu_privada_final-SEG.txt\n",
      "250379\n",
      "238044\n",
      "simce4b2013_alu_mrun_privada_final-SEG.csv\n",
      "246055\n",
      "235510\n",
      "simce6b2015_alu_mrun_privadas_final-SEG.csv\n",
      "252659\n",
      "241859\n",
      "simce8b2017_alu_mrun_final_SEG.csv\n",
      "247495\n",
      "238072\n",
      "simce2b2012_alu_mrun_publica_final-SEG.csv\n",
      "240917\n",
      "234730\n",
      "simce4b2014_alu_mrun_privada_final-SEG.csv\n",
      "241392\n",
      "232514\n",
      "simce6b2016_alu_publica_final.txt\n",
      "249180\n",
      "240346\n",
      "simce2b2013_alu_mrun_publica_final- SEG.csv\n",
      "248458\n",
      "232984\n",
      "simce4b2015_alu_mrun_privadas_final-SEG.csv\n",
      "243987\n",
      "233123\n",
      "simce8b2019_alu_privada_final-SEG.csv\n",
      "249497\n",
      "239393\n",
      "simce2b2014_alu_mrun_publica_final-SEG.csv\n",
      "250157\n",
      "239056\n",
      "simce4b2016_alu_mrun_privada_final_SEG.csv\n",
      "247526\n",
      "238361\n",
      "simce6b2018_alu_privada_final-SEG.txt\n",
      "255846\n",
      "244543\n",
      "simce2m2022_alu_mrun_final_SEG.csv\n",
      "246754\n",
      "199567\n",
      "simce8b2004_alu_mrun_privada_final-SEG.csv\n",
      "299005\n",
      "293329\n",
      "simce2m2006_alu_mrun_privada_final-SEG.csv\n",
      "280753\n",
      "273861\n",
      "simce4b2006_alu_mrun_privada_final-SEG.csv\n",
      "274348\n",
      "264001\n",
      "simce2m2012_alu_mrun_privada_final-SEG.csv\n",
      "244826\n",
      "236819\n",
      "simce2b2015_alu_mrun_publica_final-SEG.csv\n",
      "261231\n",
      "247097\n",
      "simce4b2017_alu_mrun_privada_final_SEG.csv\n",
      "256280\n",
      "244768\n",
      "simce4b2002_alu_mrun_privada_final-SEG.csv\n",
      "289760\n",
      "282948\n",
      "simce2m2008_alu_mrun_privada_final-SEG.csv\n",
      "270897\n",
      "264973\n",
      "simce2m2003_alu_mrun_final_SEG.csv\n",
      "259580\n",
      "252399\n",
      "simce8b2007_alu_mrun_privada_final-SEG.csv\n",
      "282086\n",
      "275912\n",
      "simce2m2010_alu_mrun_privadas_final-SEG.csv\n",
      "258172\n",
      "253801\n",
      "simce4b2018_alu_privada_final-SEG.txt\n",
      "267769\n",
      "255226\n",
      "simce4b2022_alu_mrun_final_SEG.csv\n",
      "256744\n",
      "217906\n",
      "cohort_number\n",
      "6.0     1010891\n",
      "11.0    1000283\n",
      "2.0      772504\n",
      "1.0      767580\n",
      "5.0      760589\n",
      "4.0      755115\n",
      "7.0      751051\n",
      "8.0      746209\n",
      "10.0     741942\n",
      "9.0      731489\n",
      "12.0     579758\n",
      "15.0     560657\n",
      "13.0     519174\n",
      "14.0     517511\n",
      "3.0      505850\n",
      "17.0     282086\n",
      "19.0     267769\n",
      "16.0     259580\n",
      "18.0     258172\n",
      "20.0     256744\n",
      "Name: count, dtype: int64\n"
     ]
    }
   ],
   "source": [
    "# GET MRUN \n",
    "data_tot_mrun = pd.DataFrame(columns=['agno','grado','idalumno','mrun','rbd'])\n",
    "\n",
    "no_pje_order = ['Con puntaje','Inasistencia','Prueba en blanco', 'Estudiante Integrado o no habla espaÃ±ol', \n",
    "                'Estudiante Integrado o no habla espaï¿½ol','No rinde la prueba','Prueba nula','Perdida de material','Estudiante retirado']\n",
    "\n",
    "cohort_number = 1\n",
    "for cohort in [T1,T2,T3,T4,T5,T6,T7,T8,T9,T10,T11_pandemia,T12,T13,T14,T15,CS1,CS2,CS3,CS4, CS5_pandemia]:\n",
    "    # walk cohorts\n",
    "    for t in cohort:\n",
    "        curso =  t[5:7]\n",
    "        agno = t[:4]\n",
    "        # walk subsolders\n",
    "        for root, dirs, files in os.walk(path):\n",
    "            # walk all files in subfolders\n",
    "             for file in files:\n",
    "                if curso+agno+'_alu' in file and (('csv' in file) | ('txt' in file)):\n",
    "                    path_file = os.path.join(root, file)\n",
    "                    print(file)\n",
    "                    data_mrun = pd.read_csv(path_file,encoding = 'unicode_escape', sep=\"|\", header='infer', low_memory=False)\n",
    "                    data_mrun.columns = [x.lower() for x in data_mrun.columns]\n",
    "                    # Botar duplicados idalumno quedandonos con los que tienen ptje \n",
    "                    no_ptje = 'noptje_lect' + curso + '_alu' \n",
    "                    if (no_ptje in data_mrun.columns) | ('marca_lect'+curso+'_alu' in data_mrun.columns):\n",
    "                        data_mrun = data_mrun.rename(columns = {'marca_lect'+curso+'_alu':no_ptje})\n",
    "                        if '2m2013' in file:\n",
    "                            data_mrun = data_mrun.sort_values(by = ['mrun', 'ptje_lect2m_alu','ptje_mate2m_alu'], ascending=False)\n",
    "                        else:\n",
    "                            data_mrun[no_ptje] = data_mrun[no_ptje].astype('category')\n",
    "                            new_vals = data_mrun[no_ptje].unique()\n",
    "                            no_pje_order_final = [x for x in no_pje_order if x in new_vals]\n",
    "                            no_pje_order_final = no_pje_order_final + [x for x in new_vals if x not in no_pje_order_final]\n",
    "                            no_pje_order_final = [x for x in no_pje_order_final if str(x)!= 'nan']\n",
    "                            data_mrun[no_ptje] = data_mrun[no_ptje].cat.reorder_categories(no_pje_order_final)\n",
    "                            # duplicados con puntaje quedan primero \n",
    "                            data_mrun.sort_values(by = ['mrun', no_ptje], ascending=True, inplace=True)\n",
    "                            \n",
    "                    elif '3m2012' in file:\n",
    "                            data_mrun.sort_values(by = ['mrun', 'ptje_rea3m_alu','ptje_lis3m_alu'], ascending=False, inplace=True)\n",
    "                            print(data_mrun.grado.unique())\n",
    "                    else:\n",
    "                        cols_ordenar = ['ptje_lectX_alu', 'noptje_aus_lectX_alu', 'noptje_bco_lectX_alu', 'noptje_neepX_alu',\n",
    "                                        'noptje_nespX_alu',  'noptje_nul_lectX_alu', 'noptje_ppm_mateX_alu', 'noptje_retX_alu']\n",
    "                        cols_ordenar = [x.replace('X', curso) for x in cols_ordenar]\n",
    "                        data_mrun.sort_values(by = ['mrun'] + cols_ordenar, \n",
    "                                              ascending= [True, True, False,False,False,False,False,False,False], inplace=True)\n",
    "                    print(len(data_mrun))\n",
    "                    #data_mrun.drop_duplicates(subset= ['mrun'], keep = 'first', inplace=True)\n",
    "                    data_mrun['is_duplicate'] = data_mrun.duplicated(subset=['mrun'], keep='first')\n",
    "\n",
    "                    print(len(data_mrun.mrun.unique()))\n",
    "                    data_mrun = data_mrun[['agno','grado','idalumno','mrun','rbd', 'is_duplicate']]\n",
    "                    data_mrun['cohort_number'] = cohort_number\n",
    "                    data_tot_mrun = pd.concat([data_tot_mrun,data_mrun])\n",
    "                    \n",
    "    cohort_number += 1 \n",
    "    \n",
    "print(data_tot_mrun.cohort_number.value_counts())\n",
    "data_tot_mrun.sort_values(by='agno', inplace=True)"
   ]
  },
  {
   "cell_type": "markdown",
   "id": "a54e4fb6",
   "metadata": {},
   "source": [
    "## Eliminar duplicados agno - mrun"
   ]
  },
  {
   "cell_type": "code",
   "execution_count": 4,
   "id": "563aa8f7",
   "metadata": {
    "ExecuteTime": {
     "end_time": "2023-10-27T21:06:34.089600Z",
     "start_time": "2023-10-27T21:06:33.596660Z"
    }
   },
   "outputs": [
    {
     "data": {
      "text/plain": [
       "is_duplicate\n",
       "False    11560388\n",
       "True       484566\n",
       "Name: count, dtype: int64"
      ]
     },
     "execution_count": 4,
     "metadata": {},
     "output_type": "execute_result"
    }
   ],
   "source": [
    "data_tot_mrun.is_duplicate.value_counts()"
   ]
  },
  {
   "cell_type": "code",
   "execution_count": 5,
   "id": "e32a4cf1",
   "metadata": {
    "ExecuteTime": {
     "end_time": "2023-10-27T21:06:39.428304Z",
     "start_time": "2023-10-27T21:06:37.147278Z"
    }
   },
   "outputs": [
    {
     "data": {
      "text/html": [
       "<div>\n",
       "<style scoped>\n",
       "    .dataframe tbody tr th:only-of-type {\n",
       "        vertical-align: middle;\n",
       "    }\n",
       "\n",
       "    .dataframe tbody tr th {\n",
       "        vertical-align: top;\n",
       "    }\n",
       "\n",
       "    .dataframe thead th {\n",
       "        text-align: right;\n",
       "    }\n",
       "</style>\n",
       "<table border=\"1\" class=\"dataframe\">\n",
       "  <thead>\n",
       "    <tr style=\"text-align: right;\">\n",
       "      <th>agno</th>\n",
       "      <th>2002</th>\n",
       "      <th>2003</th>\n",
       "      <th>2004</th>\n",
       "      <th>2005</th>\n",
       "      <th>2006</th>\n",
       "      <th>2007</th>\n",
       "      <th>2008</th>\n",
       "      <th>2009</th>\n",
       "      <th>2010</th>\n",
       "      <th>2011</th>\n",
       "      <th>2012</th>\n",
       "      <th>2013</th>\n",
       "      <th>2014</th>\n",
       "      <th>2015</th>\n",
       "      <th>2016</th>\n",
       "      <th>2017</th>\n",
       "      <th>2018</th>\n",
       "      <th>2019</th>\n",
       "      <th>2022</th>\n",
       "    </tr>\n",
       "    <tr>\n",
       "      <th>is_duplicate</th>\n",
       "      <th></th>\n",
       "      <th></th>\n",
       "      <th></th>\n",
       "      <th></th>\n",
       "      <th></th>\n",
       "      <th></th>\n",
       "      <th></th>\n",
       "      <th></th>\n",
       "      <th></th>\n",
       "      <th></th>\n",
       "      <th></th>\n",
       "      <th></th>\n",
       "      <th></th>\n",
       "      <th></th>\n",
       "      <th></th>\n",
       "      <th></th>\n",
       "      <th></th>\n",
       "      <th></th>\n",
       "      <th></th>\n",
       "    </tr>\n",
       "  </thead>\n",
       "  <tbody>\n",
       "    <tr>\n",
       "      <th>False</th>\n",
       "      <td>282948</td>\n",
       "      <td>252399</td>\n",
       "      <td>293329</td>\n",
       "      <td>269367</td>\n",
       "      <td>537862</td>\n",
       "      <td>534337</td>\n",
       "      <td>520685</td>\n",
       "      <td>508377</td>\n",
       "      <td>505640</td>\n",
       "      <td>488665</td>\n",
       "      <td>931221</td>\n",
       "      <td>1206320</td>\n",
       "      <td>1201141</td>\n",
       "      <td>1200797</td>\n",
       "      <td>716504</td>\n",
       "      <td>716117</td>\n",
       "      <td>737813</td>\n",
       "      <td>239393</td>\n",
       "      <td>417473</td>\n",
       "    </tr>\n",
       "    <tr>\n",
       "      <th>True</th>\n",
       "      <td>6812</td>\n",
       "      <td>7181</td>\n",
       "      <td>5676</td>\n",
       "      <td>8437</td>\n",
       "      <td>17239</td>\n",
       "      <td>15200</td>\n",
       "      <td>14332</td>\n",
       "      <td>12715</td>\n",
       "      <td>7980</td>\n",
       "      <td>9474</td>\n",
       "      <td>22542</td>\n",
       "      <td>60326</td>\n",
       "      <td>45280</td>\n",
       "      <td>57847</td>\n",
       "      <td>28360</td>\n",
       "      <td>32855</td>\n",
       "      <td>36181</td>\n",
       "      <td>10104</td>\n",
       "      <td>86025</td>\n",
       "    </tr>\n",
       "  </tbody>\n",
       "</table>\n",
       "</div>"
      ],
      "text/plain": [
       "agno            2002    2003    2004    2005    2006    2007    2008    2009  \\\n",
       "is_duplicate                                                                   \n",
       "False         282948  252399  293329  269367  537862  534337  520685  508377   \n",
       "True            6812    7181    5676    8437   17239   15200   14332   12715   \n",
       "\n",
       "agno            2010    2011    2012     2013     2014     2015    2016  \\\n",
       "is_duplicate                                                              \n",
       "False         505640  488665  931221  1206320  1201141  1200797  716504   \n",
       "True            7980    9474   22542    60326    45280    57847   28360   \n",
       "\n",
       "agno            2017    2018    2019    2022  \n",
       "is_duplicate                                  \n",
       "False         716117  737813  239393  417473  \n",
       "True           32855   36181   10104   86025  "
      ]
     },
     "execution_count": 5,
     "metadata": {},
     "output_type": "execute_result"
    }
   ],
   "source": [
    "pd.crosstab(data_tot_mrun.is_duplicate,data_tot_mrun.agno)"
   ]
  },
  {
   "cell_type": "code",
   "execution_count": 6,
   "id": "391b2ebe",
   "metadata": {
    "ExecuteTime": {
     "end_time": "2023-10-27T21:07:07.737323Z",
     "start_time": "2023-10-27T21:07:05.490421Z"
    }
   },
   "outputs": [
    {
     "data": {
      "text/html": [
       "<div>\n",
       "<style scoped>\n",
       "    .dataframe tbody tr th:only-of-type {\n",
       "        vertical-align: middle;\n",
       "    }\n",
       "\n",
       "    .dataframe tbody tr th {\n",
       "        vertical-align: top;\n",
       "    }\n",
       "\n",
       "    .dataframe thead th {\n",
       "        text-align: right;\n",
       "    }\n",
       "</style>\n",
       "<table border=\"1\" class=\"dataframe\">\n",
       "  <thead>\n",
       "    <tr style=\"text-align: right;\">\n",
       "      <th>agno</th>\n",
       "      <th>2002</th>\n",
       "      <th>2003</th>\n",
       "      <th>2004</th>\n",
       "      <th>2005</th>\n",
       "      <th>2006</th>\n",
       "      <th>2007</th>\n",
       "      <th>2008</th>\n",
       "      <th>2009</th>\n",
       "      <th>2010</th>\n",
       "      <th>2011</th>\n",
       "      <th>2012</th>\n",
       "      <th>2013</th>\n",
       "      <th>2014</th>\n",
       "      <th>2015</th>\n",
       "      <th>2016</th>\n",
       "      <th>2017</th>\n",
       "      <th>2018</th>\n",
       "      <th>2019</th>\n",
       "      <th>2022</th>\n",
       "    </tr>\n",
       "    <tr>\n",
       "      <th>is_duplicate</th>\n",
       "      <th></th>\n",
       "      <th></th>\n",
       "      <th></th>\n",
       "      <th></th>\n",
       "      <th></th>\n",
       "      <th></th>\n",
       "      <th></th>\n",
       "      <th></th>\n",
       "      <th></th>\n",
       "      <th></th>\n",
       "      <th></th>\n",
       "      <th></th>\n",
       "      <th></th>\n",
       "      <th></th>\n",
       "      <th></th>\n",
       "      <th></th>\n",
       "      <th></th>\n",
       "      <th></th>\n",
       "      <th></th>\n",
       "    </tr>\n",
       "  </thead>\n",
       "  <tbody>\n",
       "    <tr>\n",
       "      <th>False</th>\n",
       "      <td>0.976491</td>\n",
       "      <td>0.972336</td>\n",
       "      <td>0.981017</td>\n",
       "      <td>0.96963</td>\n",
       "      <td>0.968944</td>\n",
       "      <td>0.97234</td>\n",
       "      <td>0.973212</td>\n",
       "      <td>0.975599</td>\n",
       "      <td>0.984463</td>\n",
       "      <td>0.980981</td>\n",
       "      <td>0.976365</td>\n",
       "      <td>0.952373</td>\n",
       "      <td>0.963672</td>\n",
       "      <td>0.95404</td>\n",
       "      <td>0.961926</td>\n",
       "      <td>0.956133</td>\n",
       "      <td>0.953254</td>\n",
       "      <td>0.959503</td>\n",
       "      <td>0.829145</td>\n",
       "    </tr>\n",
       "    <tr>\n",
       "      <th>True</th>\n",
       "      <td>0.023509</td>\n",
       "      <td>0.027664</td>\n",
       "      <td>0.018983</td>\n",
       "      <td>0.03037</td>\n",
       "      <td>0.031056</td>\n",
       "      <td>0.02766</td>\n",
       "      <td>0.026788</td>\n",
       "      <td>0.024401</td>\n",
       "      <td>0.015537</td>\n",
       "      <td>0.019019</td>\n",
       "      <td>0.023635</td>\n",
       "      <td>0.047627</td>\n",
       "      <td>0.036328</td>\n",
       "      <td>0.04596</td>\n",
       "      <td>0.038074</td>\n",
       "      <td>0.043867</td>\n",
       "      <td>0.046746</td>\n",
       "      <td>0.040497</td>\n",
       "      <td>0.170855</td>\n",
       "    </tr>\n",
       "  </tbody>\n",
       "</table>\n",
       "</div>"
      ],
      "text/plain": [
       "agno              2002      2003      2004     2005      2006     2007  \\\n",
       "is_duplicate                                                             \n",
       "False         0.976491  0.972336  0.981017  0.96963  0.968944  0.97234   \n",
       "True          0.023509  0.027664  0.018983  0.03037  0.031056  0.02766   \n",
       "\n",
       "agno              2008      2009      2010      2011      2012      2013  \\\n",
       "is_duplicate                                                               \n",
       "False         0.973212  0.975599  0.984463  0.980981  0.976365  0.952373   \n",
       "True          0.026788  0.024401  0.015537  0.019019  0.023635  0.047627   \n",
       "\n",
       "agno              2014     2015      2016      2017      2018      2019  \\\n",
       "is_duplicate                                                              \n",
       "False         0.963672  0.95404  0.961926  0.956133  0.953254  0.959503   \n",
       "True          0.036328  0.04596  0.038074  0.043867  0.046746  0.040497   \n",
       "\n",
       "agno              2022  \n",
       "is_duplicate            \n",
       "False         0.829145  \n",
       "True          0.170855  "
      ]
     },
     "execution_count": 6,
     "metadata": {},
     "output_type": "execute_result"
    }
   ],
   "source": [
    "pd.crosstab(data_tot_mrun.is_duplicate,data_tot_mrun.agno, normalize = 'columns')"
   ]
  },
  {
   "cell_type": "code",
   "execution_count": 132,
   "id": "ad78ccf5",
   "metadata": {},
   "outputs": [],
   "source": [
    "data_tot_mrun = data_tot_mrun[data_tot_mrun.is_duplicate==False]"
   ]
  },
  {
   "cell_type": "markdown",
   "id": "c3015538",
   "metadata": {},
   "source": [
    "## Elminar trayectorias inconsistentes"
   ]
  },
  {
   "cell_type": "code",
   "execution_count": 8,
   "id": "9b4d455f",
   "metadata": {
    "ExecuteTime": {
     "end_time": "2023-10-27T21:13:29.043296Z",
     "start_time": "2023-10-27T21:09:02.540340Z"
    }
   },
   "outputs": [],
   "source": [
    "# generar curso numerico\n",
    "data_tot_mrun['grado_num'] = np.nan\n",
    "data_tot_mrun.loc[data_tot_mrun.grado == '2b', 'grado_num'] = 2\n",
    "data_tot_mrun.loc[data_tot_mrun.grado == '4b', 'grado_num'] = 4\n",
    "data_tot_mrun.loc[data_tot_mrun.grado == '6b', 'grado_num'] = 6\n",
    "data_tot_mrun.loc[data_tot_mrun.grado == '8b', 'grado_num'] = 8\n",
    "data_tot_mrun.loc[data_tot_mrun.grado == '2m', 'grado_num'] = 10\n",
    "data_tot_mrun.loc[data_tot_mrun.grado == '3m', 'grado_num'] = 11\n",
    "# generar col\n",
    "data_tot_mrun['agno_menos_grado'] = data_tot_mrun.agno - data_tot_mrun.grado_num\n",
    "# identificar trayectorias consistentes \n",
    "consistent_trajectories = data_tot_mrun.groupby('mrun', as_index=False)['grado_num'].apply(lambda x: x.is_monotonic_increasing)"
   ]
  },
  {
   "cell_type": "code",
   "execution_count": 9,
   "id": "8c556454",
   "metadata": {
    "ExecuteTime": {
     "end_time": "2023-10-27T21:13:29.153977Z",
     "start_time": "2023-10-27T21:13:29.108566Z"
    }
   },
   "outputs": [
    {
     "data": {
      "text/plain": [
       "grado_num\n",
       "True     5176674\n",
       "False       4183\n",
       "Name: count, dtype: int64"
      ]
     },
     "execution_count": 9,
     "metadata": {},
     "output_type": "execute_result"
    }
   ],
   "source": [
    "# N inconsistente\n",
    "consistent_trajectories.grado_num.value_counts()"
   ]
  },
  {
   "cell_type": "code",
   "execution_count": 10,
   "id": "37a1e301",
   "metadata": {
    "ExecuteTime": {
     "end_time": "2023-10-27T21:13:29.232654Z",
     "start_time": "2023-10-27T21:13:29.201771Z"
    }
   },
   "outputs": [
    {
     "name": "stdout",
     "output_type": "stream",
     "text": [
      "2\n",
      "3\n",
      "4\n",
      "5\n"
     ]
    }
   ],
   "source": [
    "# generar todas las combinaciones posibles de años y cursos \n",
    "def findsubsets(s, n):\n",
    "    return list(itertools.combinations(s, n))\n",
    "\n",
    "path_grade = [2,2,2,2,2,4,4,4,4,4,6,6,6,6,6,8,8,8,8,8,10,10,10,10,10,11,11,11,11,11]\n",
    "path_year = list(range(2002,2020)) + [2022]\n",
    "max_path_grade = []\n",
    "max_path_year = []\n",
    "for n in [2,3,4,5]:\n",
    "    print(n)\n",
    "    max_path_grade += findsubsets(path_grade, n)\n",
    "    max_path_year += findsubsets(path_year, n)"
   ]
  },
  {
   "cell_type": "code",
   "execution_count": 11,
   "id": "55ec0b11",
   "metadata": {
    "ExecuteTime": {
     "end_time": "2023-10-27T21:13:31.741434Z",
     "start_time": "2023-10-27T21:13:29.487819Z"
    },
    "scrolled": true
   },
   "outputs": [
    {
     "name": "stdout",
     "output_type": "stream",
     "text": [
      "agno\n",
      "idalumno\n",
      "cohort_number\n",
      "grado_num\n",
      "agno_menos_grado\n",
      "mrun\n",
      "rbd\n"
     ]
    }
   ],
   "source": [
    "for col in ['agno', 'idalumno', 'cohort_number','grado_num', 'agno_menos_grado']:\n",
    "    print(col)\n",
    "    data_tot_mrun[col] = data_tot_mrun[col].astype(int)\n",
    "\n",
    "for col in ['mrun', 'rbd']:\n",
    "    print(col)\n",
    "    data_tot_mrun[col] = data_tot_mrun[col].astype(float)"
   ]
  },
  {
   "cell_type": "code",
   "execution_count": 12,
   "id": "c2c0f46d",
   "metadata": {
    "ExecuteTime": {
     "end_time": "2023-10-27T21:33:41.883543Z",
     "start_time": "2023-10-27T21:13:31.977815Z"
    },
    "scrolled": true
   },
   "outputs": [
    {
     "name": "stdout",
     "output_type": "stream",
     "text": [
      "0.0 %\n",
      "2.0 %\n",
      "5.0 %\n",
      "7.0 %\n",
      "10.0 %\n",
      "12.0 %\n",
      "14.0 %\n",
      "17.0 %\n",
      "19.0 %\n",
      "22.0 %\n",
      "24.0 %\n",
      "26.0 %\n",
      "29.0 %\n",
      "31.0 %\n",
      "33.0 %\n",
      "36.0 %\n",
      "38.0 %\n",
      "41.0 %\n",
      "43.0 %\n",
      "45.0 %\n",
      "48.0 %\n",
      "50.0 %\n",
      "53.0 %\n",
      "55.0 %\n",
      "57.0 %\n",
      "60.0 %\n",
      "62.0 %\n",
      "65.0 %\n",
      "67.0 %\n",
      "69.0 %\n",
      "72.0 %\n",
      "74.0 %\n",
      "77.0 %\n",
      "79.0 %\n",
      "81.0 %\n",
      "84.0 %\n",
      "86.0 %\n",
      "88.0 %\n",
      "91.0 %\n",
      "93.0 %\n",
      "96.0 %\n",
      "98.0 %\n"
     ]
    }
   ],
   "source": [
    "# trayectorias no consistentes: pasar por 5 pruebas para eliminar filas malas\n",
    "non_consistent = list(consistent_trajectories[consistent_trajectories.grado_num == False].mrun)\n",
    "df_consistent = pd.DataFrame(columns = data_tot_mrun.columns)\n",
    "c = 0\n",
    "N = len(non_consistent)\n",
    "len_1 = []\n",
    "for s in non_consistent:\n",
    "    # counting\n",
    "    if c%100 == 0:\n",
    "        print(np.round(100*c/N),'%')\n",
    "    c+=1\n",
    "    \n",
    "    df = data_tot_mrun[data_tot_mrun.mrun == s]\n",
    "    # if more than two points, try to get a subset that is correct\n",
    "    if len(df) > 2:\n",
    "        ind = df.index\n",
    "        dict_df = {x : 0 for x in ind}\n",
    "        \n",
    "        for i in ind:\n",
    "            df_i = df[df.index != i]\n",
    "\n",
    "            if (tuple(df_i.grado_num.values) in max_path_grade): \n",
    "                dict_df[i] +=1\n",
    "\n",
    "            if (tuple(df_i.agno.values) in max_path_year): # & ():\n",
    "                dict_df[i] +=1\n",
    "\n",
    "            if df_i.cohort_number.is_monotonic_increasing:\n",
    "                dict_df[i] +=1\n",
    "\n",
    "            if df_i.agno_menos_grado.is_monotonic_increasing:\n",
    "                dict_df[i] +=1\n",
    "        \n",
    "        m = max(dict_df.values())\n",
    "        i_out = [i for i in dict_df if dict_df[i]==m][0]\n",
    "        df_consistent = pd.concat([df_consistent,df[df.index != i_out]])\n",
    "        \n",
    "    else:\n",
    "        len_1+=[s]\n",
    "        \n",
    "# De aquellas trayectorias inconsistentes de largo 2, dejar una observación al azar\n",
    "df_inconsitent_short = data_tot_mrun[data_tot_mrun.mrun.isin(len_1)]\n",
    "df_inconsitent_short = df_inconsitent_short.sample(frac=1)\n",
    "df_inconsitent_short = df_inconsitent_short.drop_duplicates(subset=['mrun'],keep='first')\n",
    "# concat\n",
    "df_consistent = pd.concat([df_consistent,df_inconsitent_short])"
   ]
  },
  {
   "cell_type": "code",
   "execution_count": 13,
   "id": "d7c324d3",
   "metadata": {
    "ExecuteTime": {
     "end_time": "2023-10-27T21:33:42.182889Z",
     "start_time": "2023-10-27T21:33:42.167927Z"
    }
   },
   "outputs": [
    {
     "name": "stdout",
     "output_type": "stream",
     "text": [
      "agno\n",
      "idalumno\n",
      "cohort_number\n",
      "grado_num\n",
      "agno_menos_grado\n",
      "mrun\n",
      "rbd\n"
     ]
    }
   ],
   "source": [
    "for col in ['agno', 'idalumno', 'cohort_number','grado_num', 'agno_menos_grado']:\n",
    "    print(col)\n",
    "    df_consistent[col] = df_consistent[col].astype(int)\n",
    "\n",
    "for col in ['mrun', 'rbd']:\n",
    "    print(col)\n",
    "    df_consistent[col] = df_consistent[col].astype(float)"
   ]
  },
  {
   "cell_type": "code",
   "execution_count": 14,
   "id": "5f6cc33e",
   "metadata": {
    "ExecuteTime": {
     "end_time": "2023-10-27T21:33:44.684486Z",
     "start_time": "2023-10-27T21:33:42.468410Z"
    }
   },
   "outputs": [],
   "source": [
    "# sacar todo lo inconsistente\n",
    "data_tot_mrun2 = data_tot_mrun[~data_tot_mrun.mrun.isin(non_consistent)]\n",
    "# obtener nuevas trayectorias consistentes (sacando las de largo 2 y las que aún eran incosistentes)\n",
    "df = df_consistent.groupby('mrun', as_index=False)['grado_num'].apply(lambda x: x.is_monotonic_increasing)\n",
    "mrun_consistentes = df[df.grado_num == True].mrun.unique()\n",
    "# nuevas filas a agregar\n",
    "df_consistent2 = df_consistent[df_consistent.mrun.isin(mrun_consistentes)]\n",
    "data_tot_mrun2 = pd.concat([data_tot_mrun2,df_consistent2])"
   ]
  },
  {
   "cell_type": "markdown",
   "id": "48061b20",
   "metadata": {},
   "source": [
    "Quedan 1,400 filas con repetidos [mrun, agno], pues aún no podemos saber cual es el correcto. Al cruzar con matrícula oficial hay que subsanar esto."
   ]
  },
  {
   "cell_type": "markdown",
   "id": "a9374061",
   "metadata": {},
   "source": [
    "## Guardar "
   ]
  },
  {
   "cell_type": "code",
   "execution_count": 15,
   "id": "06bb9804",
   "metadata": {
    "ExecuteTime": {
     "end_time": "2023-10-27T21:34:30.760872Z",
     "start_time": "2023-10-27T21:33:44.983509Z"
    }
   },
   "outputs": [],
   "source": [
    "# Guardar \n",
    "data_tot_mrun2.drop(columns= ['grado_num', 'cohort_number', 'agno_menos_grado'],inplace=True)\n",
    "data_tot_mrun2.rename(columns={'grado':'curso'},inplace=True)\n",
    "data_tot_mrun2['in_simce'] = 1 \n",
    "data_tot_mrun2.to_csv('Datos\\Intermedios\\Agencia\\20231017_idalumno_match_mrun_2002_2022.csv', index=False) # mrun_for_idalumnoT15_cs"
   ]
  },
  {
   "cell_type": "markdown",
   "id": "0563c4d8",
   "metadata": {},
   "source": [
    "# DF enrollment grade 1\n",
    "\n",
    "- MAT_1b_data_acum >> 'agno', 'mrun', 'n_cohorte'\n",
    "- Estudio de casos fill nan "
   ]
  },
  {
   "cell_type": "code",
   "execution_count": 213,
   "id": "0627de3d",
   "metadata": {},
   "outputs": [
    {
     "name": "stdout",
     "output_type": "stream",
     "text": [
      "\\REND_2.csv\n",
      "268714\n",
      "\\REND_3.csv\n",
      "268428\n",
      "\\MAT_4.csv\n",
      "262578\n",
      "\\MAT_5.csv\n",
      "260194\n",
      "\\MAT_6.csv\n",
      "254635\n",
      "\\MAT_7.csv\n",
      "259015\n",
      "\\MAT_8.csv\n",
      "250981\n",
      "\\MAT_9.csv\n",
      "250063\n",
      "\\MAT_10.csv\n",
      "241874\n",
      "\\MAT_11.csv\n",
      "238385\n",
      "\\MAT_12.csv\n",
      "237651\n",
      "\\MAT_13.csv\n",
      "242683\n"
     ]
    }
   ],
   "source": [
    "# OBTENER TODO 1B PARA 11 PRIMERAS TRAYECTORIAS\n",
    "MAT_1b_data_acum = pd.DataFrame(columns = ['agno', 'mrun'])\n",
    "\n",
    "# 2002 y 2003 from Rendimiento \n",
    "for file in [r'\\REND_' + str(x) + '.csv' for x in [2,3]] + [r'\\MAT_' + str(x) + '.csv' for x in [4,5,6,7,8,9,10,11,12,13]]:\n",
    "    print(file)\n",
    "    \n",
    "    try:\n",
    "        MAT_data = pd.read_csv(EE_path + file,encoding = 'unicode_escape', sep = ';', low_memory=False, usecols=['AGNO','MRUN','COD_ENSE','COD_GRADO'])\n",
    "    except: \n",
    "        MAT_data = pd.read_csv(EE_path + file,encoding = 'unicode_escape', sep = ';', low_memory=False, usecols=['agno','mrun','cod_ense','cod_grado'])\n",
    "    \n",
    "    MAT_data.columns = [x.lower() for x in MAT_data.columns]\n",
    "    MAT_data.mrun.replace(\" \",np.nan,inplace=True)\n",
    "    MAT_data['mrun'] = pd.to_numeric(MAT_data.mrun)\n",
    "    MAT_data['in_1b'] = (MAT_data.cod_ense == 110) & (MAT_data.cod_grado == 1)\n",
    "    MAT_data = MAT_data[MAT_data.in_1b==1]    \n",
    "    MAT_data = MAT_data.drop_duplicates(subset=['mrun'], keep = 'first')  \n",
    "    print(len(MAT_data))\n",
    "    \n",
    "    MAT_1b_data_acum = pd.concat([MAT_1b_data_acum, MAT_data[['agno', 'mrun']]])\n",
    "\n",
    "# Dejar sólo primera aparición en grade 1 (EXCEPTO 2002 QUE NO VEMOS REPITENTES DESDE 2001)\n",
    "MAT_1b_data_acum = MAT_1b_data_acum.dropna(subset='mrun')\n",
    "MAT_1b_data_acum = MAT_1b_data_acum.sort_values(by=['mrun','agno'], ascending=True)\n",
    "MAT_1b_data_acum['appearance_count'] = MAT_1b_data_acum.groupby(['mrun']).cumcount() + 1\n",
    "MAT_1b_data_acum = MAT_1b_data_acum[MAT_1b_data_acum.appearance_count == 1]\n",
    "MAT_1b_data_acum = MAT_1b_data_acum.drop(columns = ['appearance_count'])\n",
    "\n",
    "MAT_1b_data_acum.to_csv(r'Datos\\Intermedios\\DatosAbiertos\\matricula_grade1_mrun_T1_T11_2002_2013.csv', index=False) # matricula_1b_T1_to_T10_cohorts_mrun"
   ]
  },
  {
   "cell_type": "markdown",
   "id": "7ad0da73",
   "metadata": {},
   "source": [
    "# DF schools\n",
    "EE_data_acum >>> 'agno','rbd','cod_depe','rural_rbd'"
   ]
  },
  {
   "cell_type": "code",
   "execution_count": 21,
   "id": "692bf038",
   "metadata": {
    "ExecuteTime": {
     "end_time": "2023-10-28T03:53:44.723511Z",
     "start_time": "2023-10-28T03:53:41.387491Z"
    }
   },
   "outputs": [
    {
     "name": "stdout",
     "output_type": "stream",
     "text": [
      "\\EE_4.csv\n",
      "cod_depe\n",
      "2    5013\n",
      "3    4269\n",
      "1    1082\n",
      "4     860\n",
      "5      65\n",
      "Name: count, dtype: int64\n",
      "\\EE_5.csv\n",
      "cod_depe\n",
      "2    4883\n",
      "3    4630\n",
      "1    1215\n",
      "4     763\n",
      "5      70\n",
      "Name: count, dtype: int64\n",
      "\\EE_6.csv\n",
      "cod_depe\n",
      "3    4891\n",
      "2    4780\n",
      "1    1191\n",
      "4     733\n",
      "5      70\n",
      "Name: count, dtype: int64\n",
      "\\EE_7.csv\n",
      "cod_depe\n",
      "3    5044\n",
      "2    4719\n",
      "1    1189\n",
      "4     728\n",
      "5      70\n",
      "Name: count, dtype: int64\n",
      "\\EE_8.csv\n",
      "cod_depe\n",
      "3    5252\n",
      "2    4660\n",
      "1    1185\n",
      "4     727\n",
      "5      70\n",
      "Name: count, dtype: int64\n",
      "\\EE_9.csv\n",
      "cod_depe\n",
      "3    5545\n",
      "2    4634\n",
      "1    1177\n",
      "4     671\n",
      "5      70\n",
      "Name: count, dtype: int64\n",
      "\\EE_10.csv\n",
      "cod_depe\n",
      "3    5674\n",
      "2    4560\n",
      "1    1166\n",
      "4     674\n",
      "5      70\n",
      "Name: count, dtype: int64\n",
      "\\EE_11.csv\n",
      "cod_depe\n",
      "3    5756\n",
      "2    4439\n",
      "1    1141\n",
      "4     657\n",
      "5      70\n",
      "Name: count, dtype: int64\n",
      "\\EE_12.csv\n",
      "cod_depe\n",
      "3    5965\n",
      "2    4383\n",
      "1    1131\n",
      "4     625\n",
      "5      70\n",
      "Name: count, dtype: int64\n",
      "\\EE_13.csv\n",
      "cod_depe\n",
      "3    6017\n",
      "2    4309\n",
      "1    1116\n",
      "4     602\n",
      "5      70\n",
      "Name: count, dtype: int64\n",
      "\\EE_14.csv\n",
      "cod_depe\n",
      "3    6065\n",
      "2    4225\n",
      "1    1106\n",
      "4     595\n",
      "5      70\n",
      "Name: count, dtype: int64\n",
      "\\EE_15.csv\n",
      "cod_depe\n",
      "3    7582\n",
      "2    5471\n",
      "4    1471\n",
      "1    1320\n",
      "5      70\n",
      "Name: count, dtype: int64\n",
      "\\EE_16.csv\n",
      "cod_depe\n",
      "3    7604\n",
      "2    5481\n",
      "4    1511\n",
      "1    1324\n",
      "5      70\n",
      "Name: count, dtype: int64\n",
      "\\EE_17.csv\n",
      "cod_depe\n",
      "3    7612\n",
      "2    5483\n",
      "4    1535\n",
      "1    1324\n",
      "5      70\n",
      "Name: count, dtype: int64\n",
      "\\EE_18.csv\n",
      "cod_depe\n",
      "3    7531\n",
      "2    5288\n",
      "4    1633\n",
      "1    1270\n",
      "6     252\n",
      "5      70\n",
      "Name: count, dtype: int64\n",
      "\\EE_19.csv\n",
      "cod_depe\n",
      "3    7546\n",
      "2    5307\n",
      "4    1790\n",
      "1    1270\n",
      "6     252\n",
      "5      71\n",
      "Name: count, dtype: int64\n",
      "\\EE_22.csv\n",
      "cod_depe\n",
      "3    7616\n",
      "2    4842\n",
      "4    2074\n",
      "1    1149\n",
      "6     850\n",
      "5      70\n",
      "Name: count, dtype: int64\n"
     ]
    },
    {
     "name": "stderr",
     "output_type": "stream",
     "text": [
      "C:\\Users\\JoaquinFarina\\AppData\\Local\\Temp\\ipykernel_23936\\162591542.py:48: SettingWithCopyWarning: \n",
      "A value is trying to be set on a copy of a slice from a DataFrame.\n",
      "Try using .loc[row_indexer,col_indexer] = value instead\n",
      "\n",
      "See the caveats in the documentation: https://pandas.pydata.org/pandas-docs/stable/user_guide/indexing.html#returning-a-view-versus-a-copy\n",
      "  EE_2002['agno'] = 2002\n",
      "C:\\Users\\JoaquinFarina\\AppData\\Local\\Temp\\ipykernel_23936\\162591542.py:50: SettingWithCopyWarning: \n",
      "A value is trying to be set on a copy of a slice from a DataFrame.\n",
      "Try using .loc[row_indexer,col_indexer] = value instead\n",
      "\n",
      "See the caveats in the documentation: https://pandas.pydata.org/pandas-docs/stable/user_guide/indexing.html#returning-a-view-versus-a-copy\n",
      "  EE_2003['agno'] = 2003\n"
     ]
    }
   ],
   "source": [
    "EE_data_acum = pd.DataFrame(columns = ['agno','rbd','cod_depe','rural_rbd','cod_com_rbd','cod_reg_rbd'])\n",
    "for file in [r'\\EE_' + str(x) + '.csv' for x in range(4,20)] + [r'\\EE_22.csv']:\n",
    "    print(file)\n",
    "    for char in  [r'\\EE_' + str(x) + '.csv' for x in range(4,13)]+ [r'\\EE_22.csv']:\n",
    "        if file == char:\n",
    "            EE_data = pd.read_csv(EE_path + file,sep = ';')\n",
    "\n",
    "    for char in  [r'\\EE_' + str(x) + '.csv' for x in range(13,20)] :\n",
    "        if file == char:\n",
    "            EE_data = pd.read_csv(EE_path + file)\n",
    "        \n",
    "    if 'ïagno' in EE_data.columns:\n",
    "        EE_data.rename(columns={'ïagno':'agno'},inplace=True)\n",
    "\n",
    "    EE_data.columns = [x.lower() for x in EE_data.columns]\n",
    "\n",
    "    if '_4' in file:\n",
    "        EE_data['cod_reg_rbd'] = np.nan\n",
    "        \n",
    "    if '_5' in file:\n",
    "        EE_data_acum.drop(columns = ['cod_reg_rbd'], inplace=True)\n",
    "        EE_data_acum = pd.merge(EE_data_acum,EE_data[['cod_com_rbd','cod_reg_rbd']].drop_duplicates(), on = 'cod_com_rbd', how = 'left' )\n",
    "    \n",
    "    EE_data_acum = pd.concat([EE_data_acum, EE_data[['agno','rbd','cod_depe','rural_rbd','cod_com_rbd','cod_reg_rbd']]])\n",
    "    print(EE_data.cod_depe.value_counts())\n",
    "\n",
    "# Ajustar dependencia \n",
    "# Original\n",
    "#1: Corporación Municipal\n",
    "#2: Municipal DAEM\n",
    "#3: Particular Subvencionado\n",
    "#4: Particular Pagado (o no subvencionado)\n",
    "#5: Corporación de Administración Delegada (DL 3166)\n",
    "#6: Servicio Local de Educación\n",
    "    \n",
    "# Municipal\n",
    "EE_data_acum['cod_depe'] = EE_data_acum.cod_depe.replace(2,1)\n",
    "# Particular subvencionado\n",
    "EE_data_acum['cod_depe'] = EE_data_acum.cod_depe.replace(3,2)\n",
    "EE_data_acum['cod_depe'] = EE_data_acum.cod_depe.replace(5,2)\n",
    "# SLEP a municipal\n",
    "EE_data_acum['cod_depe'] = EE_data_acum.cod_depe.replace(6,1)\n",
    "# Privados con número 3 \n",
    "EE_data_acum['cod_depe'] = EE_data_acum.cod_depe.replace(4,3)\n",
    "\n",
    "# 2002 y 2003 se repiten por no disponibilidad \n",
    "EE_2002 = EE_data_acum[EE_data_acum.agno == 2004]\n",
    "EE_2002['agno'] = 2002\n",
    "EE_2003 = EE_data_acum[EE_data_acum.agno == 2004]\n",
    "EE_2003['agno'] = 2003\n",
    "\n",
    "EE_data_acum = pd.concat([EE_data_acum, EE_2002])\n",
    "EE_data_acum = pd.concat([EE_data_acum, EE_2003])\n",
    "\n",
    "EE_data_acum.to_csv(r'Datos\\Intermedios\\DatosAbiertos\\20231117_schools_2002_2012.csv', index=False)"
   ]
  },
  {
   "cell_type": "markdown",
   "id": "b546593f",
   "metadata": {},
   "source": [
    "# DF GPA + grade retention + attendance"
   ]
  },
  {
   "cell_type": "code",
   "execution_count": 2,
   "id": "b6a62c0d",
   "metadata": {
    "ExecuteTime": {
     "end_time": "2023-10-29T15:06:54.940977Z",
     "start_time": "2023-10-29T15:06:54.934671Z"
    }
   },
   "outputs": [],
   "source": [
    "def map_cod_curso(row):\n",
    "    ense = row['cod_ense']\n",
    "    grado = row['cod_grado']\n",
    "\n",
    "    if ense == 110 and grado < 10:\n",
    "        return [grado, np.nan]\n",
    "    elif grado == 1 and ense in [310, 410, 510, 610, 710, 810, 910]:\n",
    "        return [9, np.nan]\n",
    "    elif grado == 2 and ense in [310, 410, 510, 610, 710, 810, 910]:\n",
    "        return [10,np.nan]\n",
    "    elif grado == 3 and ense == 310:\n",
    "        return [11, 'HC']\n",
    "    elif grado == 3 and ense in [410, 510, 610, 710, 810, 910]:\n",
    "        return [11, 'TP']\n",
    "    elif grado == 4 and ense == 310:\n",
    "        return [12, 'HC']\n",
    "    elif grado == 4 and ense in [410, 510, 610, 710, 810, 910]:\n",
    "        return [12, 'TP']\n",
    "    else:\n",
    "        return [np.nan, np.nan]"
   ]
  },
  {
   "cell_type": "code",
   "execution_count": 7,
   "id": "09507984",
   "metadata": {
    "ExecuteTime": {
     "end_time": "2023-10-29T15:28:55.094562Z",
     "start_time": "2023-10-29T15:11:43.728776Z"
    },
    "scrolled": true
   },
   "outputs": [
    {
     "name": "stdout",
     "output_type": "stream",
     "text": [
      "\\REND_2.csv\n",
      "<class 'pandas.core.frame.DataFrame'>\n",
      "Index: 3293117 entries, 4185 to 1738042\n",
      "Data columns (total 11 columns):\n",
      " #   Column      Dtype  \n",
      "---  ------      -----  \n",
      " 0   agno        int64  \n",
      " 1   rbd         int64  \n",
      " 2   cod_ense    int64  \n",
      " 3   cod_grado   int64  \n",
      " 4   mrun        object \n",
      " 5   gen_alu     int64  \n",
      " 6   prom_gral   object \n",
      " 7   asistencia  int64  \n",
      " 8   sit_fin     object \n",
      " 9   curso       float64\n",
      " 10  HS_type     object \n",
      "dtypes: float64(1), int64(6), object(4)\n",
      "memory usage: 301.5+ MB\n",
      "None\n",
      "\\REND_3.csv\n",
      "<class 'pandas.core.frame.DataFrame'>\n",
      "Index: 3396097 entries, 4213 to 1767934\n",
      "Data columns (total 11 columns):\n",
      " #   Column      Dtype  \n",
      "---  ------      -----  \n",
      " 0   agno        int64  \n",
      " 1   rbd         int64  \n",
      " 2   cod_ense    int64  \n",
      " 3   cod_grado   int64  \n",
      " 4   mrun        object \n",
      " 5   gen_alu     int64  \n",
      " 6   prom_gral   object \n",
      " 7   asistencia  int64  \n",
      " 8   sit_fin     object \n",
      " 9   curso       float64\n",
      " 10  HS_type     object \n",
      "dtypes: float64(1), int64(6), object(4)\n",
      "memory usage: 310.9+ MB\n",
      "None\n",
      "\\REND_4.csv\n",
      "<class 'pandas.core.frame.DataFrame'>\n",
      "Index: 3430584 entries, 0 to 1699862\n",
      "Data columns (total 11 columns):\n",
      " #   Column      Dtype  \n",
      "---  ------      -----  \n",
      " 0   agno        int64  \n",
      " 1   rbd         int64  \n",
      " 2   cod_ense    int64  \n",
      " 3   cod_grado   int64  \n",
      " 4   mrun        object \n",
      " 5   gen_alu     int64  \n",
      " 6   prom_gral   object \n",
      " 7   asistencia  int64  \n",
      " 8   sit_fin     object \n",
      " 9   curso       float64\n",
      " 10  HS_type     object \n",
      "dtypes: float64(1), int64(6), object(4)\n",
      "memory usage: 314.1+ MB\n",
      "None\n",
      "\\REND_5.csv\n",
      "<class 'pandas.core.frame.DataFrame'>\n",
      "Index: 3420921 entries, 3932 to 1638890\n",
      "Data columns (total 11 columns):\n",
      " #   Column      Dtype  \n",
      "---  ------      -----  \n",
      " 0   agno        int64  \n",
      " 1   rbd         int64  \n",
      " 2   cod_ense    int64  \n",
      " 3   cod_grado   int64  \n",
      " 4   mrun        object \n",
      " 5   gen_alu     int64  \n",
      " 6   prom_gral   object \n",
      " 7   asistencia  int64  \n",
      " 8   sit_fin     object \n",
      " 9   curso       float64\n",
      " 10  HS_type     object \n",
      "dtypes: float64(1), int64(6), object(4)\n",
      "memory usage: 313.2+ MB\n",
      "None\n",
      "\\REND_6.csv\n",
      "<class 'pandas.core.frame.DataFrame'>\n",
      "Index: 3378936 entries, 3925 to 1673726\n",
      "Data columns (total 11 columns):\n",
      " #   Column      Dtype  \n",
      "---  ------      -----  \n",
      " 0   agno        int64  \n",
      " 1   rbd         int64  \n",
      " 2   cod_ense    int64  \n",
      " 3   cod_grado   int64  \n",
      " 4   mrun        object \n",
      " 5   gen_alu     int64  \n",
      " 6   prom_gral   object \n",
      " 7   asistencia  int64  \n",
      " 8   sit_fin     object \n",
      " 9   curso       float64\n",
      " 10  HS_type     object \n",
      "dtypes: float64(1), int64(6), object(4)\n",
      "memory usage: 309.4+ MB\n",
      "None\n",
      "\\REND_7.csv\n",
      "<class 'pandas.core.frame.DataFrame'>\n",
      "Index: 3325897 entries, 3433 to 1618300\n",
      "Data columns (total 11 columns):\n",
      " #   Column      Dtype  \n",
      "---  ------      -----  \n",
      " 0   agno        int64  \n",
      " 1   rbd         int64  \n",
      " 2   cod_ense    int64  \n",
      " 3   cod_grado   int64  \n",
      " 4   mrun        object \n",
      " 5   gen_alu     int64  \n",
      " 6   prom_gral   object \n",
      " 7   asistencia  int64  \n",
      " 8   sit_fin     object \n",
      " 9   curso       float64\n",
      " 10  HS_type     object \n",
      "dtypes: float64(1), int64(6), object(4)\n",
      "memory usage: 304.5+ MB\n",
      "None\n",
      "\\REND_8.csv\n",
      "<class 'pandas.core.frame.DataFrame'>\n",
      "Index: 3273997 entries, 7146 to 1558705\n",
      "Data columns (total 11 columns):\n",
      " #   Column      Dtype  \n",
      "---  ------      -----  \n",
      " 0   agno        int64  \n",
      " 1   rbd         int64  \n",
      " 2   cod_ense    int64  \n",
      " 3   cod_grado   int64  \n",
      " 4   mrun        object \n",
      " 5   gen_alu     int64  \n",
      " 6   prom_gral   object \n",
      " 7   asistencia  int64  \n",
      " 8   sit_fin     object \n",
      " 9   curso       float64\n",
      " 10  HS_type     object \n",
      "dtypes: float64(1), int64(6), object(4)\n",
      "memory usage: 299.7+ MB\n",
      "None\n",
      "\\REND_9.csv\n",
      "<class 'pandas.core.frame.DataFrame'>\n",
      "Index: 3241099 entries, 2083457 to 1495246\n",
      "Data columns (total 11 columns):\n",
      " #   Column      Dtype  \n",
      "---  ------      -----  \n",
      " 0   agno        int64  \n",
      " 1   rbd         int64  \n",
      " 2   cod_ense    int64  \n",
      " 3   cod_grado   int64  \n",
      " 4   mrun        int64  \n",
      " 5   gen_alu     int64  \n",
      " 6   prom_gral   object \n",
      " 7   asistencia  int64  \n",
      " 8   sit_fin     object \n",
      " 9   curso       float64\n",
      " 10  HS_type     object \n",
      "dtypes: float64(1), int64(7), object(3)\n",
      "memory usage: 296.7+ MB\n",
      "None\n",
      "\\REND_10.csv\n",
      "<class 'pandas.core.frame.DataFrame'>\n",
      "Index: 3203511 entries, 1933085 to 2977652\n",
      "Data columns (total 11 columns):\n",
      " #   Column      Dtype  \n",
      "---  ------      -----  \n",
      " 0   agno        int64  \n",
      " 1   rbd         int64  \n",
      " 2   cod_ense    int64  \n",
      " 3   cod_grado   int64  \n",
      " 4   mrun        int64  \n",
      " 5   gen_alu     int64  \n",
      " 6   prom_gral   object \n",
      " 7   asistencia  int64  \n",
      " 8   sit_fin     object \n",
      " 9   curso       float64\n",
      " 10  HS_type     object \n",
      "dtypes: float64(1), int64(7), object(3)\n",
      "memory usage: 293.3+ MB\n",
      "None\n",
      "\\REND_11.csv\n",
      "<class 'pandas.core.frame.DataFrame'>\n",
      "Index: 3151182 entries, 1887735 to 1901677\n",
      "Data columns (total 11 columns):\n",
      " #   Column      Dtype  \n",
      "---  ------      -----  \n",
      " 0   agno        int64  \n",
      " 1   rbd         int64  \n",
      " 2   cod_ense    int64  \n",
      " 3   cod_grado   int64  \n",
      " 4   mrun        int64  \n",
      " 5   gen_alu     int64  \n",
      " 6   prom_gral   object \n",
      " 7   asistencia  int64  \n",
      " 8   sit_fin     object \n",
      " 9   curso       float64\n",
      " 10  HS_type     object \n",
      "dtypes: float64(1), int64(7), object(3)\n",
      "memory usage: 288.5+ MB\n",
      "None\n",
      "\\REND_12.csv\n",
      "<class 'pandas.core.frame.DataFrame'>\n",
      "Index: 3098381 entries, 3266817 to 1933190\n",
      "Data columns (total 11 columns):\n",
      " #   Column      Dtype  \n",
      "---  ------      -----  \n",
      " 0   agno        int64  \n",
      " 1   rbd         int64  \n",
      " 2   cod_ense    int64  \n",
      " 3   cod_grado   int64  \n",
      " 4   mrun        object \n",
      " 5   gen_alu     int64  \n",
      " 6   prom_gral   object \n",
      " 7   asistencia  int64  \n",
      " 8   sit_fin     object \n",
      " 9   curso       float64\n",
      " 10  HS_type     object \n",
      "dtypes: float64(1), int64(6), object(4)\n",
      "memory usage: 283.7+ MB\n",
      "None\n",
      "\\REND_13.csv\n",
      "<class 'pandas.core.frame.DataFrame'>\n",
      "Index: 3059580 entries, 2112021 to 2286962\n",
      "Data columns (total 11 columns):\n",
      " #   Column      Dtype  \n",
      "---  ------      -----  \n",
      " 0   agno        int64  \n",
      " 1   rbd         int64  \n",
      " 2   cod_ense    int64  \n",
      " 3   cod_grado   int64  \n",
      " 4   mrun        int64  \n",
      " 5   gen_alu     int64  \n",
      " 6   prom_gral   object \n",
      " 7   asistencia  int64  \n",
      " 8   sit_fin     object \n",
      " 9   curso       float64\n",
      " 10  HS_type     object \n",
      "dtypes: float64(1), int64(7), object(3)\n",
      "memory usage: 280.1+ MB\n",
      "None\n",
      "\\REND_14.csv\n",
      "<class 'pandas.core.frame.DataFrame'>\n",
      "Index: 3039754 entries, 1281052 to 2953343\n",
      "Data columns (total 11 columns):\n",
      " #   Column      Dtype  \n",
      "---  ------      -----  \n",
      " 0   agno        int64  \n",
      " 1   rbd         int64  \n",
      " 2   cod_ense    int64  \n",
      " 3   cod_grado   int64  \n",
      " 4   mrun        int64  \n",
      " 5   gen_alu     int64  \n",
      " 6   prom_gral   object \n",
      " 7   asistencia  int64  \n",
      " 8   sit_fin     object \n",
      " 9   curso       float64\n",
      " 10  HS_type     object \n",
      "dtypes: float64(1), int64(7), object(3)\n",
      "memory usage: 278.3+ MB\n",
      "None\n",
      "\\REND_15.csv\n",
      "<class 'pandas.core.frame.DataFrame'>\n",
      "Index: 3038287 entries, 1271238 to 179548\n",
      "Data columns (total 11 columns):\n",
      " #   Column      Dtype  \n",
      "---  ------      -----  \n",
      " 0   agno        int64  \n",
      " 1   rbd         int64  \n",
      " 2   cod_ense    int64  \n",
      " 3   cod_grado   int64  \n",
      " 4   mrun        int64  \n",
      " 5   gen_alu     int64  \n",
      " 6   prom_gral   object \n",
      " 7   asistencia  int64  \n",
      " 8   sit_fin     object \n",
      " 9   curso       float64\n",
      " 10  HS_type     object \n",
      "dtypes: float64(1), int64(7), object(3)\n",
      "memory usage: 278.2+ MB\n",
      "None\n",
      "\\REND_16.csv\n",
      "<class 'pandas.core.frame.DataFrame'>\n",
      "Index: 3038592 entries, 1256389 to 514450\n",
      "Data columns (total 11 columns):\n",
      " #   Column      Dtype  \n",
      "---  ------      -----  \n",
      " 0   agno        int64  \n",
      " 1   rbd         int64  \n",
      " 2   cod_ense    int64  \n",
      " 3   cod_grado   int64  \n",
      " 4   mrun        int64  \n",
      " 5   gen_alu     int64  \n",
      " 6   prom_gral   object \n",
      " 7   asistencia  int64  \n",
      " 8   sit_fin     object \n",
      " 9   curso       float64\n",
      " 10  HS_type     object \n",
      "dtypes: float64(1), int64(7), object(3)\n",
      "memory usage: 278.2+ MB\n",
      "None\n",
      "\\REND_17.csv\n",
      "<class 'pandas.core.frame.DataFrame'>\n",
      "Index: 3053469 entries, 1261677 to 111301\n",
      "Data columns (total 11 columns):\n",
      " #   Column      Dtype  \n",
      "---  ------      -----  \n",
      " 0   agno        int64  \n",
      " 1   rbd         int64  \n",
      " 2   cod_ense    int64  \n",
      " 3   cod_grado   int64  \n",
      " 4   mrun        int64  \n",
      " 5   gen_alu     int64  \n",
      " 6   prom_gral   object \n",
      " 7   asistencia  int64  \n",
      " 8   sit_fin     object \n",
      " 9   curso       float64\n",
      " 10  HS_type     object \n",
      "dtypes: float64(1), int64(7), object(3)\n",
      "memory usage: 279.6+ MB\n",
      "None\n",
      "\\REND_18.csv\n"
     ]
    },
    {
     "name": "stdout",
     "output_type": "stream",
     "text": [
      "<class 'pandas.core.frame.DataFrame'>\n",
      "Index: 3084969 entries, 2173139 to 1572854\n",
      "Data columns (total 11 columns):\n",
      " #   Column      Dtype  \n",
      "---  ------      -----  \n",
      " 0   agno        int64  \n",
      " 1   rbd         int64  \n",
      " 2   cod_ense    int64  \n",
      " 3   cod_grado   int64  \n",
      " 4   mrun        int64  \n",
      " 5   gen_alu     int64  \n",
      " 6   prom_gral   object \n",
      " 7   asistencia  int64  \n",
      " 8   sit_fin     object \n",
      " 9   curso       float64\n",
      " 10  HS_type     object \n",
      "dtypes: float64(1), int64(7), object(3)\n",
      "memory usage: 282.4+ MB\n",
      "None\n",
      "\\REND_19.csv\n",
      "<class 'pandas.core.frame.DataFrame'>\n",
      "Index: 3110056 entries, 2193476 to 167089\n",
      "Data columns (total 11 columns):\n",
      " #   Column      Dtype  \n",
      "---  ------      -----  \n",
      " 0   agno        int64  \n",
      " 1   rbd         int64  \n",
      " 2   cod_ense    int64  \n",
      " 3   cod_grado   int64  \n",
      " 4   mrun        int64  \n",
      " 5   gen_alu     int64  \n",
      " 6   prom_gral   object \n",
      " 7   asistencia  int64  \n",
      " 8   sit_fin     object \n",
      " 9   curso       float64\n",
      " 10  HS_type     object \n",
      "dtypes: float64(1), int64(7), object(3)\n",
      "memory usage: 284.7+ MB\n",
      "None\n",
      "\\REND_20.csv\n",
      "<class 'pandas.core.frame.DataFrame'>\n",
      "Index: 3081646 entries, 2248372 to 2922990\n",
      "Data columns (total 11 columns):\n",
      " #   Column      Dtype  \n",
      "---  ------      -----  \n",
      " 0   agno        int64  \n",
      " 1   rbd         int64  \n",
      " 2   cod_ense    int64  \n",
      " 3   cod_grado   int64  \n",
      " 4   mrun        int64  \n",
      " 5   gen_alu     int64  \n",
      " 6   prom_gral   object \n",
      " 7   asistencia  int64  \n",
      " 8   sit_fin     object \n",
      " 9   curso       float64\n",
      " 10  HS_type     object \n",
      "dtypes: float64(1), int64(7), object(3)\n",
      "memory usage: 282.1+ MB\n",
      "None\n",
      "\\REND_21.csv\n",
      "<class 'pandas.core.frame.DataFrame'>\n",
      "Index: 3140394 entries, 2261446 to 1751390\n",
      "Data columns (total 11 columns):\n",
      " #   Column      Dtype  \n",
      "---  ------      -----  \n",
      " 0   agno        int64  \n",
      " 1   rbd         int64  \n",
      " 2   cod_ense    int64  \n",
      " 3   cod_grado   int64  \n",
      " 4   mrun        int64  \n",
      " 5   gen_alu     int64  \n",
      " 6   prom_gral   object \n",
      " 7   asistencia  int64  \n",
      " 8   sit_fin     object \n",
      " 9   curso       float64\n",
      " 10  HS_type     object \n",
      "dtypes: float64(1), int64(7), object(3)\n",
      "memory usage: 287.5+ MB\n",
      "None\n",
      "\\REND_22.csv\n",
      "<class 'pandas.core.frame.DataFrame'>\n",
      "Index: 3173171 entries, 2020901 to 2924798\n",
      "Data columns (total 11 columns):\n",
      " #   Column      Dtype  \n",
      "---  ------      -----  \n",
      " 0   agno        int64  \n",
      " 1   rbd         int64  \n",
      " 2   cod_ense    int64  \n",
      " 3   cod_grado   int64  \n",
      " 4   mrun        int64  \n",
      " 5   gen_alu     int64  \n",
      " 6   prom_gral   object \n",
      " 7   asistencia  int64  \n",
      " 8   sit_fin     object \n",
      " 9   curso       float64\n",
      " 10  HS_type     object \n",
      "dtypes: float64(1), int64(7), object(3)\n",
      "memory usage: 290.5+ MB\n",
      "None\n"
     ]
    }
   ],
   "source": [
    "# GPA \n",
    "# ojo, tom tiempo y ya estpa guardaado el csv \n",
    "REND_data_acum = pd.DataFrame(columns = ['agno','rbd', 'mrun','curso','gen_alu' , 'HS_type','prom_gral','asistencia', 'sit_fin'])\n",
    "\n",
    "for file in [r'\\REND_' + str(x) + '.csv' for x in range(2,23)]:\n",
    "    print(file)\n",
    "    \n",
    "    if file in ['\\\\REND_16.csv','\\\\REND_6.csv','\\\\REND_18.csv','\\\\REND_19.csv','\\\\REND_20.csv','\\\\REND_21.csv','\\\\REND_22.csv']:\n",
    "        try:\n",
    "            REND_data = pd.read_csv(EE_path + file,encoding = 'unicode_escape', sep = ';', low_memory=False, usecols=['ï»¿AGNO','RBD','MRUN','COD_ENSE','COD_GRADO','GEN_ALU', 'PROM_GRAL', 'ASISTENCIA', 'SIT_FIN'])\n",
    "            REND_data.rename(columns = {'ï»¿AGNO':'AGNO'},inplace=True)\n",
    "        except: \n",
    "            REND_data = pd.read_csv(EE_path + file,encoding = 'unicode_escape', sep = ';', low_memory=False, usecols=['ï»¿agno', 'rbd','mrun','cod_ense','cod_grado','gen_alu' , 'prom_gral','asistencia','sit_fin'])\n",
    "            REND_data.rename(columns = {'ï»¿agno':'agno'},inplace=True)\n",
    "    \n",
    "    else:\n",
    "        try:\n",
    "            REND_data = pd.read_csv(EE_path + file,encoding = 'unicode_escape', sep = ';', low_memory=False, usecols=['AGNO','RBD','MRUN','COD_ENSE','COD_GRADO','GEN_ALU', 'PROM_GRAL', 'ASISTENCIA', 'SIT_FIN'])\n",
    "        except: \n",
    "            REND_data = pd.read_csv(EE_path + file,encoding = 'unicode_escape', sep = ';', low_memory=False, usecols=['agno', 'rbd','mrun','cod_ense','cod_grado','gen_alu' , 'prom_gral','asistencia','sit_fin'])\n",
    " \n",
    "    REND_data.columns = [x.lower() for x in REND_data.columns]\n",
    "    \n",
    "    # Apply the function to create a new column 'curso_and_HS_type'\n",
    "    REND_data['curso_and_HS_type'] = REND_data.apply(map_cod_curso, axis=1)\n",
    "\n",
    "    # Split the 'curso_and_HS_type' column into two separate columns 'curso' and 'HS_type'\n",
    "    REND_data[['curso', 'HS_type']] = pd.DataFrame(REND_data['curso_and_HS_type'].tolist(), index=REND_data.index)\n",
    "\n",
    "    # Drop the intermediate 'curso_and_HS_type' column if needed\n",
    "    REND_data.drop(columns=['curso_and_HS_type'], inplace=True)\n",
    "    \n",
    "    REND_data.sort_values(by=['mrun','sit_fin'],inplace=True)\n",
    "    REND_data.drop_duplicates(subset='mrun',keep='first', inplace=True)\n",
    "\n",
    "    REND_data_acum = pd.concat([REND_data_acum,REND_data[['agno','rbd', 'mrun','curso','gen_alu' ,'HS_type', 'prom_gral','asistencia', 'sit_fin']]])\n",
    "    \n",
    "    print(REND_data.info())\n",
    "\n",
    "REND_data_acum['prom_gral'] = REND_data_acum['prom_gral'].str.replace(',','.')\n",
    "REND_data_acum['prom_gral'] = pd.to_numeric(REND_data_acum['prom_gral'])"
   ]
  },
  {
   "cell_type": "code",
   "execution_count": 8,
   "id": "d22f8b2f",
   "metadata": {
    "ExecuteTime": {
     "end_time": "2023-10-29T15:30:08.693610Z",
     "start_time": "2023-10-29T15:28:55.131919Z"
    }
   },
   "outputs": [],
   "source": [
    "REND_data_acum = REND_data_acum.dropna(subset = 'curso')\n",
    "REND_data_acum['ranking_group'] = REND_data_acum['agno'].astype(str) + REND_data_acum['rbd'].astype(str) + REND_data_acum['curso'].astype(str)\n",
    "# set minimum level\n",
    "REND_data_acum.loc[REND_data_acum.prom_gral<2.0, 'prom_gral'] = 2.0"
   ]
  },
  {
   "cell_type": "code",
   "execution_count": 9,
   "id": "373d1286",
   "metadata": {
    "ExecuteTime": {
     "end_time": "2023-10-29T15:30:08.822595Z",
     "start_time": "2023-10-29T15:30:08.808088Z"
    }
   },
   "outputs": [],
   "source": [
    "def get_percentil_nota(df):\n",
    "    print('total :', len(df))\n",
    "    cols = ['agno', 'rbd', 'mrun', 'curso','HS_type', 'prom_gral', 'asistencia','sit_fin', 'percentil_nota']\n",
    "\n",
    "    # Initialize the result DataFrame\n",
    "    df_percentil_nota = pd.DataFrame(columns=cols)\n",
    "\n",
    "    # Group the DataFrame by 'agno' and 'rbd'\n",
    "    grouped = df.groupby(['agno', 'rbd', 'curso'])\n",
    "\n",
    "    # Define a function to calculate percentiles and add the result to the DataFrame\n",
    "    def calculate_percentiles(group):\n",
    "        group['percentil_nota'] = group['prom_gral'].rank(pct=True)\n",
    "        return group[cols]\n",
    "\n",
    "    # Apply the function to each group and concatenate the results\n",
    "    df_percentil_nota['GPA_percentil'] = df.groupby(['agno', 'rbd', 'curso']).apply(lambda x: x.rank(pct=True))\n",
    "\n",
    "    return df_percentil_nota"
   ]
  },
  {
   "cell_type": "code",
   "execution_count": 10,
   "id": "4cfc3462",
   "metadata": {
    "ExecuteTime": {
     "end_time": "2023-10-29T15:47:13.248465Z",
     "start_time": "2023-10-29T15:30:08.875591Z"
    },
    "scrolled": true
   },
   "outputs": [
    {
     "name": "stdout",
     "output_type": "stream",
     "text": [
      "0\n"
     ]
    },
    {
     "name": "stderr",
     "output_type": "stream",
     "text": [
      "C:\\Users\\JoaquinFarina\\AppData\\Local\\Temp\\ipykernel_16524\\828017466.py:9: SettingWithCopyWarning: \n",
      "A value is trying to be set on a copy of a slice from a DataFrame.\n",
      "Try using .loc[row_indexer,col_indexer] = value instead\n",
      "\n",
      "See the caveats in the documentation: https://pandas.pydata.org/pandas-docs/stable/user_guide/indexing.html#returning-a-view-versus-a-copy\n",
      "  REND_data_acum_pct_case.loc[:, 'GPA_percentil'] =  REND_data_acum_pct_case.groupby(\"ranking_group\")[\"prom_gral\"].rank(pct = True)\n"
     ]
    },
    {
     "name": "stdout",
     "output_type": "stream",
     "text": [
      "1\n"
     ]
    },
    {
     "name": "stderr",
     "output_type": "stream",
     "text": [
      "C:\\Users\\JoaquinFarina\\AppData\\Local\\Temp\\ipykernel_16524\\828017466.py:9: SettingWithCopyWarning: \n",
      "A value is trying to be set on a copy of a slice from a DataFrame.\n",
      "Try using .loc[row_indexer,col_indexer] = value instead\n",
      "\n",
      "See the caveats in the documentation: https://pandas.pydata.org/pandas-docs/stable/user_guide/indexing.html#returning-a-view-versus-a-copy\n",
      "  REND_data_acum_pct_case.loc[:, 'GPA_percentil'] =  REND_data_acum_pct_case.groupby(\"ranking_group\")[\"prom_gral\"].rank(pct = True)\n"
     ]
    },
    {
     "name": "stdout",
     "output_type": "stream",
     "text": [
      "2\n"
     ]
    },
    {
     "name": "stderr",
     "output_type": "stream",
     "text": [
      "C:\\Users\\JoaquinFarina\\AppData\\Local\\Temp\\ipykernel_16524\\828017466.py:9: SettingWithCopyWarning: \n",
      "A value is trying to be set on a copy of a slice from a DataFrame.\n",
      "Try using .loc[row_indexer,col_indexer] = value instead\n",
      "\n",
      "See the caveats in the documentation: https://pandas.pydata.org/pandas-docs/stable/user_guide/indexing.html#returning-a-view-versus-a-copy\n",
      "  REND_data_acum_pct_case.loc[:, 'GPA_percentil'] =  REND_data_acum_pct_case.groupby(\"ranking_group\")[\"prom_gral\"].rank(pct = True)\n"
     ]
    },
    {
     "name": "stdout",
     "output_type": "stream",
     "text": [
      "3\n"
     ]
    },
    {
     "name": "stderr",
     "output_type": "stream",
     "text": [
      "C:\\Users\\JoaquinFarina\\AppData\\Local\\Temp\\ipykernel_16524\\828017466.py:9: SettingWithCopyWarning: \n",
      "A value is trying to be set on a copy of a slice from a DataFrame.\n",
      "Try using .loc[row_indexer,col_indexer] = value instead\n",
      "\n",
      "See the caveats in the documentation: https://pandas.pydata.org/pandas-docs/stable/user_guide/indexing.html#returning-a-view-versus-a-copy\n",
      "  REND_data_acum_pct_case.loc[:, 'GPA_percentil'] =  REND_data_acum_pct_case.groupby(\"ranking_group\")[\"prom_gral\"].rank(pct = True)\n"
     ]
    },
    {
     "name": "stdout",
     "output_type": "stream",
     "text": [
      "4\n"
     ]
    },
    {
     "name": "stderr",
     "output_type": "stream",
     "text": [
      "C:\\Users\\JoaquinFarina\\AppData\\Local\\Temp\\ipykernel_16524\\828017466.py:9: SettingWithCopyWarning: \n",
      "A value is trying to be set on a copy of a slice from a DataFrame.\n",
      "Try using .loc[row_indexer,col_indexer] = value instead\n",
      "\n",
      "See the caveats in the documentation: https://pandas.pydata.org/pandas-docs/stable/user_guide/indexing.html#returning-a-view-versus-a-copy\n",
      "  REND_data_acum_pct_case.loc[:, 'GPA_percentil'] =  REND_data_acum_pct_case.groupby(\"ranking_group\")[\"prom_gral\"].rank(pct = True)\n"
     ]
    },
    {
     "name": "stdout",
     "output_type": "stream",
     "text": [
      "5\n"
     ]
    },
    {
     "name": "stderr",
     "output_type": "stream",
     "text": [
      "C:\\Users\\JoaquinFarina\\AppData\\Local\\Temp\\ipykernel_16524\\828017466.py:9: SettingWithCopyWarning: \n",
      "A value is trying to be set on a copy of a slice from a DataFrame.\n",
      "Try using .loc[row_indexer,col_indexer] = value instead\n",
      "\n",
      "See the caveats in the documentation: https://pandas.pydata.org/pandas-docs/stable/user_guide/indexing.html#returning-a-view-versus-a-copy\n",
      "  REND_data_acum_pct_case.loc[:, 'GPA_percentil'] =  REND_data_acum_pct_case.groupby(\"ranking_group\")[\"prom_gral\"].rank(pct = True)\n"
     ]
    },
    {
     "name": "stdout",
     "output_type": "stream",
     "text": [
      "6\n"
     ]
    },
    {
     "name": "stderr",
     "output_type": "stream",
     "text": [
      "C:\\Users\\JoaquinFarina\\AppData\\Local\\Temp\\ipykernel_16524\\828017466.py:9: SettingWithCopyWarning: \n",
      "A value is trying to be set on a copy of a slice from a DataFrame.\n",
      "Try using .loc[row_indexer,col_indexer] = value instead\n",
      "\n",
      "See the caveats in the documentation: https://pandas.pydata.org/pandas-docs/stable/user_guide/indexing.html#returning-a-view-versus-a-copy\n",
      "  REND_data_acum_pct_case.loc[:, 'GPA_percentil'] =  REND_data_acum_pct_case.groupby(\"ranking_group\")[\"prom_gral\"].rank(pct = True)\n"
     ]
    },
    {
     "name": "stdout",
     "output_type": "stream",
     "text": [
      "7\n"
     ]
    },
    {
     "name": "stderr",
     "output_type": "stream",
     "text": [
      "C:\\Users\\JoaquinFarina\\AppData\\Local\\Temp\\ipykernel_16524\\828017466.py:9: SettingWithCopyWarning: \n",
      "A value is trying to be set on a copy of a slice from a DataFrame.\n",
      "Try using .loc[row_indexer,col_indexer] = value instead\n",
      "\n",
      "See the caveats in the documentation: https://pandas.pydata.org/pandas-docs/stable/user_guide/indexing.html#returning-a-view-versus-a-copy\n",
      "  REND_data_acum_pct_case.loc[:, 'GPA_percentil'] =  REND_data_acum_pct_case.groupby(\"ranking_group\")[\"prom_gral\"].rank(pct = True)\n"
     ]
    },
    {
     "name": "stdout",
     "output_type": "stream",
     "text": [
      "8\n"
     ]
    },
    {
     "name": "stderr",
     "output_type": "stream",
     "text": [
      "C:\\Users\\JoaquinFarina\\AppData\\Local\\Temp\\ipykernel_16524\\828017466.py:9: SettingWithCopyWarning: \n",
      "A value is trying to be set on a copy of a slice from a DataFrame.\n",
      "Try using .loc[row_indexer,col_indexer] = value instead\n",
      "\n",
      "See the caveats in the documentation: https://pandas.pydata.org/pandas-docs/stable/user_guide/indexing.html#returning-a-view-versus-a-copy\n",
      "  REND_data_acum_pct_case.loc[:, 'GPA_percentil'] =  REND_data_acum_pct_case.groupby(\"ranking_group\")[\"prom_gral\"].rank(pct = True)\n"
     ]
    },
    {
     "name": "stdout",
     "output_type": "stream",
     "text": [
      "9\n"
     ]
    },
    {
     "name": "stderr",
     "output_type": "stream",
     "text": [
      "C:\\Users\\JoaquinFarina\\AppData\\Local\\Temp\\ipykernel_16524\\828017466.py:9: SettingWithCopyWarning: \n",
      "A value is trying to be set on a copy of a slice from a DataFrame.\n",
      "Try using .loc[row_indexer,col_indexer] = value instead\n",
      "\n",
      "See the caveats in the documentation: https://pandas.pydata.org/pandas-docs/stable/user_guide/indexing.html#returning-a-view-versus-a-copy\n",
      "  REND_data_acum_pct_case.loc[:, 'GPA_percentil'] =  REND_data_acum_pct_case.groupby(\"ranking_group\")[\"prom_gral\"].rank(pct = True)\n"
     ]
    },
    {
     "name": "stdout",
     "output_type": "stream",
     "text": [
      "10\n"
     ]
    },
    {
     "name": "stderr",
     "output_type": "stream",
     "text": [
      "C:\\Users\\JoaquinFarina\\AppData\\Local\\Temp\\ipykernel_16524\\828017466.py:9: SettingWithCopyWarning: \n",
      "A value is trying to be set on a copy of a slice from a DataFrame.\n",
      "Try using .loc[row_indexer,col_indexer] = value instead\n",
      "\n",
      "See the caveats in the documentation: https://pandas.pydata.org/pandas-docs/stable/user_guide/indexing.html#returning-a-view-versus-a-copy\n",
      "  REND_data_acum_pct_case.loc[:, 'GPA_percentil'] =  REND_data_acum_pct_case.groupby(\"ranking_group\")[\"prom_gral\"].rank(pct = True)\n"
     ]
    },
    {
     "name": "stdout",
     "output_type": "stream",
     "text": [
      "11\n"
     ]
    },
    {
     "name": "stderr",
     "output_type": "stream",
     "text": [
      "C:\\Users\\JoaquinFarina\\AppData\\Local\\Temp\\ipykernel_16524\\828017466.py:9: SettingWithCopyWarning: \n",
      "A value is trying to be set on a copy of a slice from a DataFrame.\n",
      "Try using .loc[row_indexer,col_indexer] = value instead\n",
      "\n",
      "See the caveats in the documentation: https://pandas.pydata.org/pandas-docs/stable/user_guide/indexing.html#returning-a-view-versus-a-copy\n",
      "  REND_data_acum_pct_case.loc[:, 'GPA_percentil'] =  REND_data_acum_pct_case.groupby(\"ranking_group\")[\"prom_gral\"].rank(pct = True)\n"
     ]
    },
    {
     "name": "stdout",
     "output_type": "stream",
     "text": [
      "12\n"
     ]
    },
    {
     "name": "stderr",
     "output_type": "stream",
     "text": [
      "C:\\Users\\JoaquinFarina\\AppData\\Local\\Temp\\ipykernel_16524\\828017466.py:9: SettingWithCopyWarning: \n",
      "A value is trying to be set on a copy of a slice from a DataFrame.\n",
      "Try using .loc[row_indexer,col_indexer] = value instead\n",
      "\n",
      "See the caveats in the documentation: https://pandas.pydata.org/pandas-docs/stable/user_guide/indexing.html#returning-a-view-versus-a-copy\n",
      "  REND_data_acum_pct_case.loc[:, 'GPA_percentil'] =  REND_data_acum_pct_case.groupby(\"ranking_group\")[\"prom_gral\"].rank(pct = True)\n"
     ]
    },
    {
     "name": "stdout",
     "output_type": "stream",
     "text": [
      "13\n"
     ]
    },
    {
     "name": "stderr",
     "output_type": "stream",
     "text": [
      "C:\\Users\\JoaquinFarina\\AppData\\Local\\Temp\\ipykernel_16524\\828017466.py:9: SettingWithCopyWarning: \n",
      "A value is trying to be set on a copy of a slice from a DataFrame.\n",
      "Try using .loc[row_indexer,col_indexer] = value instead\n",
      "\n",
      "See the caveats in the documentation: https://pandas.pydata.org/pandas-docs/stable/user_guide/indexing.html#returning-a-view-versus-a-copy\n",
      "  REND_data_acum_pct_case.loc[:, 'GPA_percentil'] =  REND_data_acum_pct_case.groupby(\"ranking_group\")[\"prom_gral\"].rank(pct = True)\n"
     ]
    },
    {
     "name": "stdout",
     "output_type": "stream",
     "text": [
      "14\n"
     ]
    },
    {
     "name": "stderr",
     "output_type": "stream",
     "text": [
      "C:\\Users\\JoaquinFarina\\AppData\\Local\\Temp\\ipykernel_16524\\828017466.py:9: SettingWithCopyWarning: \n",
      "A value is trying to be set on a copy of a slice from a DataFrame.\n",
      "Try using .loc[row_indexer,col_indexer] = value instead\n",
      "\n",
      "See the caveats in the documentation: https://pandas.pydata.org/pandas-docs/stable/user_guide/indexing.html#returning-a-view-versus-a-copy\n",
      "  REND_data_acum_pct_case.loc[:, 'GPA_percentil'] =  REND_data_acum_pct_case.groupby(\"ranking_group\")[\"prom_gral\"].rank(pct = True)\n"
     ]
    },
    {
     "name": "stdout",
     "output_type": "stream",
     "text": [
      "15\n"
     ]
    },
    {
     "name": "stderr",
     "output_type": "stream",
     "text": [
      "C:\\Users\\JoaquinFarina\\AppData\\Local\\Temp\\ipykernel_16524\\828017466.py:9: SettingWithCopyWarning: \n",
      "A value is trying to be set on a copy of a slice from a DataFrame.\n",
      "Try using .loc[row_indexer,col_indexer] = value instead\n",
      "\n",
      "See the caveats in the documentation: https://pandas.pydata.org/pandas-docs/stable/user_guide/indexing.html#returning-a-view-versus-a-copy\n",
      "  REND_data_acum_pct_case.loc[:, 'GPA_percentil'] =  REND_data_acum_pct_case.groupby(\"ranking_group\")[\"prom_gral\"].rank(pct = True)\n"
     ]
    },
    {
     "name": "stdout",
     "output_type": "stream",
     "text": [
      "16\n"
     ]
    },
    {
     "name": "stderr",
     "output_type": "stream",
     "text": [
      "C:\\Users\\JoaquinFarina\\AppData\\Local\\Temp\\ipykernel_16524\\828017466.py:9: SettingWithCopyWarning: \n",
      "A value is trying to be set on a copy of a slice from a DataFrame.\n",
      "Try using .loc[row_indexer,col_indexer] = value instead\n",
      "\n",
      "See the caveats in the documentation: https://pandas.pydata.org/pandas-docs/stable/user_guide/indexing.html#returning-a-view-versus-a-copy\n",
      "  REND_data_acum_pct_case.loc[:, 'GPA_percentil'] =  REND_data_acum_pct_case.groupby(\"ranking_group\")[\"prom_gral\"].rank(pct = True)\n"
     ]
    },
    {
     "name": "stdout",
     "output_type": "stream",
     "text": [
      "17\n"
     ]
    },
    {
     "name": "stderr",
     "output_type": "stream",
     "text": [
      "C:\\Users\\JoaquinFarina\\AppData\\Local\\Temp\\ipykernel_16524\\828017466.py:9: SettingWithCopyWarning: \n",
      "A value is trying to be set on a copy of a slice from a DataFrame.\n",
      "Try using .loc[row_indexer,col_indexer] = value instead\n",
      "\n",
      "See the caveats in the documentation: https://pandas.pydata.org/pandas-docs/stable/user_guide/indexing.html#returning-a-view-versus-a-copy\n",
      "  REND_data_acum_pct_case.loc[:, 'GPA_percentil'] =  REND_data_acum_pct_case.groupby(\"ranking_group\")[\"prom_gral\"].rank(pct = True)\n"
     ]
    },
    {
     "name": "stdout",
     "output_type": "stream",
     "text": [
      "18\n"
     ]
    },
    {
     "name": "stderr",
     "output_type": "stream",
     "text": [
      "C:\\Users\\JoaquinFarina\\AppData\\Local\\Temp\\ipykernel_16524\\828017466.py:9: SettingWithCopyWarning: \n",
      "A value is trying to be set on a copy of a slice from a DataFrame.\n",
      "Try using .loc[row_indexer,col_indexer] = value instead\n",
      "\n",
      "See the caveats in the documentation: https://pandas.pydata.org/pandas-docs/stable/user_guide/indexing.html#returning-a-view-versus-a-copy\n",
      "  REND_data_acum_pct_case.loc[:, 'GPA_percentil'] =  REND_data_acum_pct_case.groupby(\"ranking_group\")[\"prom_gral\"].rank(pct = True)\n"
     ]
    },
    {
     "name": "stdout",
     "output_type": "stream",
     "text": [
      "19\n"
     ]
    },
    {
     "name": "stderr",
     "output_type": "stream",
     "text": [
      "C:\\Users\\JoaquinFarina\\AppData\\Local\\Temp\\ipykernel_16524\\828017466.py:9: SettingWithCopyWarning: \n",
      "A value is trying to be set on a copy of a slice from a DataFrame.\n",
      "Try using .loc[row_indexer,col_indexer] = value instead\n",
      "\n",
      "See the caveats in the documentation: https://pandas.pydata.org/pandas-docs/stable/user_guide/indexing.html#returning-a-view-versus-a-copy\n",
      "  REND_data_acum_pct_case.loc[:, 'GPA_percentil'] =  REND_data_acum_pct_case.groupby(\"ranking_group\")[\"prom_gral\"].rank(pct = True)\n"
     ]
    },
    {
     "name": "stdout",
     "output_type": "stream",
     "text": [
      "20\n"
     ]
    },
    {
     "name": "stderr",
     "output_type": "stream",
     "text": [
      "C:\\Users\\JoaquinFarina\\AppData\\Local\\Temp\\ipykernel_16524\\828017466.py:9: SettingWithCopyWarning: \n",
      "A value is trying to be set on a copy of a slice from a DataFrame.\n",
      "Try using .loc[row_indexer,col_indexer] = value instead\n",
      "\n",
      "See the caveats in the documentation: https://pandas.pydata.org/pandas-docs/stable/user_guide/indexing.html#returning-a-view-versus-a-copy\n",
      "  REND_data_acum_pct_case.loc[:, 'GPA_percentil'] =  REND_data_acum_pct_case.groupby(\"ranking_group\")[\"prom_gral\"].rank(pct = True)\n"
     ]
    },
    {
     "name": "stdout",
     "output_type": "stream",
     "text": [
      "21\n"
     ]
    },
    {
     "name": "stderr",
     "output_type": "stream",
     "text": [
      "C:\\Users\\JoaquinFarina\\AppData\\Local\\Temp\\ipykernel_16524\\828017466.py:9: SettingWithCopyWarning: \n",
      "A value is trying to be set on a copy of a slice from a DataFrame.\n",
      "Try using .loc[row_indexer,col_indexer] = value instead\n",
      "\n",
      "See the caveats in the documentation: https://pandas.pydata.org/pandas-docs/stable/user_guide/indexing.html#returning-a-view-versus-a-copy\n",
      "  REND_data_acum_pct_case.loc[:, 'GPA_percentil'] =  REND_data_acum_pct_case.groupby(\"ranking_group\")[\"prom_gral\"].rank(pct = True)\n"
     ]
    },
    {
     "name": "stdout",
     "output_type": "stream",
     "text": [
      "22\n"
     ]
    },
    {
     "name": "stderr",
     "output_type": "stream",
     "text": [
      "C:\\Users\\JoaquinFarina\\AppData\\Local\\Temp\\ipykernel_16524\\828017466.py:9: SettingWithCopyWarning: \n",
      "A value is trying to be set on a copy of a slice from a DataFrame.\n",
      "Try using .loc[row_indexer,col_indexer] = value instead\n",
      "\n",
      "See the caveats in the documentation: https://pandas.pydata.org/pandas-docs/stable/user_guide/indexing.html#returning-a-view-versus-a-copy\n",
      "  REND_data_acum_pct_case.loc[:, 'GPA_percentil'] =  REND_data_acum_pct_case.groupby(\"ranking_group\")[\"prom_gral\"].rank(pct = True)\n"
     ]
    },
    {
     "name": "stdout",
     "output_type": "stream",
     "text": [
      "23\n"
     ]
    },
    {
     "name": "stderr",
     "output_type": "stream",
     "text": [
      "C:\\Users\\JoaquinFarina\\AppData\\Local\\Temp\\ipykernel_16524\\828017466.py:9: SettingWithCopyWarning: \n",
      "A value is trying to be set on a copy of a slice from a DataFrame.\n",
      "Try using .loc[row_indexer,col_indexer] = value instead\n",
      "\n",
      "See the caveats in the documentation: https://pandas.pydata.org/pandas-docs/stable/user_guide/indexing.html#returning-a-view-versus-a-copy\n",
      "  REND_data_acum_pct_case.loc[:, 'GPA_percentil'] =  REND_data_acum_pct_case.groupby(\"ranking_group\")[\"prom_gral\"].rank(pct = True)\n"
     ]
    },
    {
     "name": "stdout",
     "output_type": "stream",
     "text": [
      "24\n"
     ]
    },
    {
     "name": "stderr",
     "output_type": "stream",
     "text": [
      "C:\\Users\\JoaquinFarina\\AppData\\Local\\Temp\\ipykernel_16524\\828017466.py:9: SettingWithCopyWarning: \n",
      "A value is trying to be set on a copy of a slice from a DataFrame.\n",
      "Try using .loc[row_indexer,col_indexer] = value instead\n",
      "\n",
      "See the caveats in the documentation: https://pandas.pydata.org/pandas-docs/stable/user_guide/indexing.html#returning-a-view-versus-a-copy\n",
      "  REND_data_acum_pct_case.loc[:, 'GPA_percentil'] =  REND_data_acum_pct_case.groupby(\"ranking_group\")[\"prom_gral\"].rank(pct = True)\n"
     ]
    },
    {
     "name": "stdout",
     "output_type": "stream",
     "text": [
      "25\n"
     ]
    },
    {
     "name": "stderr",
     "output_type": "stream",
     "text": [
      "C:\\Users\\JoaquinFarina\\AppData\\Local\\Temp\\ipykernel_16524\\828017466.py:9: SettingWithCopyWarning: \n",
      "A value is trying to be set on a copy of a slice from a DataFrame.\n",
      "Try using .loc[row_indexer,col_indexer] = value instead\n",
      "\n",
      "See the caveats in the documentation: https://pandas.pydata.org/pandas-docs/stable/user_guide/indexing.html#returning-a-view-versus-a-copy\n",
      "  REND_data_acum_pct_case.loc[:, 'GPA_percentil'] =  REND_data_acum_pct_case.groupby(\"ranking_group\")[\"prom_gral\"].rank(pct = True)\n"
     ]
    },
    {
     "name": "stdout",
     "output_type": "stream",
     "text": [
      "26\n"
     ]
    },
    {
     "name": "stderr",
     "output_type": "stream",
     "text": [
      "C:\\Users\\JoaquinFarina\\AppData\\Local\\Temp\\ipykernel_16524\\828017466.py:9: SettingWithCopyWarning: \n",
      "A value is trying to be set on a copy of a slice from a DataFrame.\n",
      "Try using .loc[row_indexer,col_indexer] = value instead\n",
      "\n",
      "See the caveats in the documentation: https://pandas.pydata.org/pandas-docs/stable/user_guide/indexing.html#returning-a-view-versus-a-copy\n",
      "  REND_data_acum_pct_case.loc[:, 'GPA_percentil'] =  REND_data_acum_pct_case.groupby(\"ranking_group\")[\"prom_gral\"].rank(pct = True)\n"
     ]
    },
    {
     "name": "stdout",
     "output_type": "stream",
     "text": [
      "27\n"
     ]
    },
    {
     "name": "stderr",
     "output_type": "stream",
     "text": [
      "C:\\Users\\JoaquinFarina\\AppData\\Local\\Temp\\ipykernel_16524\\828017466.py:9: SettingWithCopyWarning: \n",
      "A value is trying to be set on a copy of a slice from a DataFrame.\n",
      "Try using .loc[row_indexer,col_indexer] = value instead\n",
      "\n",
      "See the caveats in the documentation: https://pandas.pydata.org/pandas-docs/stable/user_guide/indexing.html#returning-a-view-versus-a-copy\n",
      "  REND_data_acum_pct_case.loc[:, 'GPA_percentil'] =  REND_data_acum_pct_case.groupby(\"ranking_group\")[\"prom_gral\"].rank(pct = True)\n"
     ]
    },
    {
     "name": "stdout",
     "output_type": "stream",
     "text": [
      "28\n"
     ]
    },
    {
     "name": "stderr",
     "output_type": "stream",
     "text": [
      "C:\\Users\\JoaquinFarina\\AppData\\Local\\Temp\\ipykernel_16524\\828017466.py:9: SettingWithCopyWarning: \n",
      "A value is trying to be set on a copy of a slice from a DataFrame.\n",
      "Try using .loc[row_indexer,col_indexer] = value instead\n",
      "\n",
      "See the caveats in the documentation: https://pandas.pydata.org/pandas-docs/stable/user_guide/indexing.html#returning-a-view-versus-a-copy\n",
      "  REND_data_acum_pct_case.loc[:, 'GPA_percentil'] =  REND_data_acum_pct_case.groupby(\"ranking_group\")[\"prom_gral\"].rank(pct = True)\n"
     ]
    },
    {
     "name": "stdout",
     "output_type": "stream",
     "text": [
      "29\n"
     ]
    },
    {
     "name": "stderr",
     "output_type": "stream",
     "text": [
      "C:\\Users\\JoaquinFarina\\AppData\\Local\\Temp\\ipykernel_16524\\828017466.py:9: SettingWithCopyWarning: \n",
      "A value is trying to be set on a copy of a slice from a DataFrame.\n",
      "Try using .loc[row_indexer,col_indexer] = value instead\n",
      "\n",
      "See the caveats in the documentation: https://pandas.pydata.org/pandas-docs/stable/user_guide/indexing.html#returning-a-view-versus-a-copy\n",
      "  REND_data_acum_pct_case.loc[:, 'GPA_percentil'] =  REND_data_acum_pct_case.groupby(\"ranking_group\")[\"prom_gral\"].rank(pct = True)\n"
     ]
    },
    {
     "name": "stdout",
     "output_type": "stream",
     "text": [
      "30\n"
     ]
    },
    {
     "name": "stderr",
     "output_type": "stream",
     "text": [
      "C:\\Users\\JoaquinFarina\\AppData\\Local\\Temp\\ipykernel_16524\\828017466.py:9: SettingWithCopyWarning: \n",
      "A value is trying to be set on a copy of a slice from a DataFrame.\n",
      "Try using .loc[row_indexer,col_indexer] = value instead\n",
      "\n",
      "See the caveats in the documentation: https://pandas.pydata.org/pandas-docs/stable/user_guide/indexing.html#returning-a-view-versus-a-copy\n",
      "  REND_data_acum_pct_case.loc[:, 'GPA_percentil'] =  REND_data_acum_pct_case.groupby(\"ranking_group\")[\"prom_gral\"].rank(pct = True)\n"
     ]
    },
    {
     "name": "stdout",
     "output_type": "stream",
     "text": [
      "31\n"
     ]
    },
    {
     "name": "stderr",
     "output_type": "stream",
     "text": [
      "C:\\Users\\JoaquinFarina\\AppData\\Local\\Temp\\ipykernel_16524\\828017466.py:9: SettingWithCopyWarning: \n",
      "A value is trying to be set on a copy of a slice from a DataFrame.\n",
      "Try using .loc[row_indexer,col_indexer] = value instead\n",
      "\n",
      "See the caveats in the documentation: https://pandas.pydata.org/pandas-docs/stable/user_guide/indexing.html#returning-a-view-versus-a-copy\n",
      "  REND_data_acum_pct_case.loc[:, 'GPA_percentil'] =  REND_data_acum_pct_case.groupby(\"ranking_group\")[\"prom_gral\"].rank(pct = True)\n"
     ]
    },
    {
     "name": "stdout",
     "output_type": "stream",
     "text": [
      "32\n"
     ]
    },
    {
     "name": "stderr",
     "output_type": "stream",
     "text": [
      "C:\\Users\\JoaquinFarina\\AppData\\Local\\Temp\\ipykernel_16524\\828017466.py:9: SettingWithCopyWarning: \n",
      "A value is trying to be set on a copy of a slice from a DataFrame.\n",
      "Try using .loc[row_indexer,col_indexer] = value instead\n",
      "\n",
      "See the caveats in the documentation: https://pandas.pydata.org/pandas-docs/stable/user_guide/indexing.html#returning-a-view-versus-a-copy\n",
      "  REND_data_acum_pct_case.loc[:, 'GPA_percentil'] =  REND_data_acum_pct_case.groupby(\"ranking_group\")[\"prom_gral\"].rank(pct = True)\n"
     ]
    },
    {
     "name": "stdout",
     "output_type": "stream",
     "text": [
      "33\n"
     ]
    },
    {
     "name": "stderr",
     "output_type": "stream",
     "text": [
      "C:\\Users\\JoaquinFarina\\AppData\\Local\\Temp\\ipykernel_16524\\828017466.py:9: SettingWithCopyWarning: \n",
      "A value is trying to be set on a copy of a slice from a DataFrame.\n",
      "Try using .loc[row_indexer,col_indexer] = value instead\n",
      "\n",
      "See the caveats in the documentation: https://pandas.pydata.org/pandas-docs/stable/user_guide/indexing.html#returning-a-view-versus-a-copy\n",
      "  REND_data_acum_pct_case.loc[:, 'GPA_percentil'] =  REND_data_acum_pct_case.groupby(\"ranking_group\")[\"prom_gral\"].rank(pct = True)\n"
     ]
    },
    {
     "name": "stdout",
     "output_type": "stream",
     "text": [
      "34\n"
     ]
    },
    {
     "name": "stderr",
     "output_type": "stream",
     "text": [
      "C:\\Users\\JoaquinFarina\\AppData\\Local\\Temp\\ipykernel_16524\\828017466.py:9: SettingWithCopyWarning: \n",
      "A value is trying to be set on a copy of a slice from a DataFrame.\n",
      "Try using .loc[row_indexer,col_indexer] = value instead\n",
      "\n",
      "See the caveats in the documentation: https://pandas.pydata.org/pandas-docs/stable/user_guide/indexing.html#returning-a-view-versus-a-copy\n",
      "  REND_data_acum_pct_case.loc[:, 'GPA_percentil'] =  REND_data_acum_pct_case.groupby(\"ranking_group\")[\"prom_gral\"].rank(pct = True)\n"
     ]
    },
    {
     "name": "stdout",
     "output_type": "stream",
     "text": [
      "35\n"
     ]
    },
    {
     "name": "stderr",
     "output_type": "stream",
     "text": [
      "C:\\Users\\JoaquinFarina\\AppData\\Local\\Temp\\ipykernel_16524\\828017466.py:9: SettingWithCopyWarning: \n",
      "A value is trying to be set on a copy of a slice from a DataFrame.\n",
      "Try using .loc[row_indexer,col_indexer] = value instead\n",
      "\n",
      "See the caveats in the documentation: https://pandas.pydata.org/pandas-docs/stable/user_guide/indexing.html#returning-a-view-versus-a-copy\n",
      "  REND_data_acum_pct_case.loc[:, 'GPA_percentil'] =  REND_data_acum_pct_case.groupby(\"ranking_group\")[\"prom_gral\"].rank(pct = True)\n"
     ]
    },
    {
     "name": "stdout",
     "output_type": "stream",
     "text": [
      "36\n"
     ]
    },
    {
     "name": "stderr",
     "output_type": "stream",
     "text": [
      "C:\\Users\\JoaquinFarina\\AppData\\Local\\Temp\\ipykernel_16524\\828017466.py:9: SettingWithCopyWarning: \n",
      "A value is trying to be set on a copy of a slice from a DataFrame.\n",
      "Try using .loc[row_indexer,col_indexer] = value instead\n",
      "\n",
      "See the caveats in the documentation: https://pandas.pydata.org/pandas-docs/stable/user_guide/indexing.html#returning-a-view-versus-a-copy\n",
      "  REND_data_acum_pct_case.loc[:, 'GPA_percentil'] =  REND_data_acum_pct_case.groupby(\"ranking_group\")[\"prom_gral\"].rank(pct = True)\n"
     ]
    },
    {
     "name": "stdout",
     "output_type": "stream",
     "text": [
      "37\n"
     ]
    },
    {
     "name": "stderr",
     "output_type": "stream",
     "text": [
      "C:\\Users\\JoaquinFarina\\AppData\\Local\\Temp\\ipykernel_16524\\828017466.py:9: SettingWithCopyWarning: \n",
      "A value is trying to be set on a copy of a slice from a DataFrame.\n",
      "Try using .loc[row_indexer,col_indexer] = value instead\n",
      "\n",
      "See the caveats in the documentation: https://pandas.pydata.org/pandas-docs/stable/user_guide/indexing.html#returning-a-view-versus-a-copy\n",
      "  REND_data_acum_pct_case.loc[:, 'GPA_percentil'] =  REND_data_acum_pct_case.groupby(\"ranking_group\")[\"prom_gral\"].rank(pct = True)\n"
     ]
    },
    {
     "name": "stdout",
     "output_type": "stream",
     "text": [
      "38\n"
     ]
    },
    {
     "name": "stderr",
     "output_type": "stream",
     "text": [
      "C:\\Users\\JoaquinFarina\\AppData\\Local\\Temp\\ipykernel_16524\\828017466.py:9: SettingWithCopyWarning: \n",
      "A value is trying to be set on a copy of a slice from a DataFrame.\n",
      "Try using .loc[row_indexer,col_indexer] = value instead\n",
      "\n",
      "See the caveats in the documentation: https://pandas.pydata.org/pandas-docs/stable/user_guide/indexing.html#returning-a-view-versus-a-copy\n",
      "  REND_data_acum_pct_case.loc[:, 'GPA_percentil'] =  REND_data_acum_pct_case.groupby(\"ranking_group\")[\"prom_gral\"].rank(pct = True)\n"
     ]
    },
    {
     "name": "stdout",
     "output_type": "stream",
     "text": [
      "39\n"
     ]
    },
    {
     "name": "stderr",
     "output_type": "stream",
     "text": [
      "C:\\Users\\JoaquinFarina\\AppData\\Local\\Temp\\ipykernel_16524\\828017466.py:9: SettingWithCopyWarning: \n",
      "A value is trying to be set on a copy of a slice from a DataFrame.\n",
      "Try using .loc[row_indexer,col_indexer] = value instead\n",
      "\n",
      "See the caveats in the documentation: https://pandas.pydata.org/pandas-docs/stable/user_guide/indexing.html#returning-a-view-versus-a-copy\n",
      "  REND_data_acum_pct_case.loc[:, 'GPA_percentil'] =  REND_data_acum_pct_case.groupby(\"ranking_group\")[\"prom_gral\"].rank(pct = True)\n"
     ]
    },
    {
     "name": "stdout",
     "output_type": "stream",
     "text": [
      "40\n"
     ]
    },
    {
     "name": "stderr",
     "output_type": "stream",
     "text": [
      "C:\\Users\\JoaquinFarina\\AppData\\Local\\Temp\\ipykernel_16524\\828017466.py:9: SettingWithCopyWarning: \n",
      "A value is trying to be set on a copy of a slice from a DataFrame.\n",
      "Try using .loc[row_indexer,col_indexer] = value instead\n",
      "\n",
      "See the caveats in the documentation: https://pandas.pydata.org/pandas-docs/stable/user_guide/indexing.html#returning-a-view-versus-a-copy\n",
      "  REND_data_acum_pct_case.loc[:, 'GPA_percentil'] =  REND_data_acum_pct_case.groupby(\"ranking_group\")[\"prom_gral\"].rank(pct = True)\n"
     ]
    },
    {
     "name": "stdout",
     "output_type": "stream",
     "text": [
      "41\n"
     ]
    },
    {
     "name": "stderr",
     "output_type": "stream",
     "text": [
      "C:\\Users\\JoaquinFarina\\AppData\\Local\\Temp\\ipykernel_16524\\828017466.py:9: SettingWithCopyWarning: \n",
      "A value is trying to be set on a copy of a slice from a DataFrame.\n",
      "Try using .loc[row_indexer,col_indexer] = value instead\n",
      "\n",
      "See the caveats in the documentation: https://pandas.pydata.org/pandas-docs/stable/user_guide/indexing.html#returning-a-view-versus-a-copy\n",
      "  REND_data_acum_pct_case.loc[:, 'GPA_percentil'] =  REND_data_acum_pct_case.groupby(\"ranking_group\")[\"prom_gral\"].rank(pct = True)\n"
     ]
    },
    {
     "name": "stdout",
     "output_type": "stream",
     "text": [
      "42\n"
     ]
    },
    {
     "name": "stderr",
     "output_type": "stream",
     "text": [
      "C:\\Users\\JoaquinFarina\\AppData\\Local\\Temp\\ipykernel_16524\\828017466.py:9: SettingWithCopyWarning: \n",
      "A value is trying to be set on a copy of a slice from a DataFrame.\n",
      "Try using .loc[row_indexer,col_indexer] = value instead\n",
      "\n",
      "See the caveats in the documentation: https://pandas.pydata.org/pandas-docs/stable/user_guide/indexing.html#returning-a-view-versus-a-copy\n",
      "  REND_data_acum_pct_case.loc[:, 'GPA_percentil'] =  REND_data_acum_pct_case.groupby(\"ranking_group\")[\"prom_gral\"].rank(pct = True)\n"
     ]
    },
    {
     "name": "stdout",
     "output_type": "stream",
     "text": [
      "43\n"
     ]
    },
    {
     "name": "stderr",
     "output_type": "stream",
     "text": [
      "C:\\Users\\JoaquinFarina\\AppData\\Local\\Temp\\ipykernel_16524\\828017466.py:9: SettingWithCopyWarning: \n",
      "A value is trying to be set on a copy of a slice from a DataFrame.\n",
      "Try using .loc[row_indexer,col_indexer] = value instead\n",
      "\n",
      "See the caveats in the documentation: https://pandas.pydata.org/pandas-docs/stable/user_guide/indexing.html#returning-a-view-versus-a-copy\n",
      "  REND_data_acum_pct_case.loc[:, 'GPA_percentil'] =  REND_data_acum_pct_case.groupby(\"ranking_group\")[\"prom_gral\"].rank(pct = True)\n"
     ]
    },
    {
     "name": "stdout",
     "output_type": "stream",
     "text": [
      "44\n"
     ]
    },
    {
     "name": "stderr",
     "output_type": "stream",
     "text": [
      "C:\\Users\\JoaquinFarina\\AppData\\Local\\Temp\\ipykernel_16524\\828017466.py:9: SettingWithCopyWarning: \n",
      "A value is trying to be set on a copy of a slice from a DataFrame.\n",
      "Try using .loc[row_indexer,col_indexer] = value instead\n",
      "\n",
      "See the caveats in the documentation: https://pandas.pydata.org/pandas-docs/stable/user_guide/indexing.html#returning-a-view-versus-a-copy\n",
      "  REND_data_acum_pct_case.loc[:, 'GPA_percentil'] =  REND_data_acum_pct_case.groupby(\"ranking_group\")[\"prom_gral\"].rank(pct = True)\n"
     ]
    },
    {
     "name": "stdout",
     "output_type": "stream",
     "text": [
      "45\n"
     ]
    },
    {
     "name": "stderr",
     "output_type": "stream",
     "text": [
      "C:\\Users\\JoaquinFarina\\AppData\\Local\\Temp\\ipykernel_16524\\828017466.py:9: SettingWithCopyWarning: \n",
      "A value is trying to be set on a copy of a slice from a DataFrame.\n",
      "Try using .loc[row_indexer,col_indexer] = value instead\n",
      "\n",
      "See the caveats in the documentation: https://pandas.pydata.org/pandas-docs/stable/user_guide/indexing.html#returning-a-view-versus-a-copy\n",
      "  REND_data_acum_pct_case.loc[:, 'GPA_percentil'] =  REND_data_acum_pct_case.groupby(\"ranking_group\")[\"prom_gral\"].rank(pct = True)\n"
     ]
    },
    {
     "name": "stdout",
     "output_type": "stream",
     "text": [
      "46\n"
     ]
    },
    {
     "name": "stderr",
     "output_type": "stream",
     "text": [
      "C:\\Users\\JoaquinFarina\\AppData\\Local\\Temp\\ipykernel_16524\\828017466.py:9: SettingWithCopyWarning: \n",
      "A value is trying to be set on a copy of a slice from a DataFrame.\n",
      "Try using .loc[row_indexer,col_indexer] = value instead\n",
      "\n",
      "See the caveats in the documentation: https://pandas.pydata.org/pandas-docs/stable/user_guide/indexing.html#returning-a-view-versus-a-copy\n",
      "  REND_data_acum_pct_case.loc[:, 'GPA_percentil'] =  REND_data_acum_pct_case.groupby(\"ranking_group\")[\"prom_gral\"].rank(pct = True)\n"
     ]
    },
    {
     "name": "stdout",
     "output_type": "stream",
     "text": [
      "47\n"
     ]
    },
    {
     "name": "stderr",
     "output_type": "stream",
     "text": [
      "C:\\Users\\JoaquinFarina\\AppData\\Local\\Temp\\ipykernel_16524\\828017466.py:9: SettingWithCopyWarning: \n",
      "A value is trying to be set on a copy of a slice from a DataFrame.\n",
      "Try using .loc[row_indexer,col_indexer] = value instead\n",
      "\n",
      "See the caveats in the documentation: https://pandas.pydata.org/pandas-docs/stable/user_guide/indexing.html#returning-a-view-versus-a-copy\n",
      "  REND_data_acum_pct_case.loc[:, 'GPA_percentil'] =  REND_data_acum_pct_case.groupby(\"ranking_group\")[\"prom_gral\"].rank(pct = True)\n"
     ]
    },
    {
     "name": "stdout",
     "output_type": "stream",
     "text": [
      "48\n"
     ]
    },
    {
     "name": "stderr",
     "output_type": "stream",
     "text": [
      "C:\\Users\\JoaquinFarina\\AppData\\Local\\Temp\\ipykernel_16524\\828017466.py:9: SettingWithCopyWarning: \n",
      "A value is trying to be set on a copy of a slice from a DataFrame.\n",
      "Try using .loc[row_indexer,col_indexer] = value instead\n",
      "\n",
      "See the caveats in the documentation: https://pandas.pydata.org/pandas-docs/stable/user_guide/indexing.html#returning-a-view-versus-a-copy\n",
      "  REND_data_acum_pct_case.loc[:, 'GPA_percentil'] =  REND_data_acum_pct_case.groupby(\"ranking_group\")[\"prom_gral\"].rank(pct = True)\n"
     ]
    },
    {
     "name": "stdout",
     "output_type": "stream",
     "text": [
      "49\n"
     ]
    },
    {
     "name": "stderr",
     "output_type": "stream",
     "text": [
      "C:\\Users\\JoaquinFarina\\AppData\\Local\\Temp\\ipykernel_16524\\828017466.py:9: SettingWithCopyWarning: \n",
      "A value is trying to be set on a copy of a slice from a DataFrame.\n",
      "Try using .loc[row_indexer,col_indexer] = value instead\n",
      "\n",
      "See the caveats in the documentation: https://pandas.pydata.org/pandas-docs/stable/user_guide/indexing.html#returning-a-view-versus-a-copy\n",
      "  REND_data_acum_pct_case.loc[:, 'GPA_percentil'] =  REND_data_acum_pct_case.groupby(\"ranking_group\")[\"prom_gral\"].rank(pct = True)\n"
     ]
    },
    {
     "name": "stdout",
     "output_type": "stream",
     "text": [
      "50\n"
     ]
    },
    {
     "name": "stderr",
     "output_type": "stream",
     "text": [
      "C:\\Users\\JoaquinFarina\\AppData\\Local\\Temp\\ipykernel_16524\\828017466.py:9: SettingWithCopyWarning: \n",
      "A value is trying to be set on a copy of a slice from a DataFrame.\n",
      "Try using .loc[row_indexer,col_indexer] = value instead\n",
      "\n",
      "See the caveats in the documentation: https://pandas.pydata.org/pandas-docs/stable/user_guide/indexing.html#returning-a-view-versus-a-copy\n",
      "  REND_data_acum_pct_case.loc[:, 'GPA_percentil'] =  REND_data_acum_pct_case.groupby(\"ranking_group\")[\"prom_gral\"].rank(pct = True)\n"
     ]
    },
    {
     "name": "stdout",
     "output_type": "stream",
     "text": [
      "51\n"
     ]
    },
    {
     "name": "stderr",
     "output_type": "stream",
     "text": [
      "C:\\Users\\JoaquinFarina\\AppData\\Local\\Temp\\ipykernel_16524\\828017466.py:9: SettingWithCopyWarning: \n",
      "A value is trying to be set on a copy of a slice from a DataFrame.\n",
      "Try using .loc[row_indexer,col_indexer] = value instead\n",
      "\n",
      "See the caveats in the documentation: https://pandas.pydata.org/pandas-docs/stable/user_guide/indexing.html#returning-a-view-versus-a-copy\n",
      "  REND_data_acum_pct_case.loc[:, 'GPA_percentil'] =  REND_data_acum_pct_case.groupby(\"ranking_group\")[\"prom_gral\"].rank(pct = True)\n"
     ]
    },
    {
     "name": "stdout",
     "output_type": "stream",
     "text": [
      "52\n"
     ]
    },
    {
     "name": "stderr",
     "output_type": "stream",
     "text": [
      "C:\\Users\\JoaquinFarina\\AppData\\Local\\Temp\\ipykernel_16524\\828017466.py:9: SettingWithCopyWarning: \n",
      "A value is trying to be set on a copy of a slice from a DataFrame.\n",
      "Try using .loc[row_indexer,col_indexer] = value instead\n",
      "\n",
      "See the caveats in the documentation: https://pandas.pydata.org/pandas-docs/stable/user_guide/indexing.html#returning-a-view-versus-a-copy\n",
      "  REND_data_acum_pct_case.loc[:, 'GPA_percentil'] =  REND_data_acum_pct_case.groupby(\"ranking_group\")[\"prom_gral\"].rank(pct = True)\n"
     ]
    },
    {
     "name": "stdout",
     "output_type": "stream",
     "text": [
      "53\n"
     ]
    },
    {
     "name": "stderr",
     "output_type": "stream",
     "text": [
      "C:\\Users\\JoaquinFarina\\AppData\\Local\\Temp\\ipykernel_16524\\828017466.py:9: SettingWithCopyWarning: \n",
      "A value is trying to be set on a copy of a slice from a DataFrame.\n",
      "Try using .loc[row_indexer,col_indexer] = value instead\n",
      "\n",
      "See the caveats in the documentation: https://pandas.pydata.org/pandas-docs/stable/user_guide/indexing.html#returning-a-view-versus-a-copy\n",
      "  REND_data_acum_pct_case.loc[:, 'GPA_percentil'] =  REND_data_acum_pct_case.groupby(\"ranking_group\")[\"prom_gral\"].rank(pct = True)\n"
     ]
    },
    {
     "name": "stdout",
     "output_type": "stream",
     "text": [
      "54\n"
     ]
    },
    {
     "name": "stderr",
     "output_type": "stream",
     "text": [
      "C:\\Users\\JoaquinFarina\\AppData\\Local\\Temp\\ipykernel_16524\\828017466.py:9: SettingWithCopyWarning: \n",
      "A value is trying to be set on a copy of a slice from a DataFrame.\n",
      "Try using .loc[row_indexer,col_indexer] = value instead\n",
      "\n",
      "See the caveats in the documentation: https://pandas.pydata.org/pandas-docs/stable/user_guide/indexing.html#returning-a-view-versus-a-copy\n",
      "  REND_data_acum_pct_case.loc[:, 'GPA_percentil'] =  REND_data_acum_pct_case.groupby(\"ranking_group\")[\"prom_gral\"].rank(pct = True)\n"
     ]
    },
    {
     "name": "stdout",
     "output_type": "stream",
     "text": [
      "55\n"
     ]
    },
    {
     "name": "stderr",
     "output_type": "stream",
     "text": [
      "C:\\Users\\JoaquinFarina\\AppData\\Local\\Temp\\ipykernel_16524\\828017466.py:9: SettingWithCopyWarning: \n",
      "A value is trying to be set on a copy of a slice from a DataFrame.\n",
      "Try using .loc[row_indexer,col_indexer] = value instead\n",
      "\n",
      "See the caveats in the documentation: https://pandas.pydata.org/pandas-docs/stable/user_guide/indexing.html#returning-a-view-versus-a-copy\n",
      "  REND_data_acum_pct_case.loc[:, 'GPA_percentil'] =  REND_data_acum_pct_case.groupby(\"ranking_group\")[\"prom_gral\"].rank(pct = True)\n"
     ]
    },
    {
     "name": "stdout",
     "output_type": "stream",
     "text": [
      "56\n"
     ]
    },
    {
     "name": "stderr",
     "output_type": "stream",
     "text": [
      "C:\\Users\\JoaquinFarina\\AppData\\Local\\Temp\\ipykernel_16524\\828017466.py:9: SettingWithCopyWarning: \n",
      "A value is trying to be set on a copy of a slice from a DataFrame.\n",
      "Try using .loc[row_indexer,col_indexer] = value instead\n",
      "\n",
      "See the caveats in the documentation: https://pandas.pydata.org/pandas-docs/stable/user_guide/indexing.html#returning-a-view-versus-a-copy\n",
      "  REND_data_acum_pct_case.loc[:, 'GPA_percentil'] =  REND_data_acum_pct_case.groupby(\"ranking_group\")[\"prom_gral\"].rank(pct = True)\n"
     ]
    },
    {
     "name": "stdout",
     "output_type": "stream",
     "text": [
      "57\n"
     ]
    },
    {
     "name": "stderr",
     "output_type": "stream",
     "text": [
      "C:\\Users\\JoaquinFarina\\AppData\\Local\\Temp\\ipykernel_16524\\828017466.py:9: SettingWithCopyWarning: \n",
      "A value is trying to be set on a copy of a slice from a DataFrame.\n",
      "Try using .loc[row_indexer,col_indexer] = value instead\n",
      "\n",
      "See the caveats in the documentation: https://pandas.pydata.org/pandas-docs/stable/user_guide/indexing.html#returning-a-view-versus-a-copy\n",
      "  REND_data_acum_pct_case.loc[:, 'GPA_percentil'] =  REND_data_acum_pct_case.groupby(\"ranking_group\")[\"prom_gral\"].rank(pct = True)\n"
     ]
    },
    {
     "name": "stdout",
     "output_type": "stream",
     "text": [
      "58\n"
     ]
    },
    {
     "name": "stderr",
     "output_type": "stream",
     "text": [
      "C:\\Users\\JoaquinFarina\\AppData\\Local\\Temp\\ipykernel_16524\\828017466.py:9: SettingWithCopyWarning: \n",
      "A value is trying to be set on a copy of a slice from a DataFrame.\n",
      "Try using .loc[row_indexer,col_indexer] = value instead\n",
      "\n",
      "See the caveats in the documentation: https://pandas.pydata.org/pandas-docs/stable/user_guide/indexing.html#returning-a-view-versus-a-copy\n",
      "  REND_data_acum_pct_case.loc[:, 'GPA_percentil'] =  REND_data_acum_pct_case.groupby(\"ranking_group\")[\"prom_gral\"].rank(pct = True)\n"
     ]
    },
    {
     "name": "stdout",
     "output_type": "stream",
     "text": [
      "59\n"
     ]
    },
    {
     "name": "stderr",
     "output_type": "stream",
     "text": [
      "C:\\Users\\JoaquinFarina\\AppData\\Local\\Temp\\ipykernel_16524\\828017466.py:9: SettingWithCopyWarning: \n",
      "A value is trying to be set on a copy of a slice from a DataFrame.\n",
      "Try using .loc[row_indexer,col_indexer] = value instead\n",
      "\n",
      "See the caveats in the documentation: https://pandas.pydata.org/pandas-docs/stable/user_guide/indexing.html#returning-a-view-versus-a-copy\n",
      "  REND_data_acum_pct_case.loc[:, 'GPA_percentil'] =  REND_data_acum_pct_case.groupby(\"ranking_group\")[\"prom_gral\"].rank(pct = True)\n"
     ]
    },
    {
     "name": "stdout",
     "output_type": "stream",
     "text": [
      "60\n"
     ]
    },
    {
     "name": "stderr",
     "output_type": "stream",
     "text": [
      "C:\\Users\\JoaquinFarina\\AppData\\Local\\Temp\\ipykernel_16524\\828017466.py:9: SettingWithCopyWarning: \n",
      "A value is trying to be set on a copy of a slice from a DataFrame.\n",
      "Try using .loc[row_indexer,col_indexer] = value instead\n",
      "\n",
      "See the caveats in the documentation: https://pandas.pydata.org/pandas-docs/stable/user_guide/indexing.html#returning-a-view-versus-a-copy\n",
      "  REND_data_acum_pct_case.loc[:, 'GPA_percentil'] =  REND_data_acum_pct_case.groupby(\"ranking_group\")[\"prom_gral\"].rank(pct = True)\n"
     ]
    },
    {
     "name": "stdout",
     "output_type": "stream",
     "text": [
      "61\n"
     ]
    },
    {
     "name": "stderr",
     "output_type": "stream",
     "text": [
      "C:\\Users\\JoaquinFarina\\AppData\\Local\\Temp\\ipykernel_16524\\828017466.py:9: SettingWithCopyWarning: \n",
      "A value is trying to be set on a copy of a slice from a DataFrame.\n",
      "Try using .loc[row_indexer,col_indexer] = value instead\n",
      "\n",
      "See the caveats in the documentation: https://pandas.pydata.org/pandas-docs/stable/user_guide/indexing.html#returning-a-view-versus-a-copy\n",
      "  REND_data_acum_pct_case.loc[:, 'GPA_percentil'] =  REND_data_acum_pct_case.groupby(\"ranking_group\")[\"prom_gral\"].rank(pct = True)\n"
     ]
    },
    {
     "name": "stdout",
     "output_type": "stream",
     "text": [
      "62\n"
     ]
    },
    {
     "name": "stderr",
     "output_type": "stream",
     "text": [
      "C:\\Users\\JoaquinFarina\\AppData\\Local\\Temp\\ipykernel_16524\\828017466.py:9: SettingWithCopyWarning: \n",
      "A value is trying to be set on a copy of a slice from a DataFrame.\n",
      "Try using .loc[row_indexer,col_indexer] = value instead\n",
      "\n",
      "See the caveats in the documentation: https://pandas.pydata.org/pandas-docs/stable/user_guide/indexing.html#returning-a-view-versus-a-copy\n",
      "  REND_data_acum_pct_case.loc[:, 'GPA_percentil'] =  REND_data_acum_pct_case.groupby(\"ranking_group\")[\"prom_gral\"].rank(pct = True)\n"
     ]
    },
    {
     "name": "stdout",
     "output_type": "stream",
     "text": [
      "63\n"
     ]
    },
    {
     "name": "stderr",
     "output_type": "stream",
     "text": [
      "C:\\Users\\JoaquinFarina\\AppData\\Local\\Temp\\ipykernel_16524\\828017466.py:9: SettingWithCopyWarning: \n",
      "A value is trying to be set on a copy of a slice from a DataFrame.\n",
      "Try using .loc[row_indexer,col_indexer] = value instead\n",
      "\n",
      "See the caveats in the documentation: https://pandas.pydata.org/pandas-docs/stable/user_guide/indexing.html#returning-a-view-versus-a-copy\n",
      "  REND_data_acum_pct_case.loc[:, 'GPA_percentil'] =  REND_data_acum_pct_case.groupby(\"ranking_group\")[\"prom_gral\"].rank(pct = True)\n"
     ]
    },
    {
     "name": "stdout",
     "output_type": "stream",
     "text": [
      "64\n"
     ]
    },
    {
     "name": "stderr",
     "output_type": "stream",
     "text": [
      "C:\\Users\\JoaquinFarina\\AppData\\Local\\Temp\\ipykernel_16524\\828017466.py:9: SettingWithCopyWarning: \n",
      "A value is trying to be set on a copy of a slice from a DataFrame.\n",
      "Try using .loc[row_indexer,col_indexer] = value instead\n",
      "\n",
      "See the caveats in the documentation: https://pandas.pydata.org/pandas-docs/stable/user_guide/indexing.html#returning-a-view-versus-a-copy\n",
      "  REND_data_acum_pct_case.loc[:, 'GPA_percentil'] =  REND_data_acum_pct_case.groupby(\"ranking_group\")[\"prom_gral\"].rank(pct = True)\n"
     ]
    },
    {
     "name": "stdout",
     "output_type": "stream",
     "text": [
      "65\n"
     ]
    },
    {
     "name": "stderr",
     "output_type": "stream",
     "text": [
      "C:\\Users\\JoaquinFarina\\AppData\\Local\\Temp\\ipykernel_16524\\828017466.py:9: SettingWithCopyWarning: \n",
      "A value is trying to be set on a copy of a slice from a DataFrame.\n",
      "Try using .loc[row_indexer,col_indexer] = value instead\n",
      "\n",
      "See the caveats in the documentation: https://pandas.pydata.org/pandas-docs/stable/user_guide/indexing.html#returning-a-view-versus-a-copy\n",
      "  REND_data_acum_pct_case.loc[:, 'GPA_percentil'] =  REND_data_acum_pct_case.groupby(\"ranking_group\")[\"prom_gral\"].rank(pct = True)\n"
     ]
    },
    {
     "name": "stdout",
     "output_type": "stream",
     "text": [
      "66\n"
     ]
    },
    {
     "name": "stderr",
     "output_type": "stream",
     "text": [
      "C:\\Users\\JoaquinFarina\\AppData\\Local\\Temp\\ipykernel_16524\\828017466.py:9: SettingWithCopyWarning: \n",
      "A value is trying to be set on a copy of a slice from a DataFrame.\n",
      "Try using .loc[row_indexer,col_indexer] = value instead\n",
      "\n",
      "See the caveats in the documentation: https://pandas.pydata.org/pandas-docs/stable/user_guide/indexing.html#returning-a-view-versus-a-copy\n",
      "  REND_data_acum_pct_case.loc[:, 'GPA_percentil'] =  REND_data_acum_pct_case.groupby(\"ranking_group\")[\"prom_gral\"].rank(pct = True)\n"
     ]
    },
    {
     "name": "stdout",
     "output_type": "stream",
     "text": [
      "67\n"
     ]
    },
    {
     "name": "stderr",
     "output_type": "stream",
     "text": [
      "C:\\Users\\JoaquinFarina\\AppData\\Local\\Temp\\ipykernel_16524\\828017466.py:9: SettingWithCopyWarning: \n",
      "A value is trying to be set on a copy of a slice from a DataFrame.\n",
      "Try using .loc[row_indexer,col_indexer] = value instead\n",
      "\n",
      "See the caveats in the documentation: https://pandas.pydata.org/pandas-docs/stable/user_guide/indexing.html#returning-a-view-versus-a-copy\n",
      "  REND_data_acum_pct_case.loc[:, 'GPA_percentil'] =  REND_data_acum_pct_case.groupby(\"ranking_group\")[\"prom_gral\"].rank(pct = True)\n"
     ]
    },
    {
     "name": "stdout",
     "output_type": "stream",
     "text": [
      "68\n"
     ]
    },
    {
     "name": "stderr",
     "output_type": "stream",
     "text": [
      "C:\\Users\\JoaquinFarina\\AppData\\Local\\Temp\\ipykernel_16524\\828017466.py:9: SettingWithCopyWarning: \n",
      "A value is trying to be set on a copy of a slice from a DataFrame.\n",
      "Try using .loc[row_indexer,col_indexer] = value instead\n",
      "\n",
      "See the caveats in the documentation: https://pandas.pydata.org/pandas-docs/stable/user_guide/indexing.html#returning-a-view-versus-a-copy\n",
      "  REND_data_acum_pct_case.loc[:, 'GPA_percentil'] =  REND_data_acum_pct_case.groupby(\"ranking_group\")[\"prom_gral\"].rank(pct = True)\n"
     ]
    },
    {
     "name": "stdout",
     "output_type": "stream",
     "text": [
      "69\n"
     ]
    },
    {
     "name": "stderr",
     "output_type": "stream",
     "text": [
      "C:\\Users\\JoaquinFarina\\AppData\\Local\\Temp\\ipykernel_16524\\828017466.py:9: SettingWithCopyWarning: \n",
      "A value is trying to be set on a copy of a slice from a DataFrame.\n",
      "Try using .loc[row_indexer,col_indexer] = value instead\n",
      "\n",
      "See the caveats in the documentation: https://pandas.pydata.org/pandas-docs/stable/user_guide/indexing.html#returning-a-view-versus-a-copy\n",
      "  REND_data_acum_pct_case.loc[:, 'GPA_percentil'] =  REND_data_acum_pct_case.groupby(\"ranking_group\")[\"prom_gral\"].rank(pct = True)\n"
     ]
    },
    {
     "name": "stdout",
     "output_type": "stream",
     "text": [
      "70\n"
     ]
    },
    {
     "name": "stderr",
     "output_type": "stream",
     "text": [
      "C:\\Users\\JoaquinFarina\\AppData\\Local\\Temp\\ipykernel_16524\\828017466.py:9: SettingWithCopyWarning: \n",
      "A value is trying to be set on a copy of a slice from a DataFrame.\n",
      "Try using .loc[row_indexer,col_indexer] = value instead\n",
      "\n",
      "See the caveats in the documentation: https://pandas.pydata.org/pandas-docs/stable/user_guide/indexing.html#returning-a-view-versus-a-copy\n",
      "  REND_data_acum_pct_case.loc[:, 'GPA_percentil'] =  REND_data_acum_pct_case.groupby(\"ranking_group\")[\"prom_gral\"].rank(pct = True)\n"
     ]
    },
    {
     "name": "stdout",
     "output_type": "stream",
     "text": [
      "71\n"
     ]
    },
    {
     "name": "stderr",
     "output_type": "stream",
     "text": [
      "C:\\Users\\JoaquinFarina\\AppData\\Local\\Temp\\ipykernel_16524\\828017466.py:9: SettingWithCopyWarning: \n",
      "A value is trying to be set on a copy of a slice from a DataFrame.\n",
      "Try using .loc[row_indexer,col_indexer] = value instead\n",
      "\n",
      "See the caveats in the documentation: https://pandas.pydata.org/pandas-docs/stable/user_guide/indexing.html#returning-a-view-versus-a-copy\n",
      "  REND_data_acum_pct_case.loc[:, 'GPA_percentil'] =  REND_data_acum_pct_case.groupby(\"ranking_group\")[\"prom_gral\"].rank(pct = True)\n"
     ]
    },
    {
     "name": "stdout",
     "output_type": "stream",
     "text": [
      "72\n"
     ]
    },
    {
     "name": "stderr",
     "output_type": "stream",
     "text": [
      "C:\\Users\\JoaquinFarina\\AppData\\Local\\Temp\\ipykernel_16524\\828017466.py:9: SettingWithCopyWarning: \n",
      "A value is trying to be set on a copy of a slice from a DataFrame.\n",
      "Try using .loc[row_indexer,col_indexer] = value instead\n",
      "\n",
      "See the caveats in the documentation: https://pandas.pydata.org/pandas-docs/stable/user_guide/indexing.html#returning-a-view-versus-a-copy\n",
      "  REND_data_acum_pct_case.loc[:, 'GPA_percentil'] =  REND_data_acum_pct_case.groupby(\"ranking_group\")[\"prom_gral\"].rank(pct = True)\n"
     ]
    },
    {
     "name": "stdout",
     "output_type": "stream",
     "text": [
      "73\n"
     ]
    },
    {
     "name": "stderr",
     "output_type": "stream",
     "text": [
      "C:\\Users\\JoaquinFarina\\AppData\\Local\\Temp\\ipykernel_16524\\828017466.py:9: SettingWithCopyWarning: \n",
      "A value is trying to be set on a copy of a slice from a DataFrame.\n",
      "Try using .loc[row_indexer,col_indexer] = value instead\n",
      "\n",
      "See the caveats in the documentation: https://pandas.pydata.org/pandas-docs/stable/user_guide/indexing.html#returning-a-view-versus-a-copy\n",
      "  REND_data_acum_pct_case.loc[:, 'GPA_percentil'] =  REND_data_acum_pct_case.groupby(\"ranking_group\")[\"prom_gral\"].rank(pct = True)\n"
     ]
    },
    {
     "name": "stdout",
     "output_type": "stream",
     "text": [
      "74\n"
     ]
    },
    {
     "name": "stderr",
     "output_type": "stream",
     "text": [
      "C:\\Users\\JoaquinFarina\\AppData\\Local\\Temp\\ipykernel_16524\\828017466.py:9: SettingWithCopyWarning: \n",
      "A value is trying to be set on a copy of a slice from a DataFrame.\n",
      "Try using .loc[row_indexer,col_indexer] = value instead\n",
      "\n",
      "See the caveats in the documentation: https://pandas.pydata.org/pandas-docs/stable/user_guide/indexing.html#returning-a-view-versus-a-copy\n",
      "  REND_data_acum_pct_case.loc[:, 'GPA_percentil'] =  REND_data_acum_pct_case.groupby(\"ranking_group\")[\"prom_gral\"].rank(pct = True)\n"
     ]
    },
    {
     "name": "stdout",
     "output_type": "stream",
     "text": [
      "75\n"
     ]
    },
    {
     "name": "stderr",
     "output_type": "stream",
     "text": [
      "C:\\Users\\JoaquinFarina\\AppData\\Local\\Temp\\ipykernel_16524\\828017466.py:9: SettingWithCopyWarning: \n",
      "A value is trying to be set on a copy of a slice from a DataFrame.\n",
      "Try using .loc[row_indexer,col_indexer] = value instead\n",
      "\n",
      "See the caveats in the documentation: https://pandas.pydata.org/pandas-docs/stable/user_guide/indexing.html#returning-a-view-versus-a-copy\n",
      "  REND_data_acum_pct_case.loc[:, 'GPA_percentil'] =  REND_data_acum_pct_case.groupby(\"ranking_group\")[\"prom_gral\"].rank(pct = True)\n"
     ]
    },
    {
     "name": "stdout",
     "output_type": "stream",
     "text": [
      "76\n"
     ]
    },
    {
     "name": "stderr",
     "output_type": "stream",
     "text": [
      "C:\\Users\\JoaquinFarina\\AppData\\Local\\Temp\\ipykernel_16524\\828017466.py:9: SettingWithCopyWarning: \n",
      "A value is trying to be set on a copy of a slice from a DataFrame.\n",
      "Try using .loc[row_indexer,col_indexer] = value instead\n",
      "\n",
      "See the caveats in the documentation: https://pandas.pydata.org/pandas-docs/stable/user_guide/indexing.html#returning-a-view-versus-a-copy\n",
      "  REND_data_acum_pct_case.loc[:, 'GPA_percentil'] =  REND_data_acum_pct_case.groupby(\"ranking_group\")[\"prom_gral\"].rank(pct = True)\n"
     ]
    },
    {
     "name": "stdout",
     "output_type": "stream",
     "text": [
      "77\n"
     ]
    },
    {
     "name": "stderr",
     "output_type": "stream",
     "text": [
      "C:\\Users\\JoaquinFarina\\AppData\\Local\\Temp\\ipykernel_16524\\828017466.py:9: SettingWithCopyWarning: \n",
      "A value is trying to be set on a copy of a slice from a DataFrame.\n",
      "Try using .loc[row_indexer,col_indexer] = value instead\n",
      "\n",
      "See the caveats in the documentation: https://pandas.pydata.org/pandas-docs/stable/user_guide/indexing.html#returning-a-view-versus-a-copy\n",
      "  REND_data_acum_pct_case.loc[:, 'GPA_percentil'] =  REND_data_acum_pct_case.groupby(\"ranking_group\")[\"prom_gral\"].rank(pct = True)\n"
     ]
    },
    {
     "name": "stdout",
     "output_type": "stream",
     "text": [
      "78\n"
     ]
    },
    {
     "name": "stderr",
     "output_type": "stream",
     "text": [
      "C:\\Users\\JoaquinFarina\\AppData\\Local\\Temp\\ipykernel_16524\\828017466.py:9: SettingWithCopyWarning: \n",
      "A value is trying to be set on a copy of a slice from a DataFrame.\n",
      "Try using .loc[row_indexer,col_indexer] = value instead\n",
      "\n",
      "See the caveats in the documentation: https://pandas.pydata.org/pandas-docs/stable/user_guide/indexing.html#returning-a-view-versus-a-copy\n",
      "  REND_data_acum_pct_case.loc[:, 'GPA_percentil'] =  REND_data_acum_pct_case.groupby(\"ranking_group\")[\"prom_gral\"].rank(pct = True)\n"
     ]
    },
    {
     "name": "stdout",
     "output_type": "stream",
     "text": [
      "79\n"
     ]
    },
    {
     "name": "stderr",
     "output_type": "stream",
     "text": [
      "C:\\Users\\JoaquinFarina\\AppData\\Local\\Temp\\ipykernel_16524\\828017466.py:9: SettingWithCopyWarning: \n",
      "A value is trying to be set on a copy of a slice from a DataFrame.\n",
      "Try using .loc[row_indexer,col_indexer] = value instead\n",
      "\n",
      "See the caveats in the documentation: https://pandas.pydata.org/pandas-docs/stable/user_guide/indexing.html#returning-a-view-versus-a-copy\n",
      "  REND_data_acum_pct_case.loc[:, 'GPA_percentil'] =  REND_data_acum_pct_case.groupby(\"ranking_group\")[\"prom_gral\"].rank(pct = True)\n"
     ]
    },
    {
     "name": "stdout",
     "output_type": "stream",
     "text": [
      "80\n"
     ]
    },
    {
     "name": "stderr",
     "output_type": "stream",
     "text": [
      "C:\\Users\\JoaquinFarina\\AppData\\Local\\Temp\\ipykernel_16524\\828017466.py:9: SettingWithCopyWarning: \n",
      "A value is trying to be set on a copy of a slice from a DataFrame.\n",
      "Try using .loc[row_indexer,col_indexer] = value instead\n",
      "\n",
      "See the caveats in the documentation: https://pandas.pydata.org/pandas-docs/stable/user_guide/indexing.html#returning-a-view-versus-a-copy\n",
      "  REND_data_acum_pct_case.loc[:, 'GPA_percentil'] =  REND_data_acum_pct_case.groupby(\"ranking_group\")[\"prom_gral\"].rank(pct = True)\n"
     ]
    },
    {
     "name": "stdout",
     "output_type": "stream",
     "text": [
      "81\n"
     ]
    },
    {
     "name": "stderr",
     "output_type": "stream",
     "text": [
      "C:\\Users\\JoaquinFarina\\AppData\\Local\\Temp\\ipykernel_16524\\828017466.py:9: SettingWithCopyWarning: \n",
      "A value is trying to be set on a copy of a slice from a DataFrame.\n",
      "Try using .loc[row_indexer,col_indexer] = value instead\n",
      "\n",
      "See the caveats in the documentation: https://pandas.pydata.org/pandas-docs/stable/user_guide/indexing.html#returning-a-view-versus-a-copy\n",
      "  REND_data_acum_pct_case.loc[:, 'GPA_percentil'] =  REND_data_acum_pct_case.groupby(\"ranking_group\")[\"prom_gral\"].rank(pct = True)\n"
     ]
    },
    {
     "name": "stdout",
     "output_type": "stream",
     "text": [
      "82\n"
     ]
    },
    {
     "name": "stderr",
     "output_type": "stream",
     "text": [
      "C:\\Users\\JoaquinFarina\\AppData\\Local\\Temp\\ipykernel_16524\\828017466.py:9: SettingWithCopyWarning: \n",
      "A value is trying to be set on a copy of a slice from a DataFrame.\n",
      "Try using .loc[row_indexer,col_indexer] = value instead\n",
      "\n",
      "See the caveats in the documentation: https://pandas.pydata.org/pandas-docs/stable/user_guide/indexing.html#returning-a-view-versus-a-copy\n",
      "  REND_data_acum_pct_case.loc[:, 'GPA_percentil'] =  REND_data_acum_pct_case.groupby(\"ranking_group\")[\"prom_gral\"].rank(pct = True)\n"
     ]
    },
    {
     "name": "stdout",
     "output_type": "stream",
     "text": [
      "83\n"
     ]
    },
    {
     "name": "stderr",
     "output_type": "stream",
     "text": [
      "C:\\Users\\JoaquinFarina\\AppData\\Local\\Temp\\ipykernel_16524\\828017466.py:9: SettingWithCopyWarning: \n",
      "A value is trying to be set on a copy of a slice from a DataFrame.\n",
      "Try using .loc[row_indexer,col_indexer] = value instead\n",
      "\n",
      "See the caveats in the documentation: https://pandas.pydata.org/pandas-docs/stable/user_guide/indexing.html#returning-a-view-versus-a-copy\n",
      "  REND_data_acum_pct_case.loc[:, 'GPA_percentil'] =  REND_data_acum_pct_case.groupby(\"ranking_group\")[\"prom_gral\"].rank(pct = True)\n"
     ]
    },
    {
     "name": "stdout",
     "output_type": "stream",
     "text": [
      "84\n"
     ]
    },
    {
     "name": "stderr",
     "output_type": "stream",
     "text": [
      "C:\\Users\\JoaquinFarina\\AppData\\Local\\Temp\\ipykernel_16524\\828017466.py:9: SettingWithCopyWarning: \n",
      "A value is trying to be set on a copy of a slice from a DataFrame.\n",
      "Try using .loc[row_indexer,col_indexer] = value instead\n",
      "\n",
      "See the caveats in the documentation: https://pandas.pydata.org/pandas-docs/stable/user_guide/indexing.html#returning-a-view-versus-a-copy\n",
      "  REND_data_acum_pct_case.loc[:, 'GPA_percentil'] =  REND_data_acum_pct_case.groupby(\"ranking_group\")[\"prom_gral\"].rank(pct = True)\n"
     ]
    },
    {
     "name": "stdout",
     "output_type": "stream",
     "text": [
      "85\n"
     ]
    },
    {
     "name": "stderr",
     "output_type": "stream",
     "text": [
      "C:\\Users\\JoaquinFarina\\AppData\\Local\\Temp\\ipykernel_16524\\828017466.py:9: SettingWithCopyWarning: \n",
      "A value is trying to be set on a copy of a slice from a DataFrame.\n",
      "Try using .loc[row_indexer,col_indexer] = value instead\n",
      "\n",
      "See the caveats in the documentation: https://pandas.pydata.org/pandas-docs/stable/user_guide/indexing.html#returning-a-view-versus-a-copy\n",
      "  REND_data_acum_pct_case.loc[:, 'GPA_percentil'] =  REND_data_acum_pct_case.groupby(\"ranking_group\")[\"prom_gral\"].rank(pct = True)\n"
     ]
    },
    {
     "name": "stdout",
     "output_type": "stream",
     "text": [
      "86\n"
     ]
    },
    {
     "name": "stderr",
     "output_type": "stream",
     "text": [
      "C:\\Users\\JoaquinFarina\\AppData\\Local\\Temp\\ipykernel_16524\\828017466.py:9: SettingWithCopyWarning: \n",
      "A value is trying to be set on a copy of a slice from a DataFrame.\n",
      "Try using .loc[row_indexer,col_indexer] = value instead\n",
      "\n",
      "See the caveats in the documentation: https://pandas.pydata.org/pandas-docs/stable/user_guide/indexing.html#returning-a-view-versus-a-copy\n",
      "  REND_data_acum_pct_case.loc[:, 'GPA_percentil'] =  REND_data_acum_pct_case.groupby(\"ranking_group\")[\"prom_gral\"].rank(pct = True)\n"
     ]
    },
    {
     "name": "stdout",
     "output_type": "stream",
     "text": [
      "87\n"
     ]
    },
    {
     "name": "stderr",
     "output_type": "stream",
     "text": [
      "C:\\Users\\JoaquinFarina\\AppData\\Local\\Temp\\ipykernel_16524\\828017466.py:9: SettingWithCopyWarning: \n",
      "A value is trying to be set on a copy of a slice from a DataFrame.\n",
      "Try using .loc[row_indexer,col_indexer] = value instead\n",
      "\n",
      "See the caveats in the documentation: https://pandas.pydata.org/pandas-docs/stable/user_guide/indexing.html#returning-a-view-versus-a-copy\n",
      "  REND_data_acum_pct_case.loc[:, 'GPA_percentil'] =  REND_data_acum_pct_case.groupby(\"ranking_group\")[\"prom_gral\"].rank(pct = True)\n"
     ]
    },
    {
     "name": "stdout",
     "output_type": "stream",
     "text": [
      "88\n"
     ]
    },
    {
     "name": "stderr",
     "output_type": "stream",
     "text": [
      "C:\\Users\\JoaquinFarina\\AppData\\Local\\Temp\\ipykernel_16524\\828017466.py:9: SettingWithCopyWarning: \n",
      "A value is trying to be set on a copy of a slice from a DataFrame.\n",
      "Try using .loc[row_indexer,col_indexer] = value instead\n",
      "\n",
      "See the caveats in the documentation: https://pandas.pydata.org/pandas-docs/stable/user_guide/indexing.html#returning-a-view-versus-a-copy\n",
      "  REND_data_acum_pct_case.loc[:, 'GPA_percentil'] =  REND_data_acum_pct_case.groupby(\"ranking_group\")[\"prom_gral\"].rank(pct = True)\n"
     ]
    },
    {
     "name": "stdout",
     "output_type": "stream",
     "text": [
      "89\n"
     ]
    },
    {
     "name": "stderr",
     "output_type": "stream",
     "text": [
      "C:\\Users\\JoaquinFarina\\AppData\\Local\\Temp\\ipykernel_16524\\828017466.py:9: SettingWithCopyWarning: \n",
      "A value is trying to be set on a copy of a slice from a DataFrame.\n",
      "Try using .loc[row_indexer,col_indexer] = value instead\n",
      "\n",
      "See the caveats in the documentation: https://pandas.pydata.org/pandas-docs/stable/user_guide/indexing.html#returning-a-view-versus-a-copy\n",
      "  REND_data_acum_pct_case.loc[:, 'GPA_percentil'] =  REND_data_acum_pct_case.groupby(\"ranking_group\")[\"prom_gral\"].rank(pct = True)\n"
     ]
    },
    {
     "name": "stdout",
     "output_type": "stream",
     "text": [
      "90\n"
     ]
    },
    {
     "name": "stderr",
     "output_type": "stream",
     "text": [
      "C:\\Users\\JoaquinFarina\\AppData\\Local\\Temp\\ipykernel_16524\\828017466.py:9: SettingWithCopyWarning: \n",
      "A value is trying to be set on a copy of a slice from a DataFrame.\n",
      "Try using .loc[row_indexer,col_indexer] = value instead\n",
      "\n",
      "See the caveats in the documentation: https://pandas.pydata.org/pandas-docs/stable/user_guide/indexing.html#returning-a-view-versus-a-copy\n",
      "  REND_data_acum_pct_case.loc[:, 'GPA_percentil'] =  REND_data_acum_pct_case.groupby(\"ranking_group\")[\"prom_gral\"].rank(pct = True)\n"
     ]
    },
    {
     "name": "stdout",
     "output_type": "stream",
     "text": [
      "91\n"
     ]
    },
    {
     "name": "stderr",
     "output_type": "stream",
     "text": [
      "C:\\Users\\JoaquinFarina\\AppData\\Local\\Temp\\ipykernel_16524\\828017466.py:9: SettingWithCopyWarning: \n",
      "A value is trying to be set on a copy of a slice from a DataFrame.\n",
      "Try using .loc[row_indexer,col_indexer] = value instead\n",
      "\n",
      "See the caveats in the documentation: https://pandas.pydata.org/pandas-docs/stable/user_guide/indexing.html#returning-a-view-versus-a-copy\n",
      "  REND_data_acum_pct_case.loc[:, 'GPA_percentil'] =  REND_data_acum_pct_case.groupby(\"ranking_group\")[\"prom_gral\"].rank(pct = True)\n"
     ]
    },
    {
     "name": "stdout",
     "output_type": "stream",
     "text": [
      "92\n"
     ]
    },
    {
     "name": "stderr",
     "output_type": "stream",
     "text": [
      "C:\\Users\\JoaquinFarina\\AppData\\Local\\Temp\\ipykernel_16524\\828017466.py:9: SettingWithCopyWarning: \n",
      "A value is trying to be set on a copy of a slice from a DataFrame.\n",
      "Try using .loc[row_indexer,col_indexer] = value instead\n",
      "\n",
      "See the caveats in the documentation: https://pandas.pydata.org/pandas-docs/stable/user_guide/indexing.html#returning-a-view-versus-a-copy\n",
      "  REND_data_acum_pct_case.loc[:, 'GPA_percentil'] =  REND_data_acum_pct_case.groupby(\"ranking_group\")[\"prom_gral\"].rank(pct = True)\n"
     ]
    },
    {
     "name": "stdout",
     "output_type": "stream",
     "text": [
      "93\n"
     ]
    },
    {
     "name": "stderr",
     "output_type": "stream",
     "text": [
      "C:\\Users\\JoaquinFarina\\AppData\\Local\\Temp\\ipykernel_16524\\828017466.py:9: SettingWithCopyWarning: \n",
      "A value is trying to be set on a copy of a slice from a DataFrame.\n",
      "Try using .loc[row_indexer,col_indexer] = value instead\n",
      "\n",
      "See the caveats in the documentation: https://pandas.pydata.org/pandas-docs/stable/user_guide/indexing.html#returning-a-view-versus-a-copy\n",
      "  REND_data_acum_pct_case.loc[:, 'GPA_percentil'] =  REND_data_acum_pct_case.groupby(\"ranking_group\")[\"prom_gral\"].rank(pct = True)\n"
     ]
    },
    {
     "name": "stdout",
     "output_type": "stream",
     "text": [
      "94\n"
     ]
    },
    {
     "name": "stderr",
     "output_type": "stream",
     "text": [
      "C:\\Users\\JoaquinFarina\\AppData\\Local\\Temp\\ipykernel_16524\\828017466.py:9: SettingWithCopyWarning: \n",
      "A value is trying to be set on a copy of a slice from a DataFrame.\n",
      "Try using .loc[row_indexer,col_indexer] = value instead\n",
      "\n",
      "See the caveats in the documentation: https://pandas.pydata.org/pandas-docs/stable/user_guide/indexing.html#returning-a-view-versus-a-copy\n",
      "  REND_data_acum_pct_case.loc[:, 'GPA_percentil'] =  REND_data_acum_pct_case.groupby(\"ranking_group\")[\"prom_gral\"].rank(pct = True)\n"
     ]
    },
    {
     "name": "stdout",
     "output_type": "stream",
     "text": [
      "95\n"
     ]
    },
    {
     "name": "stderr",
     "output_type": "stream",
     "text": [
      "C:\\Users\\JoaquinFarina\\AppData\\Local\\Temp\\ipykernel_16524\\828017466.py:9: SettingWithCopyWarning: \n",
      "A value is trying to be set on a copy of a slice from a DataFrame.\n",
      "Try using .loc[row_indexer,col_indexer] = value instead\n",
      "\n",
      "See the caveats in the documentation: https://pandas.pydata.org/pandas-docs/stable/user_guide/indexing.html#returning-a-view-versus-a-copy\n",
      "  REND_data_acum_pct_case.loc[:, 'GPA_percentil'] =  REND_data_acum_pct_case.groupby(\"ranking_group\")[\"prom_gral\"].rank(pct = True)\n"
     ]
    },
    {
     "name": "stdout",
     "output_type": "stream",
     "text": [
      "96\n"
     ]
    },
    {
     "name": "stderr",
     "output_type": "stream",
     "text": [
      "C:\\Users\\JoaquinFarina\\AppData\\Local\\Temp\\ipykernel_16524\\828017466.py:9: SettingWithCopyWarning: \n",
      "A value is trying to be set on a copy of a slice from a DataFrame.\n",
      "Try using .loc[row_indexer,col_indexer] = value instead\n",
      "\n",
      "See the caveats in the documentation: https://pandas.pydata.org/pandas-docs/stable/user_guide/indexing.html#returning-a-view-versus-a-copy\n",
      "  REND_data_acum_pct_case.loc[:, 'GPA_percentil'] =  REND_data_acum_pct_case.groupby(\"ranking_group\")[\"prom_gral\"].rank(pct = True)\n"
     ]
    },
    {
     "name": "stdout",
     "output_type": "stream",
     "text": [
      "97\n"
     ]
    },
    {
     "name": "stderr",
     "output_type": "stream",
     "text": [
      "C:\\Users\\JoaquinFarina\\AppData\\Local\\Temp\\ipykernel_16524\\828017466.py:9: SettingWithCopyWarning: \n",
      "A value is trying to be set on a copy of a slice from a DataFrame.\n",
      "Try using .loc[row_indexer,col_indexer] = value instead\n",
      "\n",
      "See the caveats in the documentation: https://pandas.pydata.org/pandas-docs/stable/user_guide/indexing.html#returning-a-view-versus-a-copy\n",
      "  REND_data_acum_pct_case.loc[:, 'GPA_percentil'] =  REND_data_acum_pct_case.groupby(\"ranking_group\")[\"prom_gral\"].rank(pct = True)\n"
     ]
    },
    {
     "name": "stdout",
     "output_type": "stream",
     "text": [
      "98\n"
     ]
    },
    {
     "name": "stderr",
     "output_type": "stream",
     "text": [
      "C:\\Users\\JoaquinFarina\\AppData\\Local\\Temp\\ipykernel_16524\\828017466.py:9: SettingWithCopyWarning: \n",
      "A value is trying to be set on a copy of a slice from a DataFrame.\n",
      "Try using .loc[row_indexer,col_indexer] = value instead\n",
      "\n",
      "See the caveats in the documentation: https://pandas.pydata.org/pandas-docs/stable/user_guide/indexing.html#returning-a-view-versus-a-copy\n",
      "  REND_data_acum_pct_case.loc[:, 'GPA_percentil'] =  REND_data_acum_pct_case.groupby(\"ranking_group\")[\"prom_gral\"].rank(pct = True)\n"
     ]
    },
    {
     "name": "stdout",
     "output_type": "stream",
     "text": [
      "99\n"
     ]
    },
    {
     "name": "stderr",
     "output_type": "stream",
     "text": [
      "C:\\Users\\JoaquinFarina\\AppData\\Local\\Temp\\ipykernel_16524\\828017466.py:9: SettingWithCopyWarning: \n",
      "A value is trying to be set on a copy of a slice from a DataFrame.\n",
      "Try using .loc[row_indexer,col_indexer] = value instead\n",
      "\n",
      "See the caveats in the documentation: https://pandas.pydata.org/pandas-docs/stable/user_guide/indexing.html#returning-a-view-versus-a-copy\n",
      "  REND_data_acum_pct_case.loc[:, 'GPA_percentil'] =  REND_data_acum_pct_case.groupby(\"ranking_group\")[\"prom_gral\"].rank(pct = True)\n"
     ]
    },
    {
     "name": "stdout",
     "output_type": "stream",
     "text": [
      "100\n"
     ]
    },
    {
     "name": "stderr",
     "output_type": "stream",
     "text": [
      "C:\\Users\\JoaquinFarina\\AppData\\Local\\Temp\\ipykernel_16524\\828017466.py:9: SettingWithCopyWarning: \n",
      "A value is trying to be set on a copy of a slice from a DataFrame.\n",
      "Try using .loc[row_indexer,col_indexer] = value instead\n",
      "\n",
      "See the caveats in the documentation: https://pandas.pydata.org/pandas-docs/stable/user_guide/indexing.html#returning-a-view-versus-a-copy\n",
      "  REND_data_acum_pct_case.loc[:, 'GPA_percentil'] =  REND_data_acum_pct_case.groupby(\"ranking_group\")[\"prom_gral\"].rank(pct = True)\n"
     ]
    },
    {
     "name": "stdout",
     "output_type": "stream",
     "text": [
      "101\n"
     ]
    },
    {
     "name": "stderr",
     "output_type": "stream",
     "text": [
      "C:\\Users\\JoaquinFarina\\AppData\\Local\\Temp\\ipykernel_16524\\828017466.py:9: SettingWithCopyWarning: \n",
      "A value is trying to be set on a copy of a slice from a DataFrame.\n",
      "Try using .loc[row_indexer,col_indexer] = value instead\n",
      "\n",
      "See the caveats in the documentation: https://pandas.pydata.org/pandas-docs/stable/user_guide/indexing.html#returning-a-view-versus-a-copy\n",
      "  REND_data_acum_pct_case.loc[:, 'GPA_percentil'] =  REND_data_acum_pct_case.groupby(\"ranking_group\")[\"prom_gral\"].rank(pct = True)\n"
     ]
    },
    {
     "name": "stdout",
     "output_type": "stream",
     "text": [
      "102\n"
     ]
    },
    {
     "name": "stderr",
     "output_type": "stream",
     "text": [
      "C:\\Users\\JoaquinFarina\\AppData\\Local\\Temp\\ipykernel_16524\\828017466.py:9: SettingWithCopyWarning: \n",
      "A value is trying to be set on a copy of a slice from a DataFrame.\n",
      "Try using .loc[row_indexer,col_indexer] = value instead\n",
      "\n",
      "See the caveats in the documentation: https://pandas.pydata.org/pandas-docs/stable/user_guide/indexing.html#returning-a-view-versus-a-copy\n",
      "  REND_data_acum_pct_case.loc[:, 'GPA_percentil'] =  REND_data_acum_pct_case.groupby(\"ranking_group\")[\"prom_gral\"].rank(pct = True)\n"
     ]
    },
    {
     "name": "stdout",
     "output_type": "stream",
     "text": [
      "103\n"
     ]
    },
    {
     "name": "stderr",
     "output_type": "stream",
     "text": [
      "C:\\Users\\JoaquinFarina\\AppData\\Local\\Temp\\ipykernel_16524\\828017466.py:9: SettingWithCopyWarning: \n",
      "A value is trying to be set on a copy of a slice from a DataFrame.\n",
      "Try using .loc[row_indexer,col_indexer] = value instead\n",
      "\n",
      "See the caveats in the documentation: https://pandas.pydata.org/pandas-docs/stable/user_guide/indexing.html#returning-a-view-versus-a-copy\n",
      "  REND_data_acum_pct_case.loc[:, 'GPA_percentil'] =  REND_data_acum_pct_case.groupby(\"ranking_group\")[\"prom_gral\"].rank(pct = True)\n"
     ]
    },
    {
     "name": "stdout",
     "output_type": "stream",
     "text": [
      "104\n"
     ]
    },
    {
     "name": "stderr",
     "output_type": "stream",
     "text": [
      "C:\\Users\\JoaquinFarina\\AppData\\Local\\Temp\\ipykernel_16524\\828017466.py:9: SettingWithCopyWarning: \n",
      "A value is trying to be set on a copy of a slice from a DataFrame.\n",
      "Try using .loc[row_indexer,col_indexer] = value instead\n",
      "\n",
      "See the caveats in the documentation: https://pandas.pydata.org/pandas-docs/stable/user_guide/indexing.html#returning-a-view-versus-a-copy\n",
      "  REND_data_acum_pct_case.loc[:, 'GPA_percentil'] =  REND_data_acum_pct_case.groupby(\"ranking_group\")[\"prom_gral\"].rank(pct = True)\n"
     ]
    },
    {
     "name": "stdout",
     "output_type": "stream",
     "text": [
      "105\n"
     ]
    },
    {
     "name": "stderr",
     "output_type": "stream",
     "text": [
      "C:\\Users\\JoaquinFarina\\AppData\\Local\\Temp\\ipykernel_16524\\828017466.py:9: SettingWithCopyWarning: \n",
      "A value is trying to be set on a copy of a slice from a DataFrame.\n",
      "Try using .loc[row_indexer,col_indexer] = value instead\n",
      "\n",
      "See the caveats in the documentation: https://pandas.pydata.org/pandas-docs/stable/user_guide/indexing.html#returning-a-view-versus-a-copy\n",
      "  REND_data_acum_pct_case.loc[:, 'GPA_percentil'] =  REND_data_acum_pct_case.groupby(\"ranking_group\")[\"prom_gral\"].rank(pct = True)\n"
     ]
    },
    {
     "name": "stdout",
     "output_type": "stream",
     "text": [
      "106\n"
     ]
    },
    {
     "name": "stderr",
     "output_type": "stream",
     "text": [
      "C:\\Users\\JoaquinFarina\\AppData\\Local\\Temp\\ipykernel_16524\\828017466.py:9: SettingWithCopyWarning: \n",
      "A value is trying to be set on a copy of a slice from a DataFrame.\n",
      "Try using .loc[row_indexer,col_indexer] = value instead\n",
      "\n",
      "See the caveats in the documentation: https://pandas.pydata.org/pandas-docs/stable/user_guide/indexing.html#returning-a-view-versus-a-copy\n",
      "  REND_data_acum_pct_case.loc[:, 'GPA_percentil'] =  REND_data_acum_pct_case.groupby(\"ranking_group\")[\"prom_gral\"].rank(pct = True)\n"
     ]
    },
    {
     "name": "stdout",
     "output_type": "stream",
     "text": [
      "107\n"
     ]
    },
    {
     "name": "stderr",
     "output_type": "stream",
     "text": [
      "C:\\Users\\JoaquinFarina\\AppData\\Local\\Temp\\ipykernel_16524\\828017466.py:9: SettingWithCopyWarning: \n",
      "A value is trying to be set on a copy of a slice from a DataFrame.\n",
      "Try using .loc[row_indexer,col_indexer] = value instead\n",
      "\n",
      "See the caveats in the documentation: https://pandas.pydata.org/pandas-docs/stable/user_guide/indexing.html#returning-a-view-versus-a-copy\n",
      "  REND_data_acum_pct_case.loc[:, 'GPA_percentil'] =  REND_data_acum_pct_case.groupby(\"ranking_group\")[\"prom_gral\"].rank(pct = True)\n"
     ]
    },
    {
     "name": "stdout",
     "output_type": "stream",
     "text": [
      "108\n"
     ]
    },
    {
     "name": "stderr",
     "output_type": "stream",
     "text": [
      "C:\\Users\\JoaquinFarina\\AppData\\Local\\Temp\\ipykernel_16524\\828017466.py:9: SettingWithCopyWarning: \n",
      "A value is trying to be set on a copy of a slice from a DataFrame.\n",
      "Try using .loc[row_indexer,col_indexer] = value instead\n",
      "\n",
      "See the caveats in the documentation: https://pandas.pydata.org/pandas-docs/stable/user_guide/indexing.html#returning-a-view-versus-a-copy\n",
      "  REND_data_acum_pct_case.loc[:, 'GPA_percentil'] =  REND_data_acum_pct_case.groupby(\"ranking_group\")[\"prom_gral\"].rank(pct = True)\n"
     ]
    },
    {
     "name": "stdout",
     "output_type": "stream",
     "text": [
      "109\n"
     ]
    },
    {
     "name": "stderr",
     "output_type": "stream",
     "text": [
      "C:\\Users\\JoaquinFarina\\AppData\\Local\\Temp\\ipykernel_16524\\828017466.py:9: SettingWithCopyWarning: \n",
      "A value is trying to be set on a copy of a slice from a DataFrame.\n",
      "Try using .loc[row_indexer,col_indexer] = value instead\n",
      "\n",
      "See the caveats in the documentation: https://pandas.pydata.org/pandas-docs/stable/user_guide/indexing.html#returning-a-view-versus-a-copy\n",
      "  REND_data_acum_pct_case.loc[:, 'GPA_percentil'] =  REND_data_acum_pct_case.groupby(\"ranking_group\")[\"prom_gral\"].rank(pct = True)\n"
     ]
    },
    {
     "name": "stdout",
     "output_type": "stream",
     "text": [
      "110\n"
     ]
    },
    {
     "name": "stderr",
     "output_type": "stream",
     "text": [
      "C:\\Users\\JoaquinFarina\\AppData\\Local\\Temp\\ipykernel_16524\\828017466.py:9: SettingWithCopyWarning: \n",
      "A value is trying to be set on a copy of a slice from a DataFrame.\n",
      "Try using .loc[row_indexer,col_indexer] = value instead\n",
      "\n",
      "See the caveats in the documentation: https://pandas.pydata.org/pandas-docs/stable/user_guide/indexing.html#returning-a-view-versus-a-copy\n",
      "  REND_data_acum_pct_case.loc[:, 'GPA_percentil'] =  REND_data_acum_pct_case.groupby(\"ranking_group\")[\"prom_gral\"].rank(pct = True)\n"
     ]
    }
   ],
   "source": [
    "tot_rbd = list(REND_data_acum.rbd.unique())\n",
    "chunk_size = 100\n",
    "tot_data = []\n",
    "for i in range(0, int(len(tot_rbd)/100) +1):\n",
    "    print(i)\n",
    "    chunk = tot_rbd[i*100:(i+1)*100]\n",
    "    \n",
    "    REND_data_acum_pct_case = REND_data_acum[REND_data_acum.rbd.isin(chunk)]\n",
    "    REND_data_acum_pct_case.loc[:, 'GPA_percentil'] =  REND_data_acum_pct_case.groupby(\"ranking_group\")[\"prom_gral\"].rank(pct = True)\n",
    "\n",
    "    \n",
    "    if i == 0:\n",
    "        REND_data_acum_pct = REND_data_acum_pct_case.copy()\n",
    "    else:\n",
    "        REND_data_acum_pct = pd.concat([REND_data_acum_pct, REND_data_acum_pct_case])\n",
    "        "
   ]
  },
  {
   "cell_type": "code",
   "execution_count": 16,
   "id": "b32e917a",
   "metadata": {
    "ExecuteTime": {
     "end_time": "2023-10-29T22:12:29.901052Z",
     "start_time": "2023-10-29T22:12:29.850113Z"
    }
   },
   "outputs": [],
   "source": [
    "REND_data_acum_pct.to_csv(r'Datos\\Intermedios\\DatosAbiertos\\20231127_rendimiento_asistencia_sit_fin_2002_2023.csv', index=False) # rendimiento_asistencia_sit_fin_2004_2019_curso_rbd_mrun"
   ]
  },
  {
   "cell_type": "markdown",
   "id": "e9d611ef",
   "metadata": {},
   "source": [
    "# DF school vulnerability"
   ]
  },
  {
   "cell_type": "code",
   "execution_count": 47,
   "id": "50ae2e7f",
   "metadata": {
    "ExecuteTime": {
     "end_time": "2023-10-29T12:36:12.448928Z",
     "start_time": "2023-10-29T12:35:53.789450Z"
    }
   },
   "outputs": [
    {
     "name": "stdout",
     "output_type": "stream",
     "text": [
      "IVE_10.xls\n",
      "IVE_11.xls\n",
      "IVE_12.xlsx\n",
      "IVE_13.xlsx\n",
      "IVE_14.xlsx\n",
      "IVE_15.xlsx\n"
     ]
    },
    {
     "name": "stderr",
     "output_type": "stream",
     "text": [
      "C:\\Users\\JoaquinFarina\\anaconda3\\lib\\site-packages\\openpyxl\\worksheet\\_read_only.py:79: UserWarning: Unknown extension is not supported and will be removed\n",
      "  for idx, row in parser.parse():\n",
      "C:\\Users\\JoaquinFarina\\anaconda3\\lib\\site-packages\\openpyxl\\worksheet\\_read_only.py:79: UserWarning: Unknown extension is not supported and will be removed\n",
      "  for idx, row in parser.parse():\n"
     ]
    },
    {
     "name": "stdout",
     "output_type": "stream",
     "text": [
      "IVE_16.xlsx\n",
      "IVE_17.xlsx\n",
      "IVE_18.xlsx\n",
      "IVE_19.xlsx\n"
     ]
    }
   ],
   "source": [
    "dict_year_grade_type = {}\n",
    "IVE_EE_10_19 = pd.DataFrame(columns = ['agno','ciclo','RBD','p1_porcentaje','IVE'])\n",
    "for root, dirs, files in os.walk(EE_path):\n",
    "     for file in files:\n",
    "            if ('IVE' in file) & ('~' not in file):\n",
    "                path_file = os.path.join(root, file)\n",
    "                data = pd.ExcelFile(path_file)\n",
    "                \n",
    "                basica = pd.read_excel(data, 'BASICA')\n",
    "                \n",
    "                if 'xlsx' not in path_file:\n",
    "                    a = path_file[-6:-4]\n",
    "                else:\n",
    "                    a = path_file[-7:-5]\n",
    "                    \n",
    "                basica['agno'] = 2000 + int(a)\n",
    "                basica['ciclo'] = 'b'\n",
    "                total_matricula_col = [x for x in basica.columns if 'TOTAL' in x][0]\n",
    "                basica['p1_porcentaje'] = basica['PRIMERA PRIORIDAD']/basica[total_matricula_col]\n",
    "                ive_col = [x for x in basica.columns if 'SINAE' in x][0]\n",
    "                basica.rename(columns = {ive_col:'IVE'},inplace=True) \n",
    "                basica = basica[['agno','ciclo','RBD','p1_porcentaje','IVE']]\n",
    "                \n",
    "                \n",
    "                media = pd.read_excel(data, 'MEDIA')\n",
    "                year = 2000 + int(a)\n",
    "                media['agno'] = year\n",
    "                media['ciclo'] = 'm'\n",
    "                total_matricula_col = [x for x in media.columns if 'TOTAL' in x][0]\n",
    "                media['p1_porcentaje'] = media['PRIMERA PRIORIDAD']/media[total_matricula_col]\n",
    "                ive_col = [x for x in media.columns if 'SINAE' in x][0]\n",
    "                media.rename(columns = {ive_col:'IVE'},inplace=True) \n",
    "                media = media[['agno','ciclo','RBD','p1_porcentaje','IVE']]                \n",
    "                \n",
    "                print(file)\n",
    "                \n",
    "                if year in [2010,2011,2015]:\n",
    "                    media['IVE'] = media.IVE/100\n",
    "                    basica['IVE'] = basica.IVE/100\n",
    "                \n",
    "                IVE_EE_10_19 = pd.concat([IVE_EE_10_19,basica])\n",
    "                IVE_EE_10_19 = pd.concat([IVE_EE_10_19,media])\n",
    "                \n",
    "\n",
    "IVE_EE_10_19 = IVE_EE_10_19[~IVE_EE_10_19.RBD.isin(['TOTAL GENERAL','Total general'])]\n",
    "IVE_EE_10_19.rename(columns={'RBD':'rbd'},inplace=True)\n",
    "IVE_EE_10_19['rbd'] = pd.to_numeric(IVE_EE_10_19.rbd)\n",
    "IVE_EE_10_19.rename(columns={'agno_idalumno':'agno'},inplace=True)\n",
    "IVE_EE_10_19.to_csv(r'Datos\\Intermedios\\DatosAbiertos\\IVE_total_10_19.csv', index = False)"
   ]
  }
 ],
 "metadata": {
  "kernelspec": {
   "display_name": "Python 3 (ipykernel)",
   "language": "python",
   "name": "python3"
  },
  "language_info": {
   "codemirror_mode": {
    "name": "ipython",
    "version": 3
   },
   "file_extension": ".py",
   "mimetype": "text/x-python",
   "name": "python",
   "nbconvert_exporter": "python",
   "pygments_lexer": "ipython3",
   "version": "3.9.13"
  },
  "latex_envs": {
   "LaTeX_envs_menu_present": true,
   "autoclose": false,
   "autocomplete": true,
   "bibliofile": "biblio.bib",
   "cite_by": "apalike",
   "current_citInitial": 1,
   "eqLabelWithNumbers": true,
   "eqNumInitial": 1,
   "hotkeys": {
    "equation": "Ctrl-E",
    "itemize": "Ctrl-I"
   },
   "labels_anchors": false,
   "latex_user_defs": false,
   "report_style_numbering": false,
   "user_envs_cfg": false
  },
  "toc": {
   "base_numbering": 1,
   "nav_menu": {},
   "number_sections": true,
   "sideBar": true,
   "skip_h1_title": false,
   "title_cell": "Table of Contents",
   "title_sidebar": "Contents",
   "toc_cell": false,
   "toc_position": {},
   "toc_section_display": true,
   "toc_window_display": true
  },
  "varInspector": {
   "cols": {
    "lenName": 16,
    "lenType": 16,
    "lenVar": 40
   },
   "kernels_config": {
    "python": {
     "delete_cmd_postfix": "",
     "delete_cmd_prefix": "del ",
     "library": "var_list.py",
     "varRefreshCmd": "print(var_dic_list())"
    },
    "r": {
     "delete_cmd_postfix": ") ",
     "delete_cmd_prefix": "rm(",
     "library": "var_list.r",
     "varRefreshCmd": "cat(var_dic_list()) "
    }
   },
   "types_to_exclude": [
    "module",
    "function",
    "builtin_function_or_method",
    "instance",
    "_Feature"
   ],
   "window_display": false
  }
 },
 "nbformat": 4,
 "nbformat_minor": 5
}
