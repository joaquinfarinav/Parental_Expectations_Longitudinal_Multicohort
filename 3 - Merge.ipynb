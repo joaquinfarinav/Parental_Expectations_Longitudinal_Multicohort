{
 "cells": [
  {
   "cell_type": "code",
   "execution_count": 1,
   "id": "b7a0d93a",
   "metadata": {
    "ExecuteTime": {
     "end_time": "2023-10-30T01:35:07.324105Z",
     "start_time": "2023-10-30T01:35:06.894426Z"
    }
   },
   "outputs": [],
   "source": [
    "import pandas as pd"
   ]
  },
  {
   "cell_type": "markdown",
   "id": "15972a3e",
   "metadata": {},
   "source": [
    "# ID match\n",
    "Viene de leer archivos \"_alu\" que asocian mrun con idalumno. Únicamente bases simce"
   ]
  },
  {
   "cell_type": "code",
   "execution_count": 2,
   "id": "2b233494",
   "metadata": {
    "ExecuteTime": {
     "end_time": "2023-10-29T13:39:04.916304Z",
     "start_time": "2023-10-29T13:38:55.143521Z"
    }
   },
   "outputs": [],
   "source": [
    "data_tot_mrun = pd.read_csv('Datos\\Intermedios\\Agencia\\20231017_idalumno_match_mrun_2002_2022.csv')"
   ]
  },
  {
   "cell_type": "code",
   "execution_count": 3,
   "id": "983c0573",
   "metadata": {
    "ExecuteTime": {
     "end_time": "2023-10-29T13:39:04.962243Z",
     "start_time": "2023-10-29T13:39:04.919301Z"
    }
   },
   "outputs": [
    {
     "data": {
      "text/html": [
       "<div>\n",
       "<style scoped>\n",
       "    .dataframe tbody tr th:only-of-type {\n",
       "        vertical-align: middle;\n",
       "    }\n",
       "\n",
       "    .dataframe tbody tr th {\n",
       "        vertical-align: top;\n",
       "    }\n",
       "\n",
       "    .dataframe thead th {\n",
       "        text-align: right;\n",
       "    }\n",
       "</style>\n",
       "<table border=\"1\" class=\"dataframe\">\n",
       "  <thead>\n",
       "    <tr style=\"text-align: right;\">\n",
       "      <th></th>\n",
       "      <th>agno</th>\n",
       "      <th>curso</th>\n",
       "      <th>idalumno</th>\n",
       "      <th>mrun</th>\n",
       "      <th>rbd</th>\n",
       "      <th>is_duplicate</th>\n",
       "      <th>in_simce</th>\n",
       "    </tr>\n",
       "  </thead>\n",
       "  <tbody>\n",
       "    <tr>\n",
       "      <th>0</th>\n",
       "      <td>2002</td>\n",
       "      <td>4b</td>\n",
       "      <td>100097</td>\n",
       "      <td>10830433.0</td>\n",
       "      <td>24898.0</td>\n",
       "      <td>False</td>\n",
       "      <td>1</td>\n",
       "    </tr>\n",
       "    <tr>\n",
       "      <th>1</th>\n",
       "      <td>2002</td>\n",
       "      <td>4b</td>\n",
       "      <td>154511</td>\n",
       "      <td>15854082.0</td>\n",
       "      <td>257.0</td>\n",
       "      <td>False</td>\n",
       "      <td>1</td>\n",
       "    </tr>\n",
       "    <tr>\n",
       "      <th>2</th>\n",
       "      <td>2002</td>\n",
       "      <td>4b</td>\n",
       "      <td>92062</td>\n",
       "      <td>15854120.0</td>\n",
       "      <td>10106.0</td>\n",
       "      <td>False</td>\n",
       "      <td>1</td>\n",
       "    </tr>\n",
       "    <tr>\n",
       "      <th>3</th>\n",
       "      <td>2002</td>\n",
       "      <td>4b</td>\n",
       "      <td>179790</td>\n",
       "      <td>15854121.0</td>\n",
       "      <td>1218.0</td>\n",
       "      <td>False</td>\n",
       "      <td>1</td>\n",
       "    </tr>\n",
       "    <tr>\n",
       "      <th>4</th>\n",
       "      <td>2002</td>\n",
       "      <td>4b</td>\n",
       "      <td>17375</td>\n",
       "      <td>15854222.0</td>\n",
       "      <td>22279.0</td>\n",
       "      <td>False</td>\n",
       "      <td>1</td>\n",
       "    </tr>\n",
       "    <tr>\n",
       "      <th>...</th>\n",
       "      <td>...</td>\n",
       "      <td>...</td>\n",
       "      <td>...</td>\n",
       "      <td>...</td>\n",
       "      <td>...</td>\n",
       "      <td>...</td>\n",
       "      <td>...</td>\n",
       "    </tr>\n",
       "    <tr>\n",
       "      <th>12012091</th>\n",
       "      <td>2007</td>\n",
       "      <td>8b</td>\n",
       "      <td>260259</td>\n",
       "      <td>2410680.0</td>\n",
       "      <td>11033.0</td>\n",
       "      <td>False</td>\n",
       "      <td>1</td>\n",
       "    </tr>\n",
       "    <tr>\n",
       "      <th>12012092</th>\n",
       "      <td>2014</td>\n",
       "      <td>2m</td>\n",
       "      <td>223671</td>\n",
       "      <td>16387974.0</td>\n",
       "      <td>26367.0</td>\n",
       "      <td>False</td>\n",
       "      <td>1</td>\n",
       "    </tr>\n",
       "    <tr>\n",
       "      <th>12012093</th>\n",
       "      <td>2011</td>\n",
       "      <td>8b</td>\n",
       "      <td>242325</td>\n",
       "      <td>10786905.0</td>\n",
       "      <td>10102.0</td>\n",
       "      <td>False</td>\n",
       "      <td>1</td>\n",
       "    </tr>\n",
       "    <tr>\n",
       "      <th>12012094</th>\n",
       "      <td>2006</td>\n",
       "      <td>2m</td>\n",
       "      <td>232363</td>\n",
       "      <td>17952154.0</td>\n",
       "      <td>17607.0</td>\n",
       "      <td>False</td>\n",
       "      <td>1</td>\n",
       "    </tr>\n",
       "    <tr>\n",
       "      <th>12012095</th>\n",
       "      <td>2009</td>\n",
       "      <td>8b</td>\n",
       "      <td>13999</td>\n",
       "      <td>12516700.0</td>\n",
       "      <td>25999.0</td>\n",
       "      <td>False</td>\n",
       "      <td>1</td>\n",
       "    </tr>\n",
       "  </tbody>\n",
       "</table>\n",
       "<p>12012096 rows × 7 columns</p>\n",
       "</div>"
      ],
      "text/plain": [
       "          agno curso  idalumno        mrun      rbd  is_duplicate  in_simce\n",
       "0         2002    4b    100097  10830433.0  24898.0         False         1\n",
       "1         2002    4b    154511  15854082.0    257.0         False         1\n",
       "2         2002    4b     92062  15854120.0  10106.0         False         1\n",
       "3         2002    4b    179790  15854121.0   1218.0         False         1\n",
       "4         2002    4b     17375  15854222.0  22279.0         False         1\n",
       "...        ...   ...       ...         ...      ...           ...       ...\n",
       "12012091  2007    8b    260259   2410680.0  11033.0         False         1\n",
       "12012092  2014    2m    223671  16387974.0  26367.0         False         1\n",
       "12012093  2011    8b    242325  10786905.0  10102.0         False         1\n",
       "12012094  2006    2m    232363  17952154.0  17607.0         False         1\n",
       "12012095  2009    8b     13999  12516700.0  25999.0         False         1\n",
       "\n",
       "[12012096 rows x 7 columns]"
      ]
     },
     "execution_count": 3,
     "metadata": {},
     "output_type": "execute_result"
    }
   ],
   "source": [
    "data_tot_mrun"
   ]
  },
  {
   "cell_type": "markdown",
   "id": "a694605c",
   "metadata": {},
   "source": [
    "# Matrícula oficial 1° básico"
   ]
  },
  {
   "cell_type": "code",
   "execution_count": 4,
   "id": "c278376f",
   "metadata": {
    "ExecuteTime": {
     "end_time": "2023-10-29T13:39:05.840453Z",
     "start_time": "2023-10-29T13:39:04.967202Z"
    }
   },
   "outputs": [],
   "source": [
    "MAT_1b_data_acum = pd.read_csv(r'Datos\\Intermedios\\DatosAbiertos\\matricula_grade1_mrun_T1_T11_2002_2013.csv')"
   ]
  },
  {
   "cell_type": "code",
   "execution_count": 5,
   "id": "c1d2c4a0",
   "metadata": {
    "ExecuteTime": {
     "end_time": "2023-10-29T13:39:06.385900Z",
     "start_time": "2023-10-29T13:39:05.841246Z"
    }
   },
   "outputs": [
    {
     "data": {
      "text/plain": [
       "0"
      ]
     },
     "execution_count": 5,
     "metadata": {},
     "output_type": "execute_result"
    }
   ],
   "source": [
    "MAT_1b_data_acum.duplicated(['agno','mrun']).sum()"
   ]
  },
  {
   "cell_type": "code",
   "execution_count": 6,
   "id": "59842db7",
   "metadata": {
    "ExecuteTime": {
     "end_time": "2023-10-29T13:39:06.417134Z",
     "start_time": "2023-10-29T13:39:06.386858Z"
    }
   },
   "outputs": [],
   "source": [
    "MAT_1b_data_acum = MAT_1b_data_acum.drop(columns = 'Unnamed: 0') # grade1_enrollment"
   ]
  },
  {
   "cell_type": "code",
   "execution_count": 7,
   "id": "b04b2c2d",
   "metadata": {
    "ExecuteTime": {
     "end_time": "2023-10-29T13:39:06.449107Z",
     "start_time": "2023-10-29T13:39:06.419657Z"
    }
   },
   "outputs": [],
   "source": [
    "MAT_1b_data_acum = MAT_1b_data_acum.rename(columns = {'agno': 'agno_grade1_enrolled'})"
   ]
  },
  {
   "cell_type": "code",
   "execution_count": 8,
   "id": "14cd7103",
   "metadata": {
    "ExecuteTime": {
     "end_time": "2023-10-29T13:39:06.464069Z",
     "start_time": "2023-10-29T13:39:06.451141Z"
    }
   },
   "outputs": [
    {
     "data": {
      "text/html": [
       "<div>\n",
       "<style scoped>\n",
       "    .dataframe tbody tr th:only-of-type {\n",
       "        vertical-align: middle;\n",
       "    }\n",
       "\n",
       "    .dataframe tbody tr th {\n",
       "        vertical-align: top;\n",
       "    }\n",
       "\n",
       "    .dataframe thead th {\n",
       "        text-align: right;\n",
       "    }\n",
       "</style>\n",
       "<table border=\"1\" class=\"dataframe\">\n",
       "  <thead>\n",
       "    <tr style=\"text-align: right;\">\n",
       "      <th></th>\n",
       "      <th>agno_grade1_enrolled</th>\n",
       "      <th>mrun</th>\n",
       "    </tr>\n",
       "  </thead>\n",
       "  <tbody>\n",
       "    <tr>\n",
       "      <th>0</th>\n",
       "      <td>2005</td>\n",
       "      <td>17.0</td>\n",
       "    </tr>\n",
       "    <tr>\n",
       "      <th>1</th>\n",
       "      <td>2005</td>\n",
       "      <td>18.0</td>\n",
       "    </tr>\n",
       "    <tr>\n",
       "      <th>2</th>\n",
       "      <td>2006</td>\n",
       "      <td>19.0</td>\n",
       "    </tr>\n",
       "    <tr>\n",
       "      <th>3</th>\n",
       "      <td>2006</td>\n",
       "      <td>20.0</td>\n",
       "    </tr>\n",
       "    <tr>\n",
       "      <th>4</th>\n",
       "      <td>2009</td>\n",
       "      <td>25.0</td>\n",
       "    </tr>\n",
       "    <tr>\n",
       "      <th>...</th>\n",
       "      <td>...</td>\n",
       "      <td>...</td>\n",
       "    </tr>\n",
       "    <tr>\n",
       "      <th>2881143</th>\n",
       "      <td>2013</td>\n",
       "      <td>25080510.0</td>\n",
       "    </tr>\n",
       "    <tr>\n",
       "      <th>2881144</th>\n",
       "      <td>2013</td>\n",
       "      <td>25080516.0</td>\n",
       "    </tr>\n",
       "    <tr>\n",
       "      <th>2881145</th>\n",
       "      <td>2013</td>\n",
       "      <td>25080521.0</td>\n",
       "    </tr>\n",
       "    <tr>\n",
       "      <th>2881146</th>\n",
       "      <td>2013</td>\n",
       "      <td>25080523.0</td>\n",
       "    </tr>\n",
       "    <tr>\n",
       "      <th>2881147</th>\n",
       "      <td>2013</td>\n",
       "      <td>25080525.0</td>\n",
       "    </tr>\n",
       "  </tbody>\n",
       "</table>\n",
       "<p>2881148 rows × 2 columns</p>\n",
       "</div>"
      ],
      "text/plain": [
       "         agno_grade1_enrolled        mrun\n",
       "0                        2005        17.0\n",
       "1                        2005        18.0\n",
       "2                        2006        19.0\n",
       "3                        2006        20.0\n",
       "4                        2009        25.0\n",
       "...                       ...         ...\n",
       "2881143                  2013  25080510.0\n",
       "2881144                  2013  25080516.0\n",
       "2881145                  2013  25080521.0\n",
       "2881146                  2013  25080523.0\n",
       "2881147                  2013  25080525.0\n",
       "\n",
       "[2881148 rows x 2 columns]"
      ]
     },
     "execution_count": 8,
     "metadata": {},
     "output_type": "execute_result"
    }
   ],
   "source": [
    "MAT_1b_data_acum"
   ]
  },
  {
   "cell_type": "markdown",
   "id": "e6e474b6",
   "metadata": {},
   "source": [
    "# Parents"
   ]
  },
  {
   "cell_type": "code",
   "execution_count": 9,
   "id": "84736537",
   "metadata": {
    "ExecuteTime": {
     "end_time": "2023-10-29T13:39:12.490898Z",
     "start_time": "2023-10-29T13:39:06.465108Z"
    }
   },
   "outputs": [],
   "source": [
    "panel_parents = pd.read_csv('Datos\\Intermedios\\Agencia\\20231027_panel_cuestionario_padres.csv')"
   ]
  },
  {
   "cell_type": "markdown",
   "id": "01ba0716",
   "metadata": {},
   "source": [
    "## Duplicados"
   ]
  },
  {
   "cell_type": "code",
   "execution_count": 10,
   "id": "d573f4d6",
   "metadata": {
    "ExecuteTime": {
     "end_time": "2023-10-29T13:39:14.431503Z",
     "start_time": "2023-10-29T13:39:12.493920Z"
    }
   },
   "outputs": [
    {
     "data": {
      "text/plain": [
       "agno\n",
       "2017    101947\n",
       "2007     37362\n",
       "Name: count, dtype: int64"
      ]
     },
     "execution_count": 10,
     "metadata": {},
     "output_type": "execute_result"
    }
   ],
   "source": [
    "# Duplicados en 2007 y 2017\n",
    "panel_parents[panel_parents.duplicated(['agno','rbd','curso','idalumno'])].agno.value_counts()"
   ]
  },
  {
   "cell_type": "markdown",
   "id": "b3f1babc",
   "metadata": {},
   "source": [
    "### 2017"
   ]
  },
  {
   "cell_type": "code",
   "execution_count": 11,
   "id": "cd7ee54b",
   "metadata": {
    "ExecuteTime": {
     "end_time": "2023-10-29T13:39:14.591106Z",
     "start_time": "2023-10-29T13:39:14.433463Z"
    }
   },
   "outputs": [
    {
     "name": "stdout",
     "output_type": "stream",
     "text": [
      "curso\n",
      "4b    101947\n",
      "Name: count, dtype: int64\n"
     ]
    }
   ],
   "source": [
    "data_2017 = panel_parents[panel_parents.agno == 2017]\n",
    "# Todos en 4to básico\n",
    "print(data_2017[data_2017.duplicated(['rbd','curso','idalumno'])].curso.value_counts())"
   ]
  },
  {
   "cell_type": "code",
   "execution_count": 12,
   "id": "44420498",
   "metadata": {
    "ExecuteTime": {
     "end_time": "2023-10-29T13:39:15.260675Z",
     "start_time": "2023-10-29T13:39:14.592039Z"
    }
   },
   "outputs": [],
   "source": [
    "data_4b2017 = panel_parents[(panel_parents.agno == 2017) & (panel_parents.curso == '4b')]\n",
    "data_4b2017 = data_4b2017.drop_duplicates(keep='first')\n",
    "data_4b2017 = data_4b2017.drop_duplicates(subset = ['rbd','curso','idalumno'], keep='first')"
   ]
  },
  {
   "cell_type": "code",
   "execution_count": 13,
   "id": "e1552f23",
   "metadata": {
    "ExecuteTime": {
     "end_time": "2023-10-29T13:39:16.651562Z",
     "start_time": "2023-10-29T13:39:15.261678Z"
    }
   },
   "outputs": [],
   "source": [
    "panel_parents.loc[:, '4b2017'] = ((panel_parents.agno == 2017) & (panel_parents.curso == '4b') == 1)\n",
    "panel_parents = panel_parents[panel_parents['4b2017'] == 0]\n",
    "panel_parents = panel_parents.drop(columns=['4b2017'])\n",
    "panel_parents = pd.concat([panel_parents, data_4b2017])"
   ]
  },
  {
   "cell_type": "markdown",
   "id": "4ae06d17",
   "metadata": {},
   "source": [
    "### 2007"
   ]
  },
  {
   "cell_type": "code",
   "execution_count": 14,
   "id": "621713e6",
   "metadata": {
    "ExecuteTime": {
     "end_time": "2023-10-29T13:39:17.152847Z",
     "start_time": "2023-10-29T13:39:16.652562Z"
    }
   },
   "outputs": [],
   "source": [
    "panel_parents = panel_parents[~panel_parents.idalumno.isin([0,1,2,3])]"
   ]
  },
  {
   "cell_type": "code",
   "execution_count": 15,
   "id": "1b5022a3",
   "metadata": {
    "ExecuteTime": {
     "end_time": "2023-10-29T13:39:19.310568Z",
     "start_time": "2023-10-29T13:39:17.153291Z"
    }
   },
   "outputs": [],
   "source": [
    "panel_parents = panel_parents[~panel_parents.duplicated(['agno','rbd','curso','idalumno'], keep = 'last')]"
   ]
  },
  {
   "cell_type": "markdown",
   "id": "2ae15e55",
   "metadata": {},
   "source": [
    "## mom dad ed a categorías"
   ]
  },
  {
   "cell_type": "code",
   "execution_count": 16,
   "id": "2a088d67",
   "metadata": {
    "ExecuteTime": {
     "end_time": "2023-10-29T13:39:19.326571Z",
     "start_time": "2023-10-29T13:39:19.311525Z"
    }
   },
   "outputs": [],
   "source": [
    "dict_educaction_level = {1: '1_Incomplete_elementary',\n",
    "                         2: '1_Incomplete_elementary',\n",
    "                         3: '1_Incomplete_elementary',\n",
    "                         4: '1_Incomplete_elementary',\n",
    "                         5: '1_Incomplete_elementary',\n",
    "                         6: '1_Incomplete_elementary',\n",
    "                         7: '1_Incomplete_elementary',\n",
    "                         8: '1_Incomplete_elementary',\n",
    "                         9:  '2_Complete_elementary',\n",
    "                         10: '3_Incomplete_highschool',\n",
    "                         11: '3_Incomplete_highschool',\n",
    "                         12: '3_Incomplete_highschool',\n",
    "                         13: '4_Complete_highschool',\n",
    "                         14: '4_Complete_highschool',\n",
    "                         15: '5_Some_higher_Ed_or_more',\n",
    "                         16: '5_Some_higher_Ed_or_more' ,\n",
    "                         17: '5_Some_higher_Ed_or_more',\n",
    "                         18: '5_Some_higher_Ed_or_more',\n",
    "                         19: '5_Some_higher_Ed_or_more',\n",
    "                         20: '5_Some_higher_Ed_or_more',\n",
    "                         21: np.nan,0: np.nan,99: np.nan}"
   ]
  },
  {
   "cell_type": "code",
   "execution_count": 17,
   "id": "b225d8a5",
   "metadata": {
    "ExecuteTime": {
     "end_time": "2023-10-29T13:39:25.809451Z",
     "start_time": "2023-10-29T13:39:19.329482Z"
    }
   },
   "outputs": [],
   "source": [
    "# Mom\n",
    "panel_parents['mom_ed_grouped'] = panel_parents.mom_ed\n",
    "panel_parents.replace({\"mom_ed_grouped\": dict_educaction_level},inplace=True)\n",
    "# Dad\n",
    "panel_parents['dad_ed_grouped'] = panel_parents.dad_ed\n",
    "panel_parents.replace({\"dad_ed_grouped\": dict_educaction_level},inplace=True)"
   ]
  },
  {
   "cell_type": "code",
   "execution_count": 18,
   "id": "0a4a7152",
   "metadata": {
    "ExecuteTime": {
     "end_time": "2023-10-29T13:39:27.795692Z",
     "start_time": "2023-10-29T13:39:25.810296Z"
    }
   },
   "outputs": [
    {
     "data": {
      "text/html": [
       "<div>\n",
       "<style scoped>\n",
       "    .dataframe tbody tr th:only-of-type {\n",
       "        vertical-align: middle;\n",
       "    }\n",
       "\n",
       "    .dataframe tbody tr th {\n",
       "        vertical-align: top;\n",
       "    }\n",
       "\n",
       "    .dataframe thead th {\n",
       "        text-align: right;\n",
       "    }\n",
       "</style>\n",
       "<table border=\"1\" class=\"dataframe\">\n",
       "  <thead>\n",
       "    <tr style=\"text-align: right;\">\n",
       "      <th>dad_ed_grouped</th>\n",
       "      <th>1_Incomplete_elementary</th>\n",
       "      <th>2_Complete_elementary</th>\n",
       "      <th>3_Incomplete_highschool</th>\n",
       "      <th>4_Complete_highschool</th>\n",
       "      <th>5_Some_higher_Ed_or_more</th>\n",
       "    </tr>\n",
       "    <tr>\n",
       "      <th>mom_ed_grouped</th>\n",
       "      <th></th>\n",
       "      <th></th>\n",
       "      <th></th>\n",
       "      <th></th>\n",
       "      <th></th>\n",
       "    </tr>\n",
       "  </thead>\n",
       "  <tbody>\n",
       "    <tr>\n",
       "      <th>1_Incomplete_elementary</th>\n",
       "      <td>0.053540</td>\n",
       "      <td>0.024328</td>\n",
       "      <td>0.018669</td>\n",
       "      <td>0.015726</td>\n",
       "      <td>0.002738</td>\n",
       "    </tr>\n",
       "    <tr>\n",
       "      <th>2_Complete_elementary</th>\n",
       "      <td>0.021577</td>\n",
       "      <td>0.037648</td>\n",
       "      <td>0.020709</td>\n",
       "      <td>0.024780</td>\n",
       "      <td>0.004405</td>\n",
       "    </tr>\n",
       "    <tr>\n",
       "      <th>3_Incomplete_highschool</th>\n",
       "      <td>0.016218</td>\n",
       "      <td>0.021498</td>\n",
       "      <td>0.042918</td>\n",
       "      <td>0.043851</td>\n",
       "      <td>0.011139</td>\n",
       "    </tr>\n",
       "    <tr>\n",
       "      <th>4_Complete_highschool</th>\n",
       "      <td>0.017639</td>\n",
       "      <td>0.030902</td>\n",
       "      <td>0.046672</td>\n",
       "      <td>0.188011</td>\n",
       "      <td>0.063367</td>\n",
       "    </tr>\n",
       "    <tr>\n",
       "      <th>5_Some_higher_Ed_or_more</th>\n",
       "      <td>0.003658</td>\n",
       "      <td>0.006324</td>\n",
       "      <td>0.013158</td>\n",
       "      <td>0.061968</td>\n",
       "      <td>0.208558</td>\n",
       "    </tr>\n",
       "  </tbody>\n",
       "</table>\n",
       "</div>"
      ],
      "text/plain": [
       "dad_ed_grouped            1_Incomplete_elementary  2_Complete_elementary  \\\n",
       "mom_ed_grouped                                                             \n",
       "1_Incomplete_elementary                  0.053540               0.024328   \n",
       "2_Complete_elementary                    0.021577               0.037648   \n",
       "3_Incomplete_highschool                  0.016218               0.021498   \n",
       "4_Complete_highschool                    0.017639               0.030902   \n",
       "5_Some_higher_Ed_or_more                 0.003658               0.006324   \n",
       "\n",
       "dad_ed_grouped            3_Incomplete_highschool  4_Complete_highschool  \\\n",
       "mom_ed_grouped                                                             \n",
       "1_Incomplete_elementary                  0.018669               0.015726   \n",
       "2_Complete_elementary                    0.020709               0.024780   \n",
       "3_Incomplete_highschool                  0.042918               0.043851   \n",
       "4_Complete_highschool                    0.046672               0.188011   \n",
       "5_Some_higher_Ed_or_more                 0.013158               0.061968   \n",
       "\n",
       "dad_ed_grouped            5_Some_higher_Ed_or_more  \n",
       "mom_ed_grouped                                      \n",
       "1_Incomplete_elementary                   0.002738  \n",
       "2_Complete_elementary                     0.004405  \n",
       "3_Incomplete_highschool                   0.011139  \n",
       "4_Complete_highschool                     0.063367  \n",
       "5_Some_higher_Ed_or_more                  0.208558  "
      ]
     },
     "execution_count": 18,
     "metadata": {},
     "output_type": "execute_result"
    }
   ],
   "source": [
    "pd.crosstab(panel_parents.mom_ed_grouped, panel_parents.dad_ed_grouped, normalize='all')"
   ]
  },
  {
   "cell_type": "markdown",
   "id": "d59e39d3",
   "metadata": {},
   "source": [
    "## Income CASEN"
   ]
  },
  {
   "cell_type": "code",
   "execution_count": 19,
   "id": "34f4a214",
   "metadata": {
    "ExecuteTime": {
     "end_time": "2023-10-29T13:39:27.811688Z",
     "start_time": "2023-10-29T13:39:27.797655Z"
    }
   },
   "outputs": [],
   "source": [
    "def match_income_decile_value(x):\n",
    "    return df_income_values[df_income_values['range'].apply(lambda interval: x in interval)].index[0] + 1"
   ]
  },
  {
   "cell_type": "code",
   "execution_count": 20,
   "id": "ddf36852",
   "metadata": {
    "ExecuteTime": {
     "end_time": "2023-10-29T13:39:28.547112Z",
     "start_time": "2023-10-29T13:39:27.815263Z"
    }
   },
   "outputs": [],
   "source": [
    "unique_agno_income = panel_parents[['agno','income']].value_counts().index.tolist()\n",
    "unique_agno_income = pd.DataFrame(unique_agno_income, columns = ['agno','income_value'])"
   ]
  },
  {
   "cell_type": "code",
   "execution_count": 21,
   "id": "6011d78d",
   "metadata": {
    "ExecuteTime": {
     "end_time": "2023-10-29T13:39:28.562267Z",
     "start_time": "2023-10-29T13:39:28.548079Z"
    }
   },
   "outputs": [],
   "source": [
    "CASEN_decil_income_hogar = pd.DataFrame([[1 ,    63552,    53219,     73332 ,  91659,   105179,  104839  ,    13564],\n",
    "                                         [2 ,   154798,   172965,    199985,  237663,   281059,  302797  ,   197373],\n",
    "                                         [3 ,   209511,   231663,    264708,  321407,   375933,  403555  ,   343462],\n",
    "                                         [4 ,   260347,   302789,    335800,  390290,   456074,  491649  ,   436560],\n",
    "                                         [5 ,   305858,   341338,    390624,  464460,   553829,  588583  ,   549849],\n",
    "                                         [6 ,   366658,   417266,    452878,  573981,   652968,  736387  ,   702272],\n",
    "                                         [7 ,   459053,   516790,    554409,  665211,   776195,  839392  ,   845255],\n",
    "                                         [8 ,   565100,   633903,    690725,  820617,   970015, 1031655,   1081747],\n",
    "                                         [9 ,   783795,   893636,    957229, 1175617, 1281418, 1423987, 1599886],\n",
    "                                         [10, 1760392,   2077575,  2181145,  2600969, 2865760, 3225005, 3427933]])\n",
    "\n",
    "CASEN_decil_income_hogar.columns = ['income_decil','2006', '2009', '2011','2013','2015','2017','2020']"
   ]
  },
  {
   "cell_type": "code",
   "execution_count": 22,
   "id": "df438624",
   "metadata": {
    "ExecuteTime": {
     "end_time": "2023-10-29T13:39:28.577988Z",
     "start_time": "2023-10-29T13:39:28.563268Z"
    }
   },
   "outputs": [],
   "source": [
    "df_income_values = pd.DataFrame([[1 ,  0       , 100000 ],\n",
    "                                 [2 ,  100001  , 200000 ],\n",
    "                                 [3 ,  200001  , 300000 ],\n",
    "                                 [4 ,  300001  , 400000 ],\n",
    "                                 [5 ,  400001  , 500000 ],\n",
    "                                 [6 ,  500001  , 600000 ],\n",
    "                                 [7 ,  600001  , 800000 ],\n",
    "                                 [8 ,  800001  , 1000000],\n",
    "                                 [9 ,  1000001 , 1200000],\n",
    "                                 [10, 1200001 , 1400000 ],\n",
    "                                 [11, 1400001 , 1600000 ],\n",
    "                                 [12, 1600001 , 1800000 ],\n",
    "                                 [13, 1800001 , 2000000 ],\n",
    "                                 [14, 2000001 , 2200000 ],\n",
    "                                 [15, 2200000 ,float('inf')]])\n",
    "\n",
    "df_income_values.columns = ['income_value', 'range_min','range_max']\n",
    "\n",
    "df_income_values['range'] = df_income_values.apply(lambda x: pd.Interval(left=x.range_min, right=x.range_max), axis= 1)"
   ]
  },
  {
   "cell_type": "code",
   "execution_count": 23,
   "id": "0dfbe5bf",
   "metadata": {
    "ExecuteTime": {
     "end_time": "2023-10-29T13:39:28.593842Z",
     "start_time": "2023-10-29T13:39:28.579141Z"
    }
   },
   "outputs": [],
   "source": [
    "# Los datos que proporcionaste\n",
    "data = {\n",
    "    'income_decile': [1, 2, 3, 4, 5, 6, 7, 8, 9, 10],\n",
    "    '2006': [63552, 154798, 209511, 260347, 305858, 366658, 459053, 565100, 783795, 1760392],\n",
    "    '2009': [53219, 172965, 231663, 302789, 341338, 417266, 516790, 633903, 893636, 2077575],\n",
    "    '2011': [73332, 199985, 264708, 335800, 390624, 452878, 554409, 690725, 957229, 2181145],\n",
    "    '2013': [91659, 237663, 321407, 390290, 464460, 573981, 665211, 820617, 1175617, 2600969],\n",
    "    '2015': [105179, 281059, 375933, 456074, 553829, 652968, 776195, 970015, 1281418, 2865760],\n",
    "    '2017': [104839, 302797, 403555, 491649, 588583, 736387, 839392, 1031655, 1423987, 3225005],\n",
    "    '2020': [13564, 197373, 343462, 436560, 549849, 702272, 845255, 1081747, 1599886, 3427933]\n",
    "}\n",
    "\n",
    "# Crear un DataFrame con los datos\n",
    "df_deciles_casen = pd.DataFrame(data)\n",
    "# 2020 too odd \n",
    "df_deciles_casen = df_deciles_casen.drop(columns = '2020')"
   ]
  },
  {
   "cell_type": "code",
   "execution_count": 24,
   "id": "35060853",
   "metadata": {
    "ExecuteTime": {
     "end_time": "2023-10-29T13:39:28.609856Z",
     "start_time": "2023-10-29T13:39:28.594945Z"
    }
   },
   "outputs": [
    {
     "data": {
      "text/html": [
       "<div>\n",
       "<style scoped>\n",
       "    .dataframe tbody tr th:only-of-type {\n",
       "        vertical-align: middle;\n",
       "    }\n",
       "\n",
       "    .dataframe tbody tr th {\n",
       "        vertical-align: top;\n",
       "    }\n",
       "\n",
       "    .dataframe thead th {\n",
       "        text-align: right;\n",
       "    }\n",
       "</style>\n",
       "<table border=\"1\" class=\"dataframe\">\n",
       "  <thead>\n",
       "    <tr style=\"text-align: right;\">\n",
       "      <th></th>\n",
       "      <th>income_decile</th>\n",
       "      <th>2006</th>\n",
       "      <th>2009</th>\n",
       "      <th>2011</th>\n",
       "      <th>2013</th>\n",
       "      <th>2015</th>\n",
       "      <th>2017</th>\n",
       "    </tr>\n",
       "  </thead>\n",
       "  <tbody>\n",
       "    <tr>\n",
       "      <th>0</th>\n",
       "      <td>1</td>\n",
       "      <td>63552</td>\n",
       "      <td>53219</td>\n",
       "      <td>73332</td>\n",
       "      <td>91659</td>\n",
       "      <td>105179</td>\n",
       "      <td>104839</td>\n",
       "    </tr>\n",
       "    <tr>\n",
       "      <th>1</th>\n",
       "      <td>2</td>\n",
       "      <td>154798</td>\n",
       "      <td>172965</td>\n",
       "      <td>199985</td>\n",
       "      <td>237663</td>\n",
       "      <td>281059</td>\n",
       "      <td>302797</td>\n",
       "    </tr>\n",
       "    <tr>\n",
       "      <th>2</th>\n",
       "      <td>3</td>\n",
       "      <td>209511</td>\n",
       "      <td>231663</td>\n",
       "      <td>264708</td>\n",
       "      <td>321407</td>\n",
       "      <td>375933</td>\n",
       "      <td>403555</td>\n",
       "    </tr>\n",
       "    <tr>\n",
       "      <th>3</th>\n",
       "      <td>4</td>\n",
       "      <td>260347</td>\n",
       "      <td>302789</td>\n",
       "      <td>335800</td>\n",
       "      <td>390290</td>\n",
       "      <td>456074</td>\n",
       "      <td>491649</td>\n",
       "    </tr>\n",
       "    <tr>\n",
       "      <th>4</th>\n",
       "      <td>5</td>\n",
       "      <td>305858</td>\n",
       "      <td>341338</td>\n",
       "      <td>390624</td>\n",
       "      <td>464460</td>\n",
       "      <td>553829</td>\n",
       "      <td>588583</td>\n",
       "    </tr>\n",
       "    <tr>\n",
       "      <th>5</th>\n",
       "      <td>6</td>\n",
       "      <td>366658</td>\n",
       "      <td>417266</td>\n",
       "      <td>452878</td>\n",
       "      <td>573981</td>\n",
       "      <td>652968</td>\n",
       "      <td>736387</td>\n",
       "    </tr>\n",
       "    <tr>\n",
       "      <th>6</th>\n",
       "      <td>7</td>\n",
       "      <td>459053</td>\n",
       "      <td>516790</td>\n",
       "      <td>554409</td>\n",
       "      <td>665211</td>\n",
       "      <td>776195</td>\n",
       "      <td>839392</td>\n",
       "    </tr>\n",
       "    <tr>\n",
       "      <th>7</th>\n",
       "      <td>8</td>\n",
       "      <td>565100</td>\n",
       "      <td>633903</td>\n",
       "      <td>690725</td>\n",
       "      <td>820617</td>\n",
       "      <td>970015</td>\n",
       "      <td>1031655</td>\n",
       "    </tr>\n",
       "    <tr>\n",
       "      <th>8</th>\n",
       "      <td>9</td>\n",
       "      <td>783795</td>\n",
       "      <td>893636</td>\n",
       "      <td>957229</td>\n",
       "      <td>1175617</td>\n",
       "      <td>1281418</td>\n",
       "      <td>1423987</td>\n",
       "    </tr>\n",
       "    <tr>\n",
       "      <th>9</th>\n",
       "      <td>10</td>\n",
       "      <td>1760392</td>\n",
       "      <td>2077575</td>\n",
       "      <td>2181145</td>\n",
       "      <td>2600969</td>\n",
       "      <td>2865760</td>\n",
       "      <td>3225005</td>\n",
       "    </tr>\n",
       "  </tbody>\n",
       "</table>\n",
       "</div>"
      ],
      "text/plain": [
       "   income_decile     2006     2009     2011     2013     2015     2017\n",
       "0              1    63552    53219    73332    91659   105179   104839\n",
       "1              2   154798   172965   199985   237663   281059   302797\n",
       "2              3   209511   231663   264708   321407   375933   403555\n",
       "3              4   260347   302789   335800   390290   456074   491649\n",
       "4              5   305858   341338   390624   464460   553829   588583\n",
       "5              6   366658   417266   452878   573981   652968   736387\n",
       "6              7   459053   516790   554409   665211   776195   839392\n",
       "7              8   565100   633903   690725   820617   970015  1031655\n",
       "8              9   783795   893636   957229  1175617  1281418  1423987\n",
       "9             10  1760392  2077575  2181145  2600969  2865760  3225005"
      ]
     },
     "execution_count": 24,
     "metadata": {},
     "output_type": "execute_result"
    }
   ],
   "source": [
    "df_deciles_casen"
   ]
  },
  {
   "cell_type": "code",
   "execution_count": 25,
   "id": "ad7d82ac",
   "metadata": {
    "ExecuteTime": {
     "end_time": "2023-10-29T13:39:28.625010Z",
     "start_time": "2023-10-29T13:39:28.611153Z"
    }
   },
   "outputs": [
    {
     "name": "stdout",
     "output_type": "stream",
     "text": [
      "0\n",
      "1\n",
      "2\n",
      "3\n",
      "4\n",
      "5\n",
      "6\n",
      "7\n",
      "8\n",
      "9\n"
     ]
    }
   ],
   "source": [
    "x = np.array([2006, 2009, 2011, 2013, 2015, 2017])\n",
    "xnew = np.linspace(2002, 2022, num = 21)\n",
    "\n",
    "deciles_casen_extrap = []\n",
    "for d in range(10):\n",
    "    print(d)\n",
    "    y = df_deciles_casen.loc[d].values[1:]\n",
    "    ynew = np.interp(xnew, x, y)\n",
    "    deciles_casen_extrap +=[ynew]"
   ]
  },
  {
   "cell_type": "code",
   "execution_count": 26,
   "id": "21df4c1d",
   "metadata": {
    "ExecuteTime": {
     "end_time": "2023-10-29T13:39:28.640618Z",
     "start_time": "2023-10-29T13:39:28.626755Z"
    }
   },
   "outputs": [],
   "source": [
    "df_deciles_casen = pd.DataFrame(deciles_casen_extrap)\n",
    "df_deciles_casen.columns = range(2002,2023)\n",
    "df_deciles_casen['income_decile'] = range(1,11)"
   ]
  },
  {
   "cell_type": "code",
   "execution_count": 27,
   "id": "4d8862bc",
   "metadata": {
    "ExecuteTime": {
     "end_time": "2023-10-29T13:39:28.815344Z",
     "start_time": "2023-10-29T13:39:28.643402Z"
    }
   },
   "outputs": [],
   "source": [
    "# Convertir la tabla a un formato más largo (melt)\n",
    "melted_df = pd.melt(df_deciles_casen, id_vars='income_decile', var_name='agno', value_name='Income')\n",
    "melted_df['income_value'] = melted_df.Income.apply(match_income_decile_value)\n",
    "melted_df['agno'] = pd.to_numeric(melted_df['agno'])"
   ]
  },
  {
   "cell_type": "code",
   "execution_count": 28,
   "id": "4cf37550",
   "metadata": {
    "ExecuteTime": {
     "end_time": "2023-10-29T13:39:28.846670Z",
     "start_time": "2023-10-29T13:39:28.821234Z"
    }
   },
   "outputs": [],
   "source": [
    "df_income_merged = pd.merge(melted_df, unique_agno_income, on = ['agno','income_value'], how = 'right')\n",
    "df_income_merged = df_income_merged.sort_values(by = ['agno', 'income_value'], ascending=True)\n",
    "df_income_merged = pd.merge(df_income_merged,df_income_values, on = 'income_value', how = 'left' )\n",
    "df_income_merged['range_mean'] = df_income_merged[['range_min','range_max']].mean(axis = 1)"
   ]
  },
  {
   "cell_type": "code",
   "execution_count": 29,
   "id": "14b33cc3",
   "metadata": {
    "ExecuteTime": {
     "end_time": "2023-10-29T13:39:28.956992Z",
     "start_time": "2023-10-29T13:39:28.847537Z"
    }
   },
   "outputs": [
    {
     "name": "stdout",
     "output_type": "stream",
     "text": [
      "income_decile                      NaN\n",
      "agno                              2002\n",
      "Income                             NaN\n",
      "income_value                       8.0\n",
      "range_min                       800001\n",
      "range_max                    1000000.0\n",
      "range            (800001.0, 1000000.0]\n",
      "range_mean                    900000.5\n",
      "Name: 9, dtype: object\n",
      "income_decile                       NaN\n",
      "agno                               2002\n",
      "Income                              NaN\n",
      "income_value                        9.0\n",
      "range_min                       1000001\n",
      "range_max                     1200000.0\n",
      "range            (1000001.0, 1200000.0]\n",
      "range_mean                    1100000.5\n",
      "Name: 10, dtype: object\n",
      "income_decile                       NaN\n",
      "agno                               2002\n",
      "Income                              NaN\n",
      "income_value                       10.0\n",
      "range_min                       1200001\n",
      "range_max                     1400000.0\n",
      "range            (1200001.0, 1400000.0]\n",
      "range_mean                    1300000.5\n",
      "Name: 11, dtype: object\n",
      "income_decile                       NaN\n",
      "agno                               2002\n",
      "Income                              NaN\n",
      "income_value                       11.0\n",
      "range_min                       1400001\n",
      "range_max                     1600000.0\n",
      "range            (1400001.0, 1600000.0]\n",
      "range_mean                    1500000.5\n",
      "Name: 12, dtype: object\n",
      "income_decile                       NaN\n",
      "agno                               2002\n",
      "Income                              NaN\n",
      "income_value                       13.0\n",
      "range_min                       1800001\n",
      "range_max                     2000000.0\n",
      "range            (1800001.0, 2000000.0]\n",
      "range_mean                    1900000.5\n",
      "Name: 14, dtype: object\n",
      "income_decile                      NaN\n",
      "agno                              2003\n",
      "Income                             NaN\n",
      "income_value                       8.0\n",
      "range_min                       800001\n",
      "range_max                    1000000.0\n",
      "range            (800001.0, 1000000.0]\n",
      "range_mean                    900000.5\n",
      "Name: 24, dtype: object\n",
      "income_decile                       NaN\n",
      "agno                               2003\n",
      "Income                              NaN\n",
      "income_value                        9.0\n",
      "range_min                       1000001\n",
      "range_max                     1200000.0\n",
      "range            (1000001.0, 1200000.0]\n",
      "range_mean                    1100000.5\n",
      "Name: 25, dtype: object\n",
      "income_decile                       NaN\n",
      "agno                               2003\n",
      "Income                              NaN\n",
      "income_value                       10.0\n",
      "range_min                       1200001\n",
      "range_max                     1400000.0\n",
      "range            (1200001.0, 1400000.0]\n",
      "range_mean                    1300000.5\n",
      "Name: 26, dtype: object\n",
      "income_decile                       NaN\n",
      "agno                               2003\n",
      "Income                              NaN\n",
      "income_value                       11.0\n",
      "range_min                       1400001\n",
      "range_max                     1600000.0\n",
      "range            (1400001.0, 1600000.0]\n",
      "range_mean                    1500000.5\n",
      "Name: 27, dtype: object\n",
      "income_decile                       NaN\n",
      "agno                               2003\n",
      "Income                              NaN\n",
      "income_value                       13.0\n",
      "range_min                       1800001\n",
      "range_max                     2000000.0\n",
      "range            (1800001.0, 2000000.0]\n",
      "range_mean                    1900000.5\n",
      "Name: 29, dtype: object\n",
      "income_decile                       NaN\n",
      "agno                               2003\n",
      "Income                              NaN\n",
      "income_value                       14.0\n",
      "range_min                       2000001\n",
      "range_max                     2200000.0\n",
      "range            (2000001.0, 2200000.0]\n",
      "range_mean                    2100000.5\n",
      "Name: 30, dtype: object\n",
      "income_decile                 NaN\n",
      "agno                         2003\n",
      "Income                        NaN\n",
      "income_value                 15.0\n",
      "range_min                 2200000\n",
      "range_max                     inf\n",
      "range            (2200000.0, inf]\n",
      "range_mean                    inf\n",
      "Name: 31, dtype: object\n",
      "income_decile                      NaN\n",
      "agno                              2004\n",
      "Income                             NaN\n",
      "income_value                       8.0\n",
      "range_min                       800001\n",
      "range_max                    1000000.0\n",
      "range            (800001.0, 1000000.0]\n",
      "range_mean                    900000.5\n",
      "Name: 41, dtype: object\n",
      "income_decile                       NaN\n",
      "agno                               2004\n",
      "Income                              NaN\n",
      "income_value                        9.0\n",
      "range_min                       1000001\n",
      "range_max                     1200000.0\n",
      "range            (1000001.0, 1200000.0]\n",
      "range_mean                    1100000.5\n",
      "Name: 42, dtype: object\n",
      "income_decile                       NaN\n",
      "agno                               2004\n",
      "Income                              NaN\n",
      "income_value                       10.0\n",
      "range_min                       1200001\n",
      "range_max                     1400000.0\n",
      "range            (1200001.0, 1400000.0]\n",
      "range_mean                    1300000.5\n",
      "Name: 43, dtype: object\n",
      "income_decile                       NaN\n",
      "agno                               2004\n",
      "Income                              NaN\n",
      "income_value                       11.0\n",
      "range_min                       1400001\n",
      "range_max                     1600000.0\n",
      "range            (1400001.0, 1600000.0]\n",
      "range_mean                    1500000.5\n",
      "Name: 44, dtype: object\n",
      "income_decile                       NaN\n",
      "agno                               2004\n",
      "Income                              NaN\n",
      "income_value                       13.0\n",
      "range_min                       1800001\n",
      "range_max                     2000000.0\n",
      "range            (1800001.0, 2000000.0]\n",
      "range_mean                    1900000.5\n",
      "Name: 46, dtype: object\n",
      "income_decile                       NaN\n",
      "agno                               2004\n",
      "Income                              NaN\n",
      "income_value                       14.0\n",
      "range_min                       2000001\n",
      "range_max                     2200000.0\n",
      "range            (2000001.0, 2200000.0]\n",
      "range_mean                    2100000.5\n",
      "Name: 47, dtype: object\n",
      "income_decile                 NaN\n",
      "agno                         2004\n",
      "Income                        NaN\n",
      "income_value                 15.0\n",
      "range_min                 2200000\n",
      "range_max                     inf\n",
      "range            (2200000.0, inf]\n",
      "range_mean                    inf\n",
      "Name: 48, dtype: object\n",
      "income_decile                      NaN\n",
      "agno                              2005\n",
      "Income                             NaN\n",
      "income_value                       8.0\n",
      "range_min                       800001\n",
      "range_max                    1000000.0\n",
      "range            (800001.0, 1000000.0]\n",
      "range_mean                    900000.5\n",
      "Name: 58, dtype: object\n",
      "income_decile                       NaN\n",
      "agno                               2005\n",
      "Income                              NaN\n",
      "income_value                        9.0\n",
      "range_min                       1000001\n",
      "range_max                     1200000.0\n",
      "range            (1000001.0, 1200000.0]\n",
      "range_mean                    1100000.5\n",
      "Name: 59, dtype: object\n",
      "income_decile                       NaN\n",
      "agno                               2005\n",
      "Income                              NaN\n",
      "income_value                       10.0\n",
      "range_min                       1200001\n",
      "range_max                     1400000.0\n",
      "range            (1200001.0, 1400000.0]\n",
      "range_mean                    1300000.5\n",
      "Name: 60, dtype: object\n",
      "income_decile                       NaN\n",
      "agno                               2005\n",
      "Income                              NaN\n",
      "income_value                       11.0\n",
      "range_min                       1400001\n",
      "range_max                     1600000.0\n",
      "range            (1400001.0, 1600000.0]\n",
      "range_mean                    1500000.5\n",
      "Name: 61, dtype: object\n",
      "income_decile                       NaN\n",
      "agno                               2005\n",
      "Income                              NaN\n",
      "income_value                       13.0\n",
      "range_min                       1800001\n",
      "range_max                     2000000.0\n",
      "range            (1800001.0, 2000000.0]\n",
      "range_mean                    1900000.5\n",
      "Name: 63, dtype: object\n",
      "income_decile                      NaN\n",
      "agno                              2006\n",
      "Income                             NaN\n",
      "income_value                       8.0\n",
      "range_min                       800001\n",
      "range_max                    1000000.0\n",
      "range            (800001.0, 1000000.0]\n",
      "range_mean                    900000.5\n",
      "Name: 73, dtype: object\n",
      "income_decile                       NaN\n",
      "agno                               2006\n",
      "Income                              NaN\n",
      "income_value                        9.0\n",
      "range_min                       1000001\n",
      "range_max                     1200000.0\n",
      "range            (1000001.0, 1200000.0]\n",
      "range_mean                    1100000.5\n",
      "Name: 74, dtype: object\n",
      "income_decile                       NaN\n",
      "agno                               2006\n",
      "Income                              NaN\n",
      "income_value                       10.0\n",
      "range_min                       1200001\n",
      "range_max                     1400000.0\n",
      "range            (1200001.0, 1400000.0]\n",
      "range_mean                    1300000.5\n",
      "Name: 75, dtype: object\n",
      "income_decile                       NaN\n",
      "agno                               2006\n",
      "Income                              NaN\n",
      "income_value                       11.0\n",
      "range_min                       1400001\n",
      "range_max                     1600000.0\n",
      "range            (1400001.0, 1600000.0]\n",
      "range_mean                    1500000.5\n",
      "Name: 76, dtype: object\n",
      "income_decile                       NaN\n",
      "agno                               2006\n",
      "Income                              NaN\n",
      "income_value                       13.0\n",
      "range_min                       1800001\n",
      "range_max                     2000000.0\n",
      "range            (1800001.0, 2000000.0]\n",
      "range_mean                    1900000.5\n",
      "Name: 78, dtype: object\n",
      "income_decile                     NaN\n",
      "agno                             2007\n",
      "Income                            NaN\n",
      "income_value                      7.0\n",
      "range_min                      600001\n",
      "range_max                    800000.0\n",
      "range            (600001.0, 800000.0]\n",
      "range_mean                   700000.5\n",
      "Name: 87, dtype: object\n",
      "income_decile                       NaN\n",
      "agno                               2007\n",
      "Income                              NaN\n",
      "income_value                        9.0\n",
      "range_min                       1000001\n",
      "range_max                     1200000.0\n",
      "range            (1000001.0, 1200000.0]\n",
      "range_mean                    1100000.5\n",
      "Name: 89, dtype: object\n",
      "income_decile                       NaN\n",
      "agno                               2007\n",
      "Income                              NaN\n",
      "income_value                       10.0\n",
      "range_min                       1200001\n",
      "range_max                     1400000.0\n",
      "range            (1200001.0, 1400000.0]\n",
      "range_mean                    1300000.5\n",
      "Name: 90, dtype: object\n",
      "income_decile                       NaN\n",
      "agno                               2007\n",
      "Income                              NaN\n",
      "income_value                       11.0\n",
      "range_min                       1400001\n",
      "range_max                     1600000.0\n",
      "range            (1400001.0, 1600000.0]\n",
      "range_mean                    1500000.5\n",
      "Name: 91, dtype: object\n",
      "income_decile                       NaN\n",
      "agno                               2007\n",
      "Income                              NaN\n",
      "income_value                       12.0\n",
      "range_min                       1600001\n",
      "range_max                     1800000.0\n",
      "range            (1600001.0, 1800000.0]\n",
      "range_mean                    1700000.5\n",
      "Name: 92, dtype: object\n",
      "income_decile                       NaN\n",
      "agno                               2007\n",
      "Income                              NaN\n",
      "income_value                       14.0\n",
      "range_min                       2000001\n",
      "range_max                     2200000.0\n",
      "range            (2000001.0, 2200000.0]\n",
      "range_mean                    2100000.5\n",
      "Name: 94, dtype: object\n",
      "income_decile                 NaN\n",
      "agno                         2007\n",
      "Income                        NaN\n",
      "income_value                 15.0\n",
      "range_min                 2200000\n",
      "range_max                     inf\n",
      "range            (2200000.0, inf]\n",
      "range_mean                    inf\n",
      "Name: 95, dtype: object\n",
      "income_decile                     NaN\n",
      "agno                             2008\n",
      "Income                            NaN\n",
      "income_value                      6.0\n",
      "range_min                      500001\n",
      "range_max                    600000.0\n",
      "range            (500001.0, 600000.0]\n",
      "range_mean                   550000.5\n",
      "Name: 103, dtype: object\n",
      "income_decile                       NaN\n",
      "agno                               2008\n",
      "Income                              NaN\n",
      "income_value                        9.0\n",
      "range_min                       1000001\n",
      "range_max                     1200000.0\n",
      "range            (1000001.0, 1200000.0]\n",
      "range_mean                    1100000.5\n",
      "Name: 106, dtype: object\n",
      "income_decile                       NaN\n",
      "agno                               2008\n",
      "Income                              NaN\n",
      "income_value                       10.0\n",
      "range_min                       1200001\n",
      "range_max                     1400000.0\n",
      "range            (1200001.0, 1400000.0]\n",
      "range_mean                    1300000.5\n",
      "Name: 107, dtype: object\n",
      "income_decile                       NaN\n",
      "agno                               2008\n",
      "Income                              NaN\n",
      "income_value                       11.0\n",
      "range_min                       1400001\n",
      "range_max                     1600000.0\n",
      "range            (1400001.0, 1600000.0]\n",
      "range_mean                    1500000.5\n",
      "Name: 108, dtype: object\n",
      "income_decile                       NaN\n",
      "agno                               2008\n",
      "Income                              NaN\n",
      "income_value                       12.0\n",
      "range_min                       1600001\n",
      "range_max                     1800000.0\n",
      "range            (1600001.0, 1800000.0]\n",
      "range_mean                    1700000.5\n",
      "Name: 109, dtype: object\n",
      "income_decile                       NaN\n",
      "agno                               2009\n",
      "Income                              NaN\n",
      "income_value                        9.0\n",
      "range_min                       1000001\n",
      "range_max                     1200000.0\n",
      "range            (1000001.0, 1200000.0]\n",
      "range_mean                    1100000.5\n",
      "Name: 120, dtype: object\n",
      "income_decile                       NaN\n",
      "agno                               2009\n",
      "Income                              NaN\n",
      "income_value                       10.0\n",
      "range_min                       1200001\n",
      "range_max                     1400000.0\n",
      "range            (1200001.0, 1400000.0]\n",
      "range_mean                    1300000.5\n",
      "Name: 121, dtype: object\n",
      "income_decile                       NaN\n",
      "agno                               2009\n",
      "Income                              NaN\n",
      "income_value                       11.0\n",
      "range_min                       1400001\n",
      "range_max                     1600000.0\n",
      "range            (1400001.0, 1600000.0]\n",
      "range_mean                    1500000.5\n",
      "Name: 122, dtype: object\n",
      "income_decile                       NaN\n",
      "agno                               2009\n",
      "Income                              NaN\n",
      "income_value                       12.0\n",
      "range_min                       1600001\n",
      "range_max                     1800000.0\n",
      "range            (1600001.0, 1800000.0]\n",
      "range_mean                    1700000.5\n",
      "Name: 123, dtype: object\n",
      "income_decile                       NaN\n",
      "agno                               2009\n",
      "Income                              NaN\n",
      "income_value                       13.0\n",
      "range_min                       1800001\n",
      "range_max                     2000000.0\n",
      "range            (1800001.0, 2000000.0]\n",
      "range_mean                    1900000.5\n",
      "Name: 124, dtype: object\n",
      "income_decile                 NaN\n",
      "agno                         2009\n",
      "Income                        NaN\n",
      "income_value                 15.0\n",
      "range_min                 2200000\n",
      "range_max                     inf\n",
      "range            (2200000.0, inf]\n",
      "range_mean                    inf\n",
      "Name: 126, dtype: object\n",
      "income_decile                       NaN\n",
      "agno                               2010\n",
      "Income                              NaN\n",
      "income_value                        9.0\n",
      "range_min                       1000001\n",
      "range_max                     1200000.0\n",
      "range            (1000001.0, 1200000.0]\n",
      "range_mean                    1100000.5\n",
      "Name: 136, dtype: object\n",
      "income_decile                       NaN\n",
      "agno                               2010\n",
      "Income                              NaN\n",
      "income_value                       10.0\n",
      "range_min                       1200001\n",
      "range_max                     1400000.0\n",
      "range            (1200001.0, 1400000.0]\n",
      "range_mean                    1300000.5\n",
      "Name: 137, dtype: object\n",
      "income_decile                       NaN\n",
      "agno                               2010\n",
      "Income                              NaN\n",
      "income_value                       11.0\n",
      "range_min                       1400001\n",
      "range_max                     1600000.0\n",
      "range            (1400001.0, 1600000.0]\n",
      "range_mean                    1500000.5\n",
      "Name: 138, dtype: object\n",
      "income_decile                       NaN\n",
      "agno                               2010\n",
      "Income                              NaN\n",
      "income_value                       12.0\n",
      "range_min                       1600001\n",
      "range_max                     1800000.0\n",
      "range            (1600001.0, 1800000.0]\n",
      "range_mean                    1700000.5\n",
      "Name: 139, dtype: object\n",
      "income_decile                       NaN\n",
      "agno                               2010\n",
      "Income                              NaN\n",
      "income_value                       13.0\n",
      "range_min                       1800001\n",
      "range_max                     2000000.0\n",
      "range            (1800001.0, 2000000.0]\n",
      "range_mean                    1900000.5\n",
      "Name: 140, dtype: object\n",
      "income_decile                       NaN\n",
      "agno                               2011\n",
      "Income                              NaN\n",
      "income_value                        9.0\n",
      "range_min                       1000001\n",
      "range_max                     1200000.0\n",
      "range            (1000001.0, 1200000.0]\n",
      "range_mean                    1100000.5\n",
      "Name: 150, dtype: object\n",
      "income_decile                       NaN\n",
      "agno                               2011\n",
      "Income                              NaN\n",
      "income_value                       10.0\n",
      "range_min                       1200001\n",
      "range_max                     1400000.0\n",
      "range            (1200001.0, 1400000.0]\n",
      "range_mean                    1300000.5\n",
      "Name: 151, dtype: object\n",
      "income_decile                       NaN\n",
      "agno                               2011\n",
      "Income                              NaN\n",
      "income_value                       11.0\n",
      "range_min                       1400001\n",
      "range_max                     1600000.0\n",
      "range            (1400001.0, 1600000.0]\n",
      "range_mean                    1500000.5\n",
      "Name: 152, dtype: object\n",
      "income_decile                       NaN\n",
      "agno                               2011\n",
      "Income                              NaN\n",
      "income_value                       12.0\n",
      "range_min                       1600001\n",
      "range_max                     1800000.0\n",
      "range            (1600001.0, 1800000.0]\n",
      "range_mean                    1700000.5\n",
      "Name: 153, dtype: object\n",
      "income_decile                       NaN\n",
      "agno                               2011\n",
      "Income                              NaN\n",
      "income_value                       13.0\n",
      "range_min                       1800001\n",
      "range_max                     2000000.0\n",
      "range            (1800001.0, 2000000.0]\n",
      "range_mean                    1900000.5\n",
      "Name: 154, dtype: object\n",
      "income_decile                 NaN\n",
      "agno                         2011\n",
      "Income                        NaN\n",
      "income_value                 15.0\n",
      "range_min                 2200000\n",
      "range_max                     inf\n",
      "range            (2200000.0, inf]\n",
      "range_mean                    inf\n",
      "Name: 156, dtype: object\n",
      "income_decile                     NaN\n",
      "agno                             2012\n",
      "Income                            NaN\n",
      "income_value                      2.0\n",
      "range_min                      100001\n",
      "range_max                    200000.0\n",
      "range            (100001.0, 200000.0]\n",
      "range_mean                   150000.5\n",
      "Name: 158, dtype: object\n",
      "income_decile                      NaN\n",
      "agno                              2012\n",
      "Income                             NaN\n",
      "income_value                       8.0\n",
      "range_min                       800001\n",
      "range_max                    1000000.0\n",
      "range            (800001.0, 1000000.0]\n",
      "range_mean                    900000.5\n",
      "Name: 166, dtype: object\n",
      "income_decile                       NaN\n",
      "agno                               2012\n",
      "Income                              NaN\n",
      "income_value                       10.0\n",
      "range_min                       1200001\n",
      "range_max                     1400000.0\n",
      "range            (1200001.0, 1400000.0]\n",
      "range_mean                    1300000.5\n",
      "Name: 168, dtype: object\n",
      "income_decile                       NaN\n",
      "agno                               2012\n",
      "Income                              NaN\n",
      "income_value                       11.0\n",
      "range_min                       1400001\n",
      "range_max                     1600000.0\n",
      "range            (1400001.0, 1600000.0]\n",
      "range_mean                    1500000.5\n",
      "Name: 169, dtype: object\n",
      "income_decile                       NaN\n",
      "agno                               2012\n",
      "Income                              NaN\n",
      "income_value                       12.0\n",
      "range_min                       1600001\n",
      "range_max                     1800000.0\n",
      "range            (1600001.0, 1800000.0]\n",
      "range_mean                    1700000.5\n",
      "Name: 170, dtype: object\n",
      "income_decile                       NaN\n",
      "agno                               2012\n",
      "Income                              NaN\n",
      "income_value                       13.0\n",
      "range_min                       1800001\n",
      "range_max                     2000000.0\n",
      "range            (1800001.0, 2000000.0]\n",
      "range_mean                    1900000.5\n",
      "Name: 171, dtype: object\n",
      "income_decile                       NaN\n",
      "agno                               2012\n",
      "Income                              NaN\n",
      "income_value                       14.0\n",
      "range_min                       2000001\n",
      "range_max                     2200000.0\n",
      "range            (2000001.0, 2200000.0]\n",
      "range_mean                    2100000.5\n",
      "Name: 172, dtype: object\n",
      "income_decile                     NaN\n",
      "agno                             2013\n",
      "Income                            NaN\n",
      "income_value                      2.0\n",
      "range_min                      100001\n",
      "range_max                    200000.0\n",
      "range            (100001.0, 200000.0]\n",
      "range_mean                   150000.5\n",
      "Name: 175, dtype: object\n",
      "income_decile                       NaN\n",
      "agno                               2013\n",
      "Income                              NaN\n",
      "income_value                       10.0\n",
      "range_min                       1200001\n",
      "range_max                     1400000.0\n",
      "range            (1200001.0, 1400000.0]\n",
      "range_mean                    1300000.5\n",
      "Name: 184, dtype: object\n",
      "income_decile                       NaN\n",
      "agno                               2013\n",
      "Income                              NaN\n",
      "income_value                       11.0\n",
      "range_min                       1400001\n",
      "range_max                     1600000.0\n",
      "range            (1400001.0, 1600000.0]\n",
      "range_mean                    1500000.5\n",
      "Name: 185, dtype: object\n",
      "income_decile                       NaN\n",
      "agno                               2013\n",
      "Income                              NaN\n",
      "income_value                       12.0\n",
      "range_min                       1600001\n",
      "range_max                     1800000.0\n",
      "range            (1600001.0, 1800000.0]\n",
      "range_mean                    1700000.5\n",
      "Name: 186, dtype: object\n",
      "income_decile                       NaN\n",
      "agno                               2013\n",
      "Income                              NaN\n",
      "income_value                       13.0\n",
      "range_min                       1800001\n",
      "range_max                     2000000.0\n",
      "range            (1800001.0, 2000000.0]\n",
      "range_mean                    1900000.5\n",
      "Name: 187, dtype: object\n",
      "income_decile                       NaN\n",
      "agno                               2013\n",
      "Income                              NaN\n",
      "income_value                       14.0\n",
      "range_min                       2000001\n",
      "range_max                     2200000.0\n",
      "range            (2000001.0, 2200000.0]\n",
      "range_mean                    2100000.5\n",
      "Name: 188, dtype: object\n",
      "income_decile                     NaN\n",
      "agno                             2014\n",
      "Income                            NaN\n",
      "income_value                      2.0\n",
      "range_min                      100001\n",
      "range_max                    200000.0\n",
      "range            (100001.0, 200000.0]\n",
      "range_mean                   150000.5\n",
      "Name: 191, dtype: object\n",
      "income_decile                       NaN\n",
      "agno                               2014\n",
      "Income                              NaN\n",
      "income_value                        9.0\n",
      "range_min                       1000001\n",
      "range_max                     1200000.0\n",
      "range            (1000001.0, 1200000.0]\n",
      "range_mean                    1100000.5\n",
      "Name: 199, dtype: object\n",
      "income_decile                       NaN\n",
      "agno                               2014\n",
      "Income                              NaN\n",
      "income_value                       11.0\n",
      "range_min                       1400001\n",
      "range_max                     1600000.0\n",
      "range            (1400001.0, 1600000.0]\n",
      "range_mean                    1500000.5\n",
      "Name: 201, dtype: object\n",
      "income_decile                       NaN\n",
      "agno                               2014\n",
      "Income                              NaN\n",
      "income_value                       12.0\n",
      "range_min                       1600001\n",
      "range_max                     1800000.0\n",
      "range            (1600001.0, 1800000.0]\n",
      "range_mean                    1700000.5\n",
      "Name: 202, dtype: object\n",
      "income_decile                       NaN\n",
      "agno                               2014\n",
      "Income                              NaN\n",
      "income_value                       13.0\n",
      "range_min                       1800001\n",
      "range_max                     2000000.0\n",
      "range            (1800001.0, 2000000.0]\n",
      "range_mean                    1900000.5\n",
      "Name: 203, dtype: object\n",
      "income_decile                       NaN\n",
      "agno                               2014\n",
      "Income                              NaN\n",
      "income_value                       14.0\n",
      "range_min                       2000001\n",
      "range_max                     2200000.0\n",
      "range            (2000001.0, 2200000.0]\n",
      "range_mean                    2100000.5\n",
      "Name: 204, dtype: object\n",
      "income_decile                NaN\n",
      "agno                        2015\n",
      "Income                       NaN\n",
      "income_value                 1.0\n",
      "range_min                      0\n",
      "range_max               100000.0\n",
      "range            (0.0, 100000.0]\n",
      "range_mean               50000.0\n",
      "Name: 206, dtype: object\n",
      "income_decile                       NaN\n",
      "agno                               2015\n",
      "Income                              NaN\n",
      "income_value                        9.0\n",
      "range_min                       1000001\n",
      "range_max                     1200000.0\n",
      "range            (1000001.0, 1200000.0]\n",
      "range_mean                    1100000.5\n",
      "Name: 215, dtype: object\n",
      "income_decile                       NaN\n",
      "agno                               2015\n",
      "Income                              NaN\n",
      "income_value                       11.0\n",
      "range_min                       1400001\n",
      "range_max                     1600000.0\n",
      "range            (1400001.0, 1600000.0]\n",
      "range_mean                    1500000.5\n",
      "Name: 217, dtype: object\n",
      "income_decile                       NaN\n",
      "agno                               2015\n",
      "Income                              NaN\n",
      "income_value                       12.0\n",
      "range_min                       1600001\n",
      "range_max                     1800000.0\n",
      "range            (1600001.0, 1800000.0]\n",
      "range_mean                    1700000.5\n",
      "Name: 218, dtype: object\n",
      "income_decile                       NaN\n",
      "agno                               2015\n",
      "Income                              NaN\n",
      "income_value                       13.0\n",
      "range_min                       1800001\n",
      "range_max                     2000000.0\n",
      "range            (1800001.0, 2000000.0]\n",
      "range_mean                    1900000.5\n",
      "Name: 219, dtype: object\n",
      "income_decile                       NaN\n",
      "agno                               2015\n",
      "Income                              NaN\n",
      "income_value                       14.0\n",
      "range_min                       2000001\n",
      "range_max                     2200000.0\n",
      "range            (2000001.0, 2200000.0]\n",
      "range_mean                    2100000.5\n",
      "Name: 220, dtype: object\n",
      "income_decile                NaN\n",
      "agno                        2016\n",
      "Income                       NaN\n",
      "income_value                 1.0\n",
      "range_min                      0\n",
      "range_max               100000.0\n",
      "range            (0.0, 100000.0]\n",
      "range_mean               50000.0\n",
      "Name: 222, dtype: object\n",
      "income_decile                       NaN\n",
      "agno                               2016\n",
      "Income                              NaN\n",
      "income_value                       11.0\n",
      "range_min                       1400001\n",
      "range_max                     1600000.0\n",
      "range            (1400001.0, 1600000.0]\n",
      "range_mean                    1500000.5\n",
      "Name: 232, dtype: object\n",
      "income_decile                       NaN\n",
      "agno                               2016\n",
      "Income                              NaN\n",
      "income_value                       12.0\n",
      "range_min                       1600001\n",
      "range_max                     1800000.0\n",
      "range            (1600001.0, 1800000.0]\n",
      "range_mean                    1700000.5\n",
      "Name: 233, dtype: object\n",
      "income_decile                       NaN\n",
      "agno                               2016\n",
      "Income                              NaN\n",
      "income_value                       13.0\n",
      "range_min                       1800001\n",
      "range_max                     2000000.0\n",
      "range            (1800001.0, 2000000.0]\n",
      "range_mean                    1900000.5\n",
      "Name: 234, dtype: object\n",
      "income_decile                       NaN\n",
      "agno                               2016\n",
      "Income                              NaN\n",
      "income_value                       14.0\n",
      "range_min                       2000001\n",
      "range_max                     2200000.0\n",
      "range            (2000001.0, 2200000.0]\n",
      "range_mean                    2100000.5\n",
      "Name: 235, dtype: object\n",
      "income_decile                NaN\n",
      "agno                        2017\n",
      "Income                       NaN\n",
      "income_value                 1.0\n",
      "range_min                      0\n",
      "range_max               100000.0\n",
      "range            (0.0, 100000.0]\n",
      "range_mean               50000.0\n",
      "Name: 237, dtype: object\n",
      "income_decile                     NaN\n",
      "agno                             2017\n",
      "Income                            NaN\n",
      "income_value                      3.0\n",
      "range_min                      200001\n",
      "range_max                    300000.0\n",
      "range            (200001.0, 300000.0]\n",
      "range_mean                   250000.5\n",
      "Name: 239, dtype: object\n",
      "income_decile                       NaN\n",
      "agno                               2017\n",
      "Income                              NaN\n",
      "income_value                       10.0\n",
      "range_min                       1200001\n",
      "range_max                     1400000.0\n",
      "range            (1200001.0, 1400000.0]\n",
      "range_mean                    1300000.5\n",
      "Name: 247, dtype: object\n",
      "income_decile                       NaN\n",
      "agno                               2017\n",
      "Income                              NaN\n",
      "income_value                       12.0\n",
      "range_min                       1600001\n",
      "range_max                     1800000.0\n",
      "range            (1600001.0, 1800000.0]\n",
      "range_mean                    1700000.5\n",
      "Name: 249, dtype: object\n",
      "income_decile                       NaN\n",
      "agno                               2017\n",
      "Income                              NaN\n",
      "income_value                       13.0\n",
      "range_min                       1800001\n",
      "range_max                     2000000.0\n",
      "range            (1800001.0, 2000000.0]\n",
      "range_mean                    1900000.5\n",
      "Name: 250, dtype: object\n",
      "income_decile                       NaN\n",
      "agno                               2017\n",
      "Income                              NaN\n",
      "income_value                       14.0\n",
      "range_min                       2000001\n",
      "range_max                     2200000.0\n",
      "range            (2000001.0, 2200000.0]\n",
      "range_mean                    2100000.5\n",
      "Name: 251, dtype: object\n",
      "income_decile                NaN\n",
      "agno                        2018\n",
      "Income                       NaN\n",
      "income_value                 1.0\n",
      "range_min                      0\n",
      "range_max               100000.0\n",
      "range            (0.0, 100000.0]\n",
      "range_mean               50000.0\n",
      "Name: 253, dtype: object\n",
      "income_decile                     NaN\n",
      "agno                             2018\n",
      "Income                            NaN\n",
      "income_value                      3.0\n",
      "range_min                      200001\n",
      "range_max                    300000.0\n",
      "range            (200001.0, 300000.0]\n",
      "range_mean                   250000.5\n",
      "Name: 255, dtype: object\n",
      "income_decile                       NaN\n",
      "agno                               2018\n",
      "Income                              NaN\n",
      "income_value                       10.0\n",
      "range_min                       1200001\n",
      "range_max                     1400000.0\n",
      "range            (1200001.0, 1400000.0]\n",
      "range_mean                    1300000.5\n",
      "Name: 263, dtype: object\n",
      "income_decile                       NaN\n",
      "agno                               2018\n",
      "Income                              NaN\n",
      "income_value                       12.0\n",
      "range_min                       1600001\n",
      "range_max                     1800000.0\n",
      "range            (1600001.0, 1800000.0]\n",
      "range_mean                    1700000.5\n",
      "Name: 265, dtype: object\n",
      "income_decile                       NaN\n",
      "agno                               2018\n",
      "Income                              NaN\n",
      "income_value                       13.0\n",
      "range_min                       1800001\n",
      "range_max                     2000000.0\n",
      "range            (1800001.0, 2000000.0]\n",
      "range_mean                    1900000.5\n",
      "Name: 266, dtype: object\n",
      "income_decile                       NaN\n",
      "agno                               2018\n",
      "Income                              NaN\n",
      "income_value                       14.0\n",
      "range_min                       2000001\n",
      "range_max                     2200000.0\n",
      "range            (2000001.0, 2200000.0]\n",
      "range_mean                    2100000.5\n",
      "Name: 267, dtype: object\n",
      "income_decile                NaN\n",
      "agno                        2019\n",
      "Income                       NaN\n",
      "income_value                 1.0\n",
      "range_min                      0\n",
      "range_max               100000.0\n",
      "range            (0.0, 100000.0]\n",
      "range_mean               50000.0\n",
      "Name: 269, dtype: object\n",
      "income_decile                     NaN\n",
      "agno                             2019\n",
      "Income                            NaN\n",
      "income_value                      3.0\n",
      "range_min                      200001\n",
      "range_max                    300000.0\n",
      "range            (200001.0, 300000.0]\n",
      "range_mean                   250000.5\n",
      "Name: 271, dtype: object\n",
      "income_decile                       NaN\n",
      "agno                               2019\n",
      "Income                              NaN\n",
      "income_value                       10.0\n",
      "range_min                       1200001\n",
      "range_max                     1400000.0\n",
      "range            (1200001.0, 1400000.0]\n",
      "range_mean                    1300000.5\n",
      "Name: 279, dtype: object\n",
      "income_decile                       NaN\n",
      "agno                               2019\n",
      "Income                              NaN\n",
      "income_value                       12.0\n",
      "range_min                       1600001\n",
      "range_max                     1800000.0\n",
      "range            (1600001.0, 1800000.0]\n",
      "range_mean                    1700000.5\n",
      "Name: 281, dtype: object\n",
      "income_decile                       NaN\n",
      "agno                               2019\n",
      "Income                              NaN\n",
      "income_value                       13.0\n",
      "range_min                       1800001\n",
      "range_max                     2000000.0\n",
      "range            (1800001.0, 2000000.0]\n",
      "range_mean                    1900000.5\n",
      "Name: 282, dtype: object\n",
      "income_decile                       NaN\n",
      "agno                               2019\n",
      "Income                              NaN\n",
      "income_value                       14.0\n",
      "range_min                       2000001\n",
      "range_max                     2200000.0\n",
      "range            (2000001.0, 2200000.0]\n",
      "range_mean                    2100000.5\n",
      "Name: 283, dtype: object\n",
      "income_decile                NaN\n",
      "agno                        2022\n",
      "Income                       NaN\n",
      "income_value                 1.0\n",
      "range_min                      0\n",
      "range_max               100000.0\n",
      "range            (0.0, 100000.0]\n",
      "range_mean               50000.0\n",
      "Name: 285, dtype: object\n",
      "income_decile                     NaN\n",
      "agno                             2022\n",
      "Income                            NaN\n",
      "income_value                      3.0\n",
      "range_min                      200001\n",
      "range_max                    300000.0\n",
      "range            (200001.0, 300000.0]\n",
      "range_mean                   250000.5\n",
      "Name: 287, dtype: object\n",
      "income_decile                       NaN\n",
      "agno                               2022\n",
      "Income                              NaN\n",
      "income_value                       10.0\n",
      "range_min                       1200001\n",
      "range_max                     1400000.0\n",
      "range            (1200001.0, 1400000.0]\n",
      "range_mean                    1300000.5\n",
      "Name: 295, dtype: object\n",
      "income_decile                       NaN\n",
      "agno                               2022\n",
      "Income                              NaN\n",
      "income_value                       12.0\n",
      "range_min                       1600001\n",
      "range_max                     1800000.0\n",
      "range            (1600001.0, 1800000.0]\n",
      "range_mean                    1700000.5\n",
      "Name: 297, dtype: object\n",
      "income_decile                       NaN\n",
      "agno                               2022\n",
      "Income                              NaN\n",
      "income_value                       13.0\n",
      "range_min                       1800001\n",
      "range_max                     2000000.0\n",
      "range            (1800001.0, 2000000.0]\n",
      "range_mean                    1900000.5\n",
      "Name: 298, dtype: object\n",
      "income_decile                       NaN\n",
      "agno                               2022\n",
      "Income                              NaN\n",
      "income_value                       14.0\n",
      "range_min                       2000001\n",
      "range_max                     2200000.0\n",
      "range            (2000001.0, 2200000.0]\n",
      "range_mean                    2100000.5\n",
      "Name: 299, dtype: object\n"
     ]
    }
   ],
   "source": [
    "for ind, row in df_income_merged.iterrows():\n",
    "    if str(row.income_decile) == 'nan':\n",
    "        a = row.agno\n",
    "        val = row.range_mean\n",
    "        closest_index = (df_deciles_casen[a] - val).abs().idxmin()\n",
    "        closest_value = df_deciles_casen[a][closest_index]\n",
    "        decil = closest_index + 1\n",
    "        print(row)\n",
    "        df_income_merged.loc[ind, 'income_decile'] = decil\n",
    "        \n",
    "df_income_merged = df_income_merged.sort_values(by = ['agno','income_decile', 'income_value'], ascending =True)\n",
    "df_income_merged = df_income_merged.drop_duplicates(subset = ['agno','income_value'], keep='last')"
   ]
  },
  {
   "cell_type": "code",
   "execution_count": 30,
   "id": "08f46d30",
   "metadata": {
    "ExecuteTime": {
     "end_time": "2023-10-29T13:39:28.971986Z",
     "start_time": "2023-10-29T13:39:28.957989Z"
    }
   },
   "outputs": [],
   "source": [
    "df_income_summary = df_income_merged[['agno','income_value', 'income_decile']].rename(columns = {'income_value':'income', \n",
    "                                                                                                 'income_decile':'income_decil_casen'})"
   ]
  },
  {
   "cell_type": "code",
   "execution_count": 31,
   "id": "c769d449",
   "metadata": {
    "ExecuteTime": {
     "end_time": "2023-10-29T13:39:28.987935Z",
     "start_time": "2023-10-29T13:39:28.972976Z"
    }
   },
   "outputs": [
    {
     "data": {
      "text/html": [
       "<div>\n",
       "<style scoped>\n",
       "    .dataframe tbody tr th:only-of-type {\n",
       "        vertical-align: middle;\n",
       "    }\n",
       "\n",
       "    .dataframe tbody tr th {\n",
       "        vertical-align: top;\n",
       "    }\n",
       "\n",
       "    .dataframe thead th {\n",
       "        text-align: right;\n",
       "    }\n",
       "</style>\n",
       "<table border=\"1\" class=\"dataframe\">\n",
       "  <thead>\n",
       "    <tr style=\"text-align: right;\">\n",
       "      <th></th>\n",
       "      <th>agno</th>\n",
       "      <th>income</th>\n",
       "      <th>income_decil_casen</th>\n",
       "    </tr>\n",
       "  </thead>\n",
       "  <tbody>\n",
       "    <tr>\n",
       "      <th>0</th>\n",
       "      <td>2002</td>\n",
       "      <td>1.0</td>\n",
       "      <td>1.0</td>\n",
       "    </tr>\n",
       "    <tr>\n",
       "      <th>1</th>\n",
       "      <td>2002</td>\n",
       "      <td>2.0</td>\n",
       "      <td>2.0</td>\n",
       "    </tr>\n",
       "    <tr>\n",
       "      <th>3</th>\n",
       "      <td>2002</td>\n",
       "      <td>3.0</td>\n",
       "      <td>4.0</td>\n",
       "    </tr>\n",
       "    <tr>\n",
       "      <th>5</th>\n",
       "      <td>2002</td>\n",
       "      <td>4.0</td>\n",
       "      <td>6.0</td>\n",
       "    </tr>\n",
       "    <tr>\n",
       "      <th>6</th>\n",
       "      <td>2002</td>\n",
       "      <td>5.0</td>\n",
       "      <td>7.0</td>\n",
       "    </tr>\n",
       "    <tr>\n",
       "      <th>...</th>\n",
       "      <td>...</td>\n",
       "      <td>...</td>\n",
       "      <td>...</td>\n",
       "    </tr>\n",
       "    <tr>\n",
       "      <th>296</th>\n",
       "      <td>2022</td>\n",
       "      <td>11.0</td>\n",
       "      <td>9.0</td>\n",
       "    </tr>\n",
       "    <tr>\n",
       "      <th>297</th>\n",
       "      <td>2022</td>\n",
       "      <td>12.0</td>\n",
       "      <td>9.0</td>\n",
       "    </tr>\n",
       "    <tr>\n",
       "      <th>298</th>\n",
       "      <td>2022</td>\n",
       "      <td>13.0</td>\n",
       "      <td>9.0</td>\n",
       "    </tr>\n",
       "    <tr>\n",
       "      <th>299</th>\n",
       "      <td>2022</td>\n",
       "      <td>14.0</td>\n",
       "      <td>9.0</td>\n",
       "    </tr>\n",
       "    <tr>\n",
       "      <th>300</th>\n",
       "      <td>2022</td>\n",
       "      <td>15.0</td>\n",
       "      <td>10.0</td>\n",
       "    </tr>\n",
       "  </tbody>\n",
       "</table>\n",
       "<p>275 rows × 3 columns</p>\n",
       "</div>"
      ],
      "text/plain": [
       "     agno  income  income_decil_casen\n",
       "0    2002     1.0                 1.0\n",
       "1    2002     2.0                 2.0\n",
       "3    2002     3.0                 4.0\n",
       "5    2002     4.0                 6.0\n",
       "6    2002     5.0                 7.0\n",
       "..    ...     ...                 ...\n",
       "296  2022    11.0                 9.0\n",
       "297  2022    12.0                 9.0\n",
       "298  2022    13.0                 9.0\n",
       "299  2022    14.0                 9.0\n",
       "300  2022    15.0                10.0\n",
       "\n",
       "[275 rows x 3 columns]"
      ]
     },
     "execution_count": 31,
     "metadata": {},
     "output_type": "execute_result"
    }
   ],
   "source": [
    "df_income_summary"
   ]
  },
  {
   "cell_type": "code",
   "execution_count": 32,
   "id": "87a30d82",
   "metadata": {
    "ExecuteTime": {
     "end_time": "2023-10-29T13:39:30.667931Z",
     "start_time": "2023-10-29T13:39:28.988915Z"
    }
   },
   "outputs": [],
   "source": [
    "panel_parents = pd.merge(panel_parents,df_income_summary, on = ['agno', 'income'], how = 'left', validate = 'many_to_one')"
   ]
  },
  {
   "cell_type": "code",
   "execution_count": 33,
   "id": "08a696bf",
   "metadata": {
    "ExecuteTime": {
     "end_time": "2023-10-29T13:39:31.105204Z",
     "start_time": "2023-10-29T13:39:30.668958Z"
    }
   },
   "outputs": [],
   "source": [
    "panel_parents['income_quintil_casen'] = panel_parents.income_decil_casen\n",
    "panel_parents['income_quintil_casen'] = panel_parents.income_quintil_casen.replace({2:1,3:2,4:2,\n",
    "                                                                                   5:3,6:3,7:4,\n",
    "                                                                                    8:4, 9:5, 10:5})"
   ]
  },
  {
   "cell_type": "code",
   "execution_count": 34,
   "id": "dc0aff93",
   "metadata": {
    "ExecuteTime": {
     "end_time": "2023-10-29T13:39:32.137054Z",
     "start_time": "2023-10-29T13:39:31.107201Z"
    }
   },
   "outputs": [
    {
     "name": "stdout",
     "output_type": "stream",
     "text": [
      "2002\n",
      "income_quintil_casen\n",
      "1.0    162002\n",
      "2.0     30739\n",
      "3.0     14407\n",
      "4.0     14148\n",
      "5.0     23508\n",
      "NaN      8819\n",
      "Name: count, dtype: int64\n",
      "2003\n",
      "income_quintil_casen\n",
      "1.0    132846\n",
      "2.0     31891\n",
      "3.0     16022\n",
      "4.0     17483\n",
      "5.0     20868\n",
      "NaN      3837\n",
      "Name: count, dtype: int64\n",
      "2004\n",
      "income_quintil_casen\n",
      "1.0    150998\n",
      "2.0     37952\n",
      "3.0     19499\n",
      "4.0     20726\n",
      "5.0     25508\n",
      "NaN      7846\n",
      "Name: count, dtype: int64\n",
      "2005\n",
      "income_quintil_casen\n",
      "1.0    137390\n",
      "2.0     34248\n",
      "3.0     17671\n",
      "4.0     18896\n",
      "5.0     26734\n",
      "NaN      7146\n",
      "Name: count, dtype: int64\n",
      "2006\n",
      "income_quintil_casen\n",
      "1.0    219225\n",
      "2.0     70616\n",
      "3.0     37397\n",
      "4.0     41314\n",
      "5.0     60176\n",
      "NaN     41851\n",
      "Name: count, dtype: int64\n",
      "2007\n",
      "income_quintil_casen\n",
      "1.0    191352\n",
      "2.0     63966\n",
      "3.0     34713\n",
      "4.0     51465\n",
      "5.0     32343\n",
      "NaN      8525\n",
      "Name: count, dtype: int64\n",
      "2008\n",
      "income_quintil_casen\n",
      "1.0    186373\n",
      "2.0     77832\n",
      "3.0     42321\n",
      "4.0     64905\n",
      "5.0     50754\n",
      "NaN      6857\n",
      "Name: count, dtype: int64\n",
      "2009\n",
      "income_quintil_casen\n",
      "1.0    186287\n",
      "2.0     71663\n",
      "3.0     63982\n",
      "4.0     35141\n",
      "5.0     36357\n",
      "NaN      8071\n",
      "Name: count, dtype: int64\n",
      "2010\n",
      "income_quintil_casen\n",
      "1.0    161327\n",
      "2.0     78647\n",
      "3.0     72589\n",
      "4.0     39379\n",
      "5.0     46723\n",
      "NaN     27314\n",
      "Name: count, dtype: int64\n",
      "2011\n",
      "income_quintil_casen\n",
      "1.0    180035\n",
      "2.0     79249\n",
      "3.0     69623\n",
      "4.0     37306\n",
      "5.0     39754\n",
      "NaN     12081\n",
      "Name: count, dtype: int64\n",
      "2012\n",
      "income_quintil_casen\n",
      "1.0    220079\n",
      "2.0    210432\n",
      "3.0     87667\n",
      "4.0     59134\n",
      "5.0     81783\n",
      "NaN     27484\n",
      "Name: count, dtype: int64\n",
      "2013\n",
      "income_quintil_casen\n",
      "1.0    459522\n",
      "2.0    117435\n",
      "3.0    128098\n",
      "4.0     88502\n",
      "5.0    115634\n",
      "NaN     26040\n",
      "Name: count, dtype: int64\n",
      "2014\n",
      "income_quintil_casen\n",
      "1.0    428779\n",
      "2.0    216077\n",
      "3.0     61229\n",
      "4.0     98630\n",
      "5.0    127234\n",
      "NaN     21996\n",
      "Name: count, dtype: int64\n",
      "2015\n",
      "income_quintil_casen\n",
      "1.0    376434\n",
      "2.0    229950\n",
      "3.0     68081\n",
      "4.0    134100\n",
      "5.0    110106\n",
      "NaN     28214\n",
      "Name: count, dtype: int64\n",
      "2016\n",
      "income_quintil_casen\n",
      "1.0    201034\n",
      "2.0    140025\n",
      "3.0     83635\n",
      "4.0     42879\n",
      "5.0     66479\n",
      "NaN     28321\n",
      "Name: count, dtype: int64\n",
      "2017\n",
      "income_quintil_casen\n",
      "1.0    267290\n",
      "2.0     62039\n",
      "3.0     91024\n",
      "4.0     52000\n",
      "5.0     73308\n",
      "NaN     20217\n",
      "Name: count, dtype: int64\n",
      "2018\n",
      "income_quintil_casen\n",
      "1.0    269331\n",
      "2.0     66067\n",
      "3.0     99028\n",
      "4.0     58317\n",
      "5.0     82804\n",
      "NaN     15048\n",
      "Name: count, dtype: int64\n",
      "2019\n",
      "income_quintil_casen\n",
      "1.0    86442\n",
      "2.0    22345\n",
      "3.0    33707\n",
      "4.0    19272\n",
      "5.0    26249\n",
      "NaN     4393\n",
      "Name: count, dtype: int64\n",
      "2020\n",
      "Series([], Name: count, dtype: int64)\n",
      "2021\n",
      "Series([], Name: count, dtype: int64)\n",
      "2022\n",
      "income_quintil_casen\n",
      "1.0    128511\n",
      "2.0     50693\n",
      "3.0     72205\n",
      "4.0     45632\n",
      "5.0     61094\n",
      "NaN      6807\n",
      "Name: count, dtype: int64\n"
     ]
    }
   ],
   "source": [
    "for a in range(2002,2023):\n",
    "    print(a)\n",
    "    print(panel_parents[panel_parents.agno == a].income_quintil_casen.value_counts(dropna=False).sort_index())"
   ]
  },
  {
   "cell_type": "code",
   "execution_count": 35,
   "id": "cf7bfb54",
   "metadata": {
    "ExecuteTime": {
     "end_time": "2023-10-29T13:39:32.982282Z",
     "start_time": "2023-10-29T13:39:32.138002Z"
    }
   },
   "outputs": [
    {
     "data": {
      "text/html": [
       "<div>\n",
       "<style scoped>\n",
       "    .dataframe tbody tr th:only-of-type {\n",
       "        vertical-align: middle;\n",
       "    }\n",
       "\n",
       "    .dataframe tbody tr th {\n",
       "        vertical-align: top;\n",
       "    }\n",
       "\n",
       "    .dataframe thead th {\n",
       "        text-align: right;\n",
       "    }\n",
       "</style>\n",
       "<table border=\"1\" class=\"dataframe\">\n",
       "  <thead>\n",
       "    <tr style=\"text-align: right;\">\n",
       "      <th>income_quintil_casen</th>\n",
       "      <th>1.0</th>\n",
       "      <th>2.0</th>\n",
       "      <th>3.0</th>\n",
       "      <th>4.0</th>\n",
       "      <th>5.0</th>\n",
       "    </tr>\n",
       "    <tr>\n",
       "      <th>income_decil_casen</th>\n",
       "      <th></th>\n",
       "      <th></th>\n",
       "      <th></th>\n",
       "      <th></th>\n",
       "      <th></th>\n",
       "    </tr>\n",
       "  </thead>\n",
       "  <tbody>\n",
       "    <tr>\n",
       "      <th>1.0</th>\n",
       "      <td>1789889</td>\n",
       "      <td>0</td>\n",
       "      <td>0</td>\n",
       "      <td>0</td>\n",
       "      <td>0</td>\n",
       "    </tr>\n",
       "    <tr>\n",
       "      <th>2.0</th>\n",
       "      <td>2355368</td>\n",
       "      <td>0</td>\n",
       "      <td>0</td>\n",
       "      <td>0</td>\n",
       "      <td>0</td>\n",
       "    </tr>\n",
       "    <tr>\n",
       "      <th>3.0</th>\n",
       "      <td>0</td>\n",
       "      <td>718911</td>\n",
       "      <td>0</td>\n",
       "      <td>0</td>\n",
       "      <td>0</td>\n",
       "    </tr>\n",
       "    <tr>\n",
       "      <th>4.0</th>\n",
       "      <td>0</td>\n",
       "      <td>972955</td>\n",
       "      <td>0</td>\n",
       "      <td>0</td>\n",
       "      <td>0</td>\n",
       "    </tr>\n",
       "    <tr>\n",
       "      <th>5.0</th>\n",
       "      <td>0</td>\n",
       "      <td>0</td>\n",
       "      <td>613921</td>\n",
       "      <td>0</td>\n",
       "      <td>0</td>\n",
       "    </tr>\n",
       "    <tr>\n",
       "      <th>6.0</th>\n",
       "      <td>0</td>\n",
       "      <td>0</td>\n",
       "      <td>498977</td>\n",
       "      <td>0</td>\n",
       "      <td>0</td>\n",
       "    </tr>\n",
       "    <tr>\n",
       "      <th>7.0</th>\n",
       "      <td>0</td>\n",
       "      <td>0</td>\n",
       "      <td>0</td>\n",
       "      <td>506447</td>\n",
       "      <td>0</td>\n",
       "    </tr>\n",
       "    <tr>\n",
       "      <th>8.0</th>\n",
       "      <td>0</td>\n",
       "      <td>0</td>\n",
       "      <td>0</td>\n",
       "      <td>432782</td>\n",
       "      <td>0</td>\n",
       "    </tr>\n",
       "    <tr>\n",
       "      <th>9.0</th>\n",
       "      <td>0</td>\n",
       "      <td>0</td>\n",
       "      <td>0</td>\n",
       "      <td>0</td>\n",
       "      <td>609444</td>\n",
       "    </tr>\n",
       "    <tr>\n",
       "      <th>10.0</th>\n",
       "      <td>0</td>\n",
       "      <td>0</td>\n",
       "      <td>0</td>\n",
       "      <td>0</td>\n",
       "      <td>497972</td>\n",
       "    </tr>\n",
       "  </tbody>\n",
       "</table>\n",
       "</div>"
      ],
      "text/plain": [
       "income_quintil_casen      1.0     2.0     3.0     4.0     5.0\n",
       "income_decil_casen                                           \n",
       "1.0                   1789889       0       0       0       0\n",
       "2.0                   2355368       0       0       0       0\n",
       "3.0                         0  718911       0       0       0\n",
       "4.0                         0  972955       0       0       0\n",
       "5.0                         0       0  613921       0       0\n",
       "6.0                         0       0  498977       0       0\n",
       "7.0                         0       0       0  506447       0\n",
       "8.0                         0       0       0  432782       0\n",
       "9.0                         0       0       0       0  609444\n",
       "10.0                        0       0       0       0  497972"
      ]
     },
     "execution_count": 35,
     "metadata": {},
     "output_type": "execute_result"
    }
   ],
   "source": [
    "pd.crosstab(panel_parents.income_decil_casen, panel_parents.income_quintil_casen)"
   ]
  },
  {
   "cell_type": "markdown",
   "id": "44f75a84",
   "metadata": {},
   "source": [
    "## Income UF"
   ]
  },
  {
   "cell_type": "code",
   "execution_count": 36,
   "id": "dbbe9221",
   "metadata": {
    "ExecuteTime": {
     "end_time": "2023-10-29T13:39:33.059839Z",
     "start_time": "2023-10-29T13:39:32.985715Z"
    },
    "scrolled": true
   },
   "outputs": [
    {
     "name": "stdout",
     "output_type": "stream",
     "text": [
      "2002\n",
      "2003\n",
      "2004\n",
      "2005\n",
      "2006\n",
      "2007\n",
      "2008\n",
      "2009\n",
      "2010\n",
      "2011\n",
      "2012\n",
      "2013\n",
      "2014\n",
      "2015\n",
      "2016\n",
      "2017\n",
      "2018\n",
      "2019\n",
      "2020\n",
      "2021\n",
      "2022\n"
     ]
    }
   ],
   "source": [
    "# categorical income to UF anual \n",
    "mean_income_category = [50000, 150000, 250000, 350000, 450000, 550000,700000,900000,1100000,1300000,1500000,1700000,1900000,2100000,2300000]\n",
    "uf_agno = pd.read_excel(r'Datos\\Apoyo\\uf_anual_2000_2022.xls')\n",
    "\n",
    "uf_pesos_dict = {}\n",
    "for a in range(2002,2023):\n",
    "    print(a)\n",
    "    uf = uf_agno[uf_agno.agno == a].uf.values[0]\n",
    "    list_year = []\n",
    "    for cat in range(1,16):\n",
    "        cat_uf = np.round(mean_income_category[cat-1]/uf,3)\n",
    "        list_year = list_year  + [cat_uf]\n",
    "    uf_pesos_dict[a] = list_year"
   ]
  },
  {
   "cell_type": "code",
   "execution_count": 37,
   "id": "2ab46f1b",
   "metadata": {
    "ExecuteTime": {
     "end_time": "2023-10-29T13:39:33.090792Z",
     "start_time": "2023-10-29T13:39:33.060840Z"
    }
   },
   "outputs": [
    {
     "data": {
      "text/html": [
       "<div>\n",
       "<style scoped>\n",
       "    .dataframe tbody tr th:only-of-type {\n",
       "        vertical-align: middle;\n",
       "    }\n",
       "\n",
       "    .dataframe tbody tr th {\n",
       "        vertical-align: top;\n",
       "    }\n",
       "\n",
       "    .dataframe thead th {\n",
       "        text-align: right;\n",
       "    }\n",
       "</style>\n",
       "<table border=\"1\" class=\"dataframe\">\n",
       "  <thead>\n",
       "    <tr style=\"text-align: right;\">\n",
       "      <th></th>\n",
       "      <th>agno</th>\n",
       "      <th>idalumno</th>\n",
       "      <th>rbd</th>\n",
       "      <th>parental_exp</th>\n",
       "      <th>income</th>\n",
       "      <th>mom_ed</th>\n",
       "      <th>dad_ed</th>\n",
       "      <th>respondant</th>\n",
       "      <th>respondant_age</th>\n",
       "      <th>curso</th>\n",
       "      <th>mom_ed_grouped</th>\n",
       "      <th>dad_ed_grouped</th>\n",
       "      <th>income_decil_casen</th>\n",
       "      <th>income_quintil_casen</th>\n",
       "    </tr>\n",
       "  </thead>\n",
       "  <tbody>\n",
       "    <tr>\n",
       "      <th>0</th>\n",
       "      <td>2005</td>\n",
       "      <td>255724</td>\n",
       "      <td>5.0</td>\n",
       "      <td>4.0</td>\n",
       "      <td>2.0</td>\n",
       "      <td>16.0</td>\n",
       "      <td>NaN</td>\n",
       "      <td>1.0</td>\n",
       "      <td>NaN</td>\n",
       "      <td>4b</td>\n",
       "      <td>5_Some_higher_Ed_or_more</td>\n",
       "      <td>NaN</td>\n",
       "      <td>2.0</td>\n",
       "      <td>1.0</td>\n",
       "    </tr>\n",
       "    <tr>\n",
       "      <th>1</th>\n",
       "      <td>2005</td>\n",
       "      <td>255725</td>\n",
       "      <td>5.0</td>\n",
       "      <td>5.0</td>\n",
       "      <td>2.0</td>\n",
       "      <td>14.0</td>\n",
       "      <td>13.0</td>\n",
       "      <td>1.0</td>\n",
       "      <td>NaN</td>\n",
       "      <td>4b</td>\n",
       "      <td>4_Complete_highschool</td>\n",
       "      <td>4_Complete_highschool</td>\n",
       "      <td>2.0</td>\n",
       "      <td>1.0</td>\n",
       "    </tr>\n",
       "    <tr>\n",
       "      <th>2</th>\n",
       "      <td>2005</td>\n",
       "      <td>255727</td>\n",
       "      <td>5.0</td>\n",
       "      <td>5.0</td>\n",
       "      <td>2.0</td>\n",
       "      <td>13.0</td>\n",
       "      <td>13.0</td>\n",
       "      <td>3.0</td>\n",
       "      <td>NaN</td>\n",
       "      <td>4b</td>\n",
       "      <td>4_Complete_highschool</td>\n",
       "      <td>4_Complete_highschool</td>\n",
       "      <td>2.0</td>\n",
       "      <td>1.0</td>\n",
       "    </tr>\n",
       "    <tr>\n",
       "      <th>3</th>\n",
       "      <td>2005</td>\n",
       "      <td>255728</td>\n",
       "      <td>5.0</td>\n",
       "      <td>2.0</td>\n",
       "      <td>2.0</td>\n",
       "      <td>8.0</td>\n",
       "      <td>13.0</td>\n",
       "      <td>1.0</td>\n",
       "      <td>NaN</td>\n",
       "      <td>4b</td>\n",
       "      <td>1_Incomplete_elementary</td>\n",
       "      <td>4_Complete_highschool</td>\n",
       "      <td>2.0</td>\n",
       "      <td>1.0</td>\n",
       "    </tr>\n",
       "    <tr>\n",
       "      <th>4</th>\n",
       "      <td>2005</td>\n",
       "      <td>255730</td>\n",
       "      <td>5.0</td>\n",
       "      <td>NaN</td>\n",
       "      <td>2.0</td>\n",
       "      <td>9.0</td>\n",
       "      <td>11.0</td>\n",
       "      <td>NaN</td>\n",
       "      <td>NaN</td>\n",
       "      <td>4b</td>\n",
       "      <td>2_Complete_elementary</td>\n",
       "      <td>3_Incomplete_highschool</td>\n",
       "      <td>2.0</td>\n",
       "      <td>1.0</td>\n",
       "    </tr>\n",
       "    <tr>\n",
       "      <th>...</th>\n",
       "      <td>...</td>\n",
       "      <td>...</td>\n",
       "      <td>...</td>\n",
       "      <td>...</td>\n",
       "      <td>...</td>\n",
       "      <td>...</td>\n",
       "      <td>...</td>\n",
       "      <td>...</td>\n",
       "      <td>...</td>\n",
       "      <td>...</td>\n",
       "      <td>...</td>\n",
       "      <td>...</td>\n",
       "      <td>...</td>\n",
       "      <td>...</td>\n",
       "    </tr>\n",
       "    <tr>\n",
       "      <th>9307528</th>\n",
       "      <td>2017</td>\n",
       "      <td>256273</td>\n",
       "      <td>10527.0</td>\n",
       "      <td>4.0</td>\n",
       "      <td>2.0</td>\n",
       "      <td>13.0</td>\n",
       "      <td>11.0</td>\n",
       "      <td>12.0</td>\n",
       "      <td>37.0</td>\n",
       "      <td>4b</td>\n",
       "      <td>4_Complete_highschool</td>\n",
       "      <td>3_Incomplete_highschool</td>\n",
       "      <td>1.0</td>\n",
       "      <td>1.0</td>\n",
       "    </tr>\n",
       "    <tr>\n",
       "      <th>9307529</th>\n",
       "      <td>2017</td>\n",
       "      <td>256275</td>\n",
       "      <td>10527.0</td>\n",
       "      <td>4.0</td>\n",
       "      <td>4.0</td>\n",
       "      <td>12.0</td>\n",
       "      <td>10.0</td>\n",
       "      <td>12.0</td>\n",
       "      <td>32.0</td>\n",
       "      <td>4b</td>\n",
       "      <td>3_Incomplete_highschool</td>\n",
       "      <td>3_Incomplete_highschool</td>\n",
       "      <td>2.0</td>\n",
       "      <td>1.0</td>\n",
       "    </tr>\n",
       "    <tr>\n",
       "      <th>9307530</th>\n",
       "      <td>2017</td>\n",
       "      <td>256276</td>\n",
       "      <td>10527.0</td>\n",
       "      <td>5.0</td>\n",
       "      <td>6.0</td>\n",
       "      <td>9.0</td>\n",
       "      <td>21.0</td>\n",
       "      <td>12.0</td>\n",
       "      <td>35.0</td>\n",
       "      <td>4b</td>\n",
       "      <td>2_Complete_elementary</td>\n",
       "      <td>NaN</td>\n",
       "      <td>5.0</td>\n",
       "      <td>3.0</td>\n",
       "    </tr>\n",
       "    <tr>\n",
       "      <th>9307531</th>\n",
       "      <td>2017</td>\n",
       "      <td>256277</td>\n",
       "      <td>10527.0</td>\n",
       "      <td>4.0</td>\n",
       "      <td>3.0</td>\n",
       "      <td>10.0</td>\n",
       "      <td>10.0</td>\n",
       "      <td>12.0</td>\n",
       "      <td>36.0</td>\n",
       "      <td>4b</td>\n",
       "      <td>3_Incomplete_highschool</td>\n",
       "      <td>3_Incomplete_highschool</td>\n",
       "      <td>2.0</td>\n",
       "      <td>1.0</td>\n",
       "    </tr>\n",
       "    <tr>\n",
       "      <th>9307532</th>\n",
       "      <td>2017</td>\n",
       "      <td>256278</td>\n",
       "      <td>10527.0</td>\n",
       "      <td>6.0</td>\n",
       "      <td>7.0</td>\n",
       "      <td>17.0</td>\n",
       "      <td>16.0</td>\n",
       "      <td>12.0</td>\n",
       "      <td>40.0</td>\n",
       "      <td>4b</td>\n",
       "      <td>5_Some_higher_Ed_or_more</td>\n",
       "      <td>5_Some_higher_Ed_or_more</td>\n",
       "      <td>6.0</td>\n",
       "      <td>3.0</td>\n",
       "    </tr>\n",
       "  </tbody>\n",
       "</table>\n",
       "<p>9307533 rows × 14 columns</p>\n",
       "</div>"
      ],
      "text/plain": [
       "         agno  idalumno      rbd  parental_exp  income  mom_ed  dad_ed  \\\n",
       "0        2005    255724      5.0           4.0     2.0    16.0     NaN   \n",
       "1        2005    255725      5.0           5.0     2.0    14.0    13.0   \n",
       "2        2005    255727      5.0           5.0     2.0    13.0    13.0   \n",
       "3        2005    255728      5.0           2.0     2.0     8.0    13.0   \n",
       "4        2005    255730      5.0           NaN     2.0     9.0    11.0   \n",
       "...       ...       ...      ...           ...     ...     ...     ...   \n",
       "9307528  2017    256273  10527.0           4.0     2.0    13.0    11.0   \n",
       "9307529  2017    256275  10527.0           4.0     4.0    12.0    10.0   \n",
       "9307530  2017    256276  10527.0           5.0     6.0     9.0    21.0   \n",
       "9307531  2017    256277  10527.0           4.0     3.0    10.0    10.0   \n",
       "9307532  2017    256278  10527.0           6.0     7.0    17.0    16.0   \n",
       "\n",
       "         respondant  respondant_age curso            mom_ed_grouped  \\\n",
       "0               1.0             NaN    4b  5_Some_higher_Ed_or_more   \n",
       "1               1.0             NaN    4b     4_Complete_highschool   \n",
       "2               3.0             NaN    4b     4_Complete_highschool   \n",
       "3               1.0             NaN    4b   1_Incomplete_elementary   \n",
       "4               NaN             NaN    4b     2_Complete_elementary   \n",
       "...             ...             ...   ...                       ...   \n",
       "9307528        12.0            37.0    4b     4_Complete_highschool   \n",
       "9307529        12.0            32.0    4b   3_Incomplete_highschool   \n",
       "9307530        12.0            35.0    4b     2_Complete_elementary   \n",
       "9307531        12.0            36.0    4b   3_Incomplete_highschool   \n",
       "9307532        12.0            40.0    4b  5_Some_higher_Ed_or_more   \n",
       "\n",
       "                   dad_ed_grouped  income_decil_casen  income_quintil_casen  \n",
       "0                             NaN                 2.0                   1.0  \n",
       "1           4_Complete_highschool                 2.0                   1.0  \n",
       "2           4_Complete_highschool                 2.0                   1.0  \n",
       "3           4_Complete_highschool                 2.0                   1.0  \n",
       "4         3_Incomplete_highschool                 2.0                   1.0  \n",
       "...                           ...                 ...                   ...  \n",
       "9307528   3_Incomplete_highschool                 1.0                   1.0  \n",
       "9307529   3_Incomplete_highschool                 2.0                   1.0  \n",
       "9307530                       NaN                 5.0                   3.0  \n",
       "9307531   3_Incomplete_highschool                 2.0                   1.0  \n",
       "9307532  5_Some_higher_Ed_or_more                 6.0                   3.0  \n",
       "\n",
       "[9307533 rows x 14 columns]"
      ]
     },
     "execution_count": 37,
     "metadata": {},
     "output_type": "execute_result"
    }
   ],
   "source": [
    "panel_parents"
   ]
  },
  {
   "cell_type": "code",
   "execution_count": 38,
   "id": "44cc6131",
   "metadata": {
    "ExecuteTime": {
     "end_time": "2023-10-29T13:41:42.216774Z",
     "start_time": "2023-10-29T13:39:33.091793Z"
    }
   },
   "outputs": [],
   "source": [
    "def replace_uf(agno, income):\n",
    "    if str(income) == 'nan':\n",
    "        return np.nan\n",
    "    else:\n",
    "        return uf_pesos_dict[int(agno)][int(income)-1]\n",
    "\n",
    "panel_parents['income_uf'] = panel_parents.income\n",
    "panel_parents['income_uf'] = panel_parents.apply(lambda x: replace_uf(x.agno, x.income_uf), axis=1)"
   ]
  },
  {
   "cell_type": "code",
   "execution_count": 39,
   "id": "6f44da4f",
   "metadata": {
    "ExecuteTime": {
     "end_time": "2023-10-29T13:41:43.809016Z",
     "start_time": "2023-10-29T13:41:42.218257Z"
    }
   },
   "outputs": [],
   "source": [
    "# Calculate quintiles based on 'agno' (year) for 'income_uf'\n",
    "panel_parents['income_quintil_uf'] = panel_parents.groupby('agno')['income_uf'].transform(\n",
    "    lambda x: pd.qcut(x, q=5, labels=False, duplicates='drop') + 1\n",
    ")"
   ]
  },
  {
   "cell_type": "code",
   "execution_count": 40,
   "id": "f084397a",
   "metadata": {
    "ExecuteTime": {
     "end_time": "2023-10-29T13:41:45.433750Z",
     "start_time": "2023-10-29T13:41:43.810403Z"
    }
   },
   "outputs": [],
   "source": [
    "panel_parents['income_p40_p80_uf'] = panel_parents.groupby('agno')['income_uf'].transform(lambda x: np.select(\n",
    "    [\n",
    "        x <= x.quantile(0.4),\n",
    "        x.between(x.quantile(0.4), x.quantile(0.8)),\n",
    "        x > x.quantile(0.8)\n",
    "    ],\n",
    "    [1, 2, 3]\n",
    "))\n",
    "\n",
    "panel_parents['income_p40_p80_uf'] = panel_parents.income_p40_p80_uf.replace(0,np.nan)"
   ]
  },
  {
   "cell_type": "markdown",
   "id": "e77d6c15",
   "metadata": {},
   "source": [
    "## Expectations a binaria"
   ]
  },
  {
   "cell_type": "code",
   "execution_count": 41,
   "id": "817a0823",
   "metadata": {
    "ExecuteTime": {
     "end_time": "2023-10-29T13:41:46.057443Z",
     "start_time": "2023-10-29T13:41:45.435782Z"
    }
   },
   "outputs": [],
   "source": [
    "panel_parents['parental_exp_cc_or_more'] = panel_parents.parental_exp\n",
    "panel_parents['parental_exp_cc_or_more'] = panel_parents.parental_exp_cc_or_more.replace({1:0 ,2:0, 3:0 ,4:1 ,5:1 ,6:1})\n",
    "\n",
    "panel_parents['parental_exp_college_or_more'] = panel_parents.parental_exp\n",
    "panel_parents['parental_exp_college_or_more'] = panel_parents.parental_exp_college_or_more.replace({1:0 ,2:0, 3:0 ,4:0 ,5:1 ,6:1})"
   ]
  },
  {
   "cell_type": "markdown",
   "id": "32723c30",
   "metadata": {
    "ExecuteTime": {
     "end_time": "2023-10-27T20:51:59.013211Z",
     "start_time": "2023-10-27T20:51:59.002210Z"
    }
   },
   "source": [
    "# Scores"
   ]
  },
  {
   "cell_type": "code",
   "execution_count": 42,
   "id": "d93d78fb",
   "metadata": {
    "ExecuteTime": {
     "end_time": "2023-10-29T13:41:53.200776Z",
     "start_time": "2023-10-29T13:41:46.059332Z"
    }
   },
   "outputs": [],
   "source": [
    "panel_alu = pd.read_csv('Datos\\Intermedios\\Agencia\\20231027_panel_puntaje_estudiantes.csv', low_memory=False)"
   ]
  },
  {
   "cell_type": "code",
   "execution_count": 43,
   "id": "a4a7608b",
   "metadata": {
    "ExecuteTime": {
     "end_time": "2023-10-29T13:41:54.433443Z",
     "start_time": "2023-10-29T13:41:53.201810Z"
    }
   },
   "outputs": [],
   "source": [
    "# Sacar ingles \n",
    "panel_alu.loc[(panel_alu.agno == 2012) & (panel_alu.curso == '3m'), 'simce_mat'] = np.nan\n",
    "panel_alu.loc[(panel_alu.agno == 2012) & (panel_alu.curso == '3m'), 'simce_lect'] = np.nan"
   ]
  },
  {
   "cell_type": "code",
   "execution_count": 44,
   "id": "98a8971b",
   "metadata": {
    "ExecuteTime": {
     "end_time": "2023-10-29T13:41:54.654721Z",
     "start_time": "2023-10-29T13:41:54.434445Z"
    }
   },
   "outputs": [],
   "source": [
    "simce_mat_2002_mean = panel_alu[panel_alu.agno == 2002].simce_mat.mean()\n",
    "simce_mat_2002_std = panel_alu[panel_alu.agno == 2002].simce_mat.std()\n",
    "panel_alu['simce_mat_norm2002'] = (panel_alu.simce_mat - simce_mat_2002_mean) / simce_mat_2002_std\n",
    "\n",
    "simce_lect_2002_mean = panel_alu[panel_alu.agno == 2002].simce_lect.mean()\n",
    "simce_lect_2002_std = panel_alu[panel_alu.agno == 2002].simce_lect.std()\n",
    "panel_alu['simce_lect_norm2002'] = (panel_alu.simce_lect - simce_lect_2002_mean) / simce_lect_2002_std"
   ]
  },
  {
   "cell_type": "code",
   "execution_count": 45,
   "id": "590e9606",
   "metadata": {
    "ExecuteTime": {
     "end_time": "2023-10-29T13:41:58.672780Z",
     "start_time": "2023-10-29T13:41:54.656719Z"
    },
    "scrolled": true
   },
   "outputs": [
    {
     "name": "stdout",
     "output_type": "stream",
     "text": [
      "2002 -6.117084924230209e-16 0.9999999999999878\n"
     ]
    },
    {
     "data": {
      "image/png": "[encoded data removed]",
      "text/plain": [
       "<Figure size 640x480 with 1 Axes>"
      ]
     },
     "metadata": {},
     "output_type": "display_data"
    },
    {
     "name": "stdout",
     "output_type": "stream",
     "text": [
      "2003 0.02930646109463335 0.9318315997966244\n"
     ]
    },
    {
     "data": {
      "image/png": "[encoded data removed]",
      "text/plain": [
       "<Figure size 640x480 with 1 Axes>"
      ]
     },
     "metadata": {},
     "output_type": "display_data"
    },
    {
     "name": "stdout",
     "output_type": "stream",
     "text": [
      "2004 -0.009712451371136018 0.9701369656431175\n"
     ]
    },
    {
     "data": {
      "image/png": "[encoded data removed]",
      "text/plain": [
       "<Figure size 640x480 with 1 Axes>"
      ]
     },
     "metadata": {},
     "output_type": "display_data"
    },
    {
     "name": "stdout",
     "output_type": "stream",
     "text": [
      "2005 0.07706390666443225 0.9927796685594337\n"
     ]
    },
    {
     "data": {
      "image/png": "[encoded data removed]",
      "text/plain": [
       "<Figure size 640x480 with 1 Axes>"
      ]
     },
     "metadata": {},
     "output_type": "display_data"
    },
    {
     "name": "stdout",
     "output_type": "stream",
     "text": [
      "2006 0.04461678820492346 0.9857493227622066\n"
     ]
    },
    {
     "data": {
      "image/png": "[encoded data removed]",
      "text/plain": [
       "<Figure size 640x480 with 1 Axes>"
      ]
     },
     "metadata": {},
     "output_type": "display_data"
    },
    {
     "name": "stdout",
     "output_type": "stream",
     "text": [
      "2007 0.042455857969238585 0.9748194905298454\n"
     ]
    },
    {
     "data": {
      "image/png": "[encoded data removed]",
      "text/plain": [
       "<Figure size 640x480 with 1 Axes>"
      ]
     },
     "metadata": {},
     "output_type": "display_data"
    },
    {
     "name": "stdout",
     "output_type": "stream",
     "text": [
      "2008 0.11724948094323162 0.974017617698746\n"
     ]
    },
    {
     "data": {
      "image/png": "[encoded data removed]",
      "text/plain": [
       "<Figure size 640x480 with 1 Axes>"
      ]
     },
     "metadata": {},
     "output_type": "display_data"
    },
    {
     "name": "stdout",
     "output_type": "stream",
     "text": [
      "2009 0.10027991665771366 0.9785294977697621\n"
     ]
    },
    {
     "data": {
      "image/png": "[encoded data removed]",
      "text/plain": [
       "<Figure size 640x480 with 1 Axes>"
      ]
     },
     "metadata": {},
     "output_type": "display_data"
    },
    {
     "name": "stdout",
     "output_type": "stream",
     "text": [
      "2010 0.2516498066386779 0.9512121234992327\n"
     ]
    },
    {
     "data": {
      "image/png": "[encoded data removed]",
      "text/plain": [
       "<Figure size 640x480 with 1 Axes>"
      ]
     },
     "metadata": {},
     "output_type": "display_data"
    },
    {
     "name": "stdout",
     "output_type": "stream",
     "text": [
      "2011 0.16424721833978853 0.945546716757325\n"
     ]
    },
    {
     "data": {
      "image/png": "[encoded data removed]",
      "text/plain": [
       "<Figure size 640x480 with 1 Axes>"
      ]
     },
     "metadata": {},
     "output_type": "display_data"
    },
    {
     "name": "stdout",
     "output_type": "stream",
     "text": [
      "2012 0.14121205371867113 0.976583475664257\n"
     ]
    },
    {
     "data": {
      "image/png": "[encoded data removed]",
      "text/plain": [
       "<Figure size 640x480 with 1 Axes>"
      ]
     },
     "metadata": {},
     "output_type": "display_data"
    },
    {
     "name": "stdout",
     "output_type": "stream",
     "text": [
      "2013 0.07417877473841314 0.9600338409278337\n"
     ]
    },
    {
     "data": {
      "image/png": "[encoded data removed]",
      "text/plain": [
       "<Figure size 640x480 with 1 Axes>"
      ]
     },
     "metadata": {},
     "output_type": "display_data"
    },
    {
     "name": "stdout",
     "output_type": "stream",
     "text": [
      "2014 -0.024978676935720763 0.968936444131858\n"
     ]
    },
    {
     "data": {
      "image/png": "[encoded data removed]",
      "text/plain": [
       "<Figure size 640x480 with 1 Axes>"
      ]
     },
     "metadata": {},
     "output_type": "display_data"
    },
    {
     "name": "stdout",
     "output_type": "stream",
     "text": [
      "2015 -0.0034822038997271232 0.9603499896923563\n"
     ]
    },
    {
     "data": {
      "image/png": "[encoded data removed]",
      "text/plain": [
       "<Figure size 640x480 with 1 Axes>"
      ]
     },
     "metadata": {},
     "output_type": "display_data"
    },
    {
     "name": "stdout",
     "output_type": "stream",
     "text": [
      "2016 0.058257797528117015 0.9811854699704102\n"
     ]
    },
    {
     "data": {
      "image/png": "[encoded data removed]",
      "text/plain": [
       "<Figure size 640x480 with 1 Axes>"
      ]
     },
     "metadata": {},
     "output_type": "display_data"
    },
    {
     "name": "stdout",
     "output_type": "stream",
     "text": [
      "2017 0.06990544730478382 0.9830964429809786\n"
     ]
    },
    {
     "data": {
      "image/png": "[encoded data removed]",
      "text/plain": [
       "<Figure size 640x480 with 1 Axes>"
      ]
     },
     "metadata": {},
     "output_type": "display_data"
    },
    {
     "name": "stdout",
     "output_type": "stream",
     "text": [
      "2018 0.10505622980571915 0.9841194459712522\n"
     ]
    },
    {
     "data": {
      "image/png": "[encoded data removed]",
      "text/plain": [
       "<Figure size 640x480 with 1 Axes>"
      ]
     },
     "metadata": {},
     "output_type": "display_data"
    },
    {
     "name": "stdout",
     "output_type": "stream",
     "text": [
      "2019 -0.19079687186531208 0.9481305015838646\n"
     ]
    },
    {
     "data": {
      "image/png": "[encoded data removed]",
      "text/plain": [
       "<Figure size 640x480 with 1 Axes>"
      ]
     },
     "metadata": {},
     "output_type": "display_data"
    },
    {
     "name": "stdout",
     "output_type": "stream",
     "text": [
      "2020 nan nan\n"
     ]
    },
    {
     "data": {
      "image/png": "[encoded data removed]",
      "text/plain": [
       "<Figure size 640x480 with 1 Axes>"
      ]
     },
     "metadata": {},
     "output_type": "display_data"
    },
    {
     "name": "stdout",
     "output_type": "stream",
     "text": [
      "2021 nan nan\n"
     ]
    },
    {
     "data": {
      "image/png": "[encoded data removed]",
      "text/plain": [
       "<Figure size 640x480 with 1 Axes>"
      ]
     },
     "metadata": {},
     "output_type": "display_data"
    },
    {
     "name": "stdout",
     "output_type": "stream",
     "text": [
      "2022 0.0807259860892108 1.032993900497356\n"
     ]
    },
    {
     "data": {
      "image/png": "[encoded data removed]",
      "text/plain": [
       "<Figure size 640x480 with 1 Axes>"
      ]
     },
     "metadata": {},
     "output_type": "display_data"
    }
   ],
   "source": [
    "import matplotlib.pyplot as plt\n",
    "for a in range(2002,2023):\n",
    "    data = panel_alu[panel_alu.agno == a]\n",
    "    print(a, data.simce_lect_norm2002.mean(), data.simce_lect_norm2002.std())\n",
    "    data.simce_lect_norm2002.hist()\n",
    "    plt.show()"
   ]
  },
  {
   "cell_type": "markdown",
   "id": "7bc02f5b",
   "metadata": {},
   "source": [
    "# Students"
   ]
  },
  {
   "cell_type": "code",
   "execution_count": 46,
   "id": "8a9d78b9",
   "metadata": {
    "ExecuteTime": {
     "end_time": "2023-10-29T13:41:59.870395Z",
     "start_time": "2023-10-29T13:41:58.674780Z"
    }
   },
   "outputs": [],
   "source": [
    "panel_asp_alu = pd.read_csv('Datos\\Intermedios\\Agencia\\20231027_panel_cuestionario_estudiantes.csv')"
   ]
  },
  {
   "cell_type": "code",
   "execution_count": 47,
   "id": "aa6a7fe6",
   "metadata": {
    "ExecuteTime": {
     "end_time": "2023-10-29T13:42:00.202132Z",
     "start_time": "2023-10-29T13:41:59.873216Z"
    }
   },
   "outputs": [
    {
     "data": {
      "text/html": [
       "<div>\n",
       "<style scoped>\n",
       "    .dataframe tbody tr th:only-of-type {\n",
       "        vertical-align: middle;\n",
       "    }\n",
       "\n",
       "    .dataframe tbody tr th {\n",
       "        vertical-align: top;\n",
       "    }\n",
       "\n",
       "    .dataframe thead th {\n",
       "        text-align: right;\n",
       "    }\n",
       "</style>\n",
       "<table border=\"1\" class=\"dataframe\">\n",
       "  <thead>\n",
       "    <tr style=\"text-align: right;\">\n",
       "      <th>curso</th>\n",
       "      <th>2m</th>\n",
       "      <th>8b</th>\n",
       "    </tr>\n",
       "    <tr>\n",
       "      <th>agno</th>\n",
       "      <th></th>\n",
       "      <th></th>\n",
       "    </tr>\n",
       "  </thead>\n",
       "  <tbody>\n",
       "    <tr>\n",
       "      <th>2009</th>\n",
       "      <td>0</td>\n",
       "      <td>215611</td>\n",
       "    </tr>\n",
       "    <tr>\n",
       "      <th>2010</th>\n",
       "      <td>227628</td>\n",
       "      <td>0</td>\n",
       "    </tr>\n",
       "    <tr>\n",
       "      <th>2011</th>\n",
       "      <td>0</td>\n",
       "      <td>227038</td>\n",
       "    </tr>\n",
       "    <tr>\n",
       "      <th>2012</th>\n",
       "      <td>191502</td>\n",
       "      <td>0</td>\n",
       "    </tr>\n",
       "    <tr>\n",
       "      <th>2013</th>\n",
       "      <td>174824</td>\n",
       "      <td>216158</td>\n",
       "    </tr>\n",
       "    <tr>\n",
       "      <th>2014</th>\n",
       "      <td>178957</td>\n",
       "      <td>222512</td>\n",
       "    </tr>\n",
       "    <tr>\n",
       "      <th>2015</th>\n",
       "      <td>194341</td>\n",
       "      <td>214927</td>\n",
       "    </tr>\n",
       "    <tr>\n",
       "      <th>2016</th>\n",
       "      <td>199820</td>\n",
       "      <td>0</td>\n",
       "    </tr>\n",
       "    <tr>\n",
       "      <th>2017</th>\n",
       "      <td>200691</td>\n",
       "      <td>215201</td>\n",
       "    </tr>\n",
       "    <tr>\n",
       "      <th>2018</th>\n",
       "      <td>202282</td>\n",
       "      <td>0</td>\n",
       "    </tr>\n",
       "    <tr>\n",
       "      <th>2019</th>\n",
       "      <td>0</td>\n",
       "      <td>215530</td>\n",
       "    </tr>\n",
       "  </tbody>\n",
       "</table>\n",
       "</div>"
      ],
      "text/plain": [
       "curso      2m      8b\n",
       "agno                 \n",
       "2009        0  215611\n",
       "2010   227628       0\n",
       "2011        0  227038\n",
       "2012   191502       0\n",
       "2013   174824  216158\n",
       "2014   178957  222512\n",
       "2015   194341  214927\n",
       "2016   199820       0\n",
       "2017   200691  215201\n",
       "2018   202282       0\n",
       "2019        0  215530"
      ]
     },
     "execution_count": 47,
     "metadata": {},
     "output_type": "execute_result"
    }
   ],
   "source": [
    "pd.crosstab(panel_asp_alu.agno, panel_asp_alu.curso)"
   ]
  },
  {
   "cell_type": "markdown",
   "id": "8cb92838",
   "metadata": {},
   "source": [
    "# Merge"
   ]
  },
  {
   "cell_type": "markdown",
   "id": "76cfce6f",
   "metadata": {},
   "source": [
    "## Mrun-idalumno + matricula grade 1"
   ]
  },
  {
   "cell_type": "code",
   "execution_count": 48,
   "id": "cc49f5d1",
   "metadata": {
    "ExecuteTime": {
     "end_time": "2023-10-29T13:42:09.171104Z",
     "start_time": "2023-10-29T13:42:00.204469Z"
    }
   },
   "outputs": [
    {
     "data": {
      "text/plain": [
       "merge1_data_tot_mrun_MAT_1b_data_acum\n",
       "both          8560592\n",
       "left_only     3451504\n",
       "right_only      35953\n",
       "Name: count, dtype: int64"
      ]
     },
     "execution_count": 48,
     "metadata": {},
     "output_type": "execute_result"
    }
   ],
   "source": [
    "df_merge1 = pd.merge(data_tot_mrun,MAT_1b_data_acum, on = ['mrun'], how = 'outer', validate = 'many_to_one', indicator =True )\n",
    "df_merge1 = df_merge1.rename(columns = {'_merge':'merge1_data_tot_mrun_MAT_1b_data_acum'})\n",
    "\n",
    "df_merge1.merge1_data_tot_mrun_MAT_1b_data_acum.value_counts()"
   ]
  },
  {
   "cell_type": "code",
   "execution_count": 49,
   "id": "a910c692",
   "metadata": {
    "ExecuteTime": {
     "end_time": "2023-10-29T13:42:09.200851Z",
     "start_time": "2023-10-29T13:42:09.172928Z"
    }
   },
   "outputs": [
    {
     "data": {
      "text/html": [
       "<div>\n",
       "<style scoped>\n",
       "    .dataframe tbody tr th:only-of-type {\n",
       "        vertical-align: middle;\n",
       "    }\n",
       "\n",
       "    .dataframe tbody tr th {\n",
       "        vertical-align: top;\n",
       "    }\n",
       "\n",
       "    .dataframe thead th {\n",
       "        text-align: right;\n",
       "    }\n",
       "</style>\n",
       "<table border=\"1\" class=\"dataframe\">\n",
       "  <thead>\n",
       "    <tr style=\"text-align: right;\">\n",
       "      <th></th>\n",
       "      <th>agno</th>\n",
       "      <th>curso</th>\n",
       "      <th>idalumno</th>\n",
       "      <th>mrun</th>\n",
       "      <th>rbd</th>\n",
       "      <th>is_duplicate</th>\n",
       "      <th>in_simce</th>\n",
       "      <th>agno_grade1_enrolled</th>\n",
       "      <th>merge1_data_tot_mrun_MAT_1b_data_acum</th>\n",
       "    </tr>\n",
       "  </thead>\n",
       "  <tbody>\n",
       "    <tr>\n",
       "      <th>0</th>\n",
       "      <td>2002.0</td>\n",
       "      <td>4b</td>\n",
       "      <td>100097.0</td>\n",
       "      <td>10830433.0</td>\n",
       "      <td>24898.0</td>\n",
       "      <td>False</td>\n",
       "      <td>1.0</td>\n",
       "      <td>NaN</td>\n",
       "      <td>left_only</td>\n",
       "    </tr>\n",
       "    <tr>\n",
       "      <th>1</th>\n",
       "      <td>2008.0</td>\n",
       "      <td>2m</td>\n",
       "      <td>43248.0</td>\n",
       "      <td>10830433.0</td>\n",
       "      <td>12033.0</td>\n",
       "      <td>False</td>\n",
       "      <td>1.0</td>\n",
       "      <td>NaN</td>\n",
       "      <td>left_only</td>\n",
       "    </tr>\n",
       "    <tr>\n",
       "      <th>2</th>\n",
       "      <td>2002.0</td>\n",
       "      <td>4b</td>\n",
       "      <td>154511.0</td>\n",
       "      <td>15854082.0</td>\n",
       "      <td>257.0</td>\n",
       "      <td>False</td>\n",
       "      <td>1.0</td>\n",
       "      <td>NaN</td>\n",
       "      <td>left_only</td>\n",
       "    </tr>\n",
       "    <tr>\n",
       "      <th>3</th>\n",
       "      <td>2005.0</td>\n",
       "      <td>4b</td>\n",
       "      <td>244091.0</td>\n",
       "      <td>15854082.0</td>\n",
       "      <td>7639.0</td>\n",
       "      <td>False</td>\n",
       "      <td>1.0</td>\n",
       "      <td>NaN</td>\n",
       "      <td>left_only</td>\n",
       "    </tr>\n",
       "    <tr>\n",
       "      <th>4</th>\n",
       "      <td>2009.0</td>\n",
       "      <td>8b</td>\n",
       "      <td>155807.0</td>\n",
       "      <td>15854082.0</td>\n",
       "      <td>7639.0</td>\n",
       "      <td>False</td>\n",
       "      <td>1.0</td>\n",
       "      <td>NaN</td>\n",
       "      <td>left_only</td>\n",
       "    </tr>\n",
       "    <tr>\n",
       "      <th>...</th>\n",
       "      <td>...</td>\n",
       "      <td>...</td>\n",
       "      <td>...</td>\n",
       "      <td>...</td>\n",
       "      <td>...</td>\n",
       "      <td>...</td>\n",
       "      <td>...</td>\n",
       "      <td>...</td>\n",
       "      <td>...</td>\n",
       "    </tr>\n",
       "    <tr>\n",
       "      <th>12048044</th>\n",
       "      <td>NaN</td>\n",
       "      <td>NaN</td>\n",
       "      <td>NaN</td>\n",
       "      <td>25080510.0</td>\n",
       "      <td>NaN</td>\n",
       "      <td>NaN</td>\n",
       "      <td>NaN</td>\n",
       "      <td>2013.0</td>\n",
       "      <td>right_only</td>\n",
       "    </tr>\n",
       "    <tr>\n",
       "      <th>12048045</th>\n",
       "      <td>NaN</td>\n",
       "      <td>NaN</td>\n",
       "      <td>NaN</td>\n",
       "      <td>25080516.0</td>\n",
       "      <td>NaN</td>\n",
       "      <td>NaN</td>\n",
       "      <td>NaN</td>\n",
       "      <td>2013.0</td>\n",
       "      <td>right_only</td>\n",
       "    </tr>\n",
       "    <tr>\n",
       "      <th>12048046</th>\n",
       "      <td>NaN</td>\n",
       "      <td>NaN</td>\n",
       "      <td>NaN</td>\n",
       "      <td>25080521.0</td>\n",
       "      <td>NaN</td>\n",
       "      <td>NaN</td>\n",
       "      <td>NaN</td>\n",
       "      <td>2013.0</td>\n",
       "      <td>right_only</td>\n",
       "    </tr>\n",
       "    <tr>\n",
       "      <th>12048047</th>\n",
       "      <td>NaN</td>\n",
       "      <td>NaN</td>\n",
       "      <td>NaN</td>\n",
       "      <td>25080523.0</td>\n",
       "      <td>NaN</td>\n",
       "      <td>NaN</td>\n",
       "      <td>NaN</td>\n",
       "      <td>2013.0</td>\n",
       "      <td>right_only</td>\n",
       "    </tr>\n",
       "    <tr>\n",
       "      <th>12048048</th>\n",
       "      <td>NaN</td>\n",
       "      <td>NaN</td>\n",
       "      <td>NaN</td>\n",
       "      <td>25080525.0</td>\n",
       "      <td>NaN</td>\n",
       "      <td>NaN</td>\n",
       "      <td>NaN</td>\n",
       "      <td>2013.0</td>\n",
       "      <td>right_only</td>\n",
       "    </tr>\n",
       "  </tbody>\n",
       "</table>\n",
       "<p>12048049 rows × 9 columns</p>\n",
       "</div>"
      ],
      "text/plain": [
       "            agno curso  idalumno        mrun      rbd is_duplicate  in_simce  \\\n",
       "0         2002.0    4b  100097.0  10830433.0  24898.0        False       1.0   \n",
       "1         2008.0    2m   43248.0  10830433.0  12033.0        False       1.0   \n",
       "2         2002.0    4b  154511.0  15854082.0    257.0        False       1.0   \n",
       "3         2005.0    4b  244091.0  15854082.0   7639.0        False       1.0   \n",
       "4         2009.0    8b  155807.0  15854082.0   7639.0        False       1.0   \n",
       "...          ...   ...       ...         ...      ...          ...       ...   \n",
       "12048044     NaN   NaN       NaN  25080510.0      NaN          NaN       NaN   \n",
       "12048045     NaN   NaN       NaN  25080516.0      NaN          NaN       NaN   \n",
       "12048046     NaN   NaN       NaN  25080521.0      NaN          NaN       NaN   \n",
       "12048047     NaN   NaN       NaN  25080523.0      NaN          NaN       NaN   \n",
       "12048048     NaN   NaN       NaN  25080525.0      NaN          NaN       NaN   \n",
       "\n",
       "          agno_grade1_enrolled merge1_data_tot_mrun_MAT_1b_data_acum  \n",
       "0                          NaN                             left_only  \n",
       "1                          NaN                             left_only  \n",
       "2                          NaN                             left_only  \n",
       "3                          NaN                             left_only  \n",
       "4                          NaN                             left_only  \n",
       "...                        ...                                   ...  \n",
       "12048044                2013.0                            right_only  \n",
       "12048045                2013.0                            right_only  \n",
       "12048046                2013.0                            right_only  \n",
       "12048047                2013.0                            right_only  \n",
       "12048048                2013.0                            right_only  \n",
       "\n",
       "[12048049 rows x 9 columns]"
      ]
     },
     "execution_count": 49,
     "metadata": {},
     "output_type": "execute_result"
    }
   ],
   "source": [
    "# Mrun vs idalumno desde TODOS los simce + matricula 1° básico para 11 cohortes  \n",
    "df_merge1"
   ]
  },
  {
   "cell_type": "markdown",
   "id": "7f49686a",
   "metadata": {},
   "source": [
    "## Parents + scores"
   ]
  },
  {
   "cell_type": "code",
   "execution_count": 50,
   "id": "8c117a5c",
   "metadata": {
    "ExecuteTime": {
     "end_time": "2023-10-29T13:42:10.961423Z",
     "start_time": "2023-10-29T13:42:09.202815Z"
    }
   },
   "outputs": [
    {
     "data": {
      "text/plain": [
       "0"
      ]
     },
     "execution_count": 50,
     "metadata": {},
     "output_type": "execute_result"
    }
   ],
   "source": [
    "panel_parents.duplicated(['agno', 'idalumno','rbd', 'curso']).sum()"
   ]
  },
  {
   "cell_type": "code",
   "execution_count": 51,
   "id": "4233d9b0",
   "metadata": {
    "ExecuteTime": {
     "end_time": "2023-10-29T13:42:13.465370Z",
     "start_time": "2023-10-29T13:42:10.963433Z"
    }
   },
   "outputs": [
    {
     "data": {
      "text/plain": [
       "0"
      ]
     },
     "execution_count": 51,
     "metadata": {},
     "output_type": "execute_result"
    }
   ],
   "source": [
    "panel_alu.duplicated(['agno', 'idalumno','rbd', 'curso']).sum()"
   ]
  },
  {
   "cell_type": "code",
   "execution_count": 52,
   "id": "18193258",
   "metadata": {
    "ExecuteTime": {
     "end_time": "2023-10-29T13:42:32.481387Z",
     "start_time": "2023-10-29T13:42:13.466211Z"
    }
   },
   "outputs": [],
   "source": [
    "panel_parents_alu = pd.merge(panel_parents, panel_alu, on = ['agno', 'idalumno','rbd', 'curso'], \n",
    "                            how = 'outer', validate = 'one_to_one', indicator = True)\n",
    "\n",
    "panel_parents_alu = panel_parents_alu.rename(columns = {'_merge':'merge2_panel_parents_panel_alu'})"
   ]
  },
  {
   "cell_type": "code",
   "execution_count": 53,
   "id": "0c209ce8",
   "metadata": {
    "ExecuteTime": {
     "end_time": "2023-10-29T13:42:34.824264Z",
     "start_time": "2023-10-29T13:42:32.482396Z"
    }
   },
   "outputs": [
    {
     "data": {
      "text/html": [
       "<div>\n",
       "<style scoped>\n",
       "    .dataframe tbody tr th:only-of-type {\n",
       "        vertical-align: middle;\n",
       "    }\n",
       "\n",
       "    .dataframe tbody tr th {\n",
       "        vertical-align: top;\n",
       "    }\n",
       "\n",
       "    .dataframe thead th {\n",
       "        text-align: right;\n",
       "    }\n",
       "</style>\n",
       "<table border=\"1\" class=\"dataframe\">\n",
       "  <thead>\n",
       "    <tr style=\"text-align: right;\">\n",
       "      <th></th>\n",
       "      <th>agno</th>\n",
       "      <th>idalumno</th>\n",
       "      <th>rbd</th>\n",
       "      <th>parental_exp</th>\n",
       "      <th>income</th>\n",
       "      <th>mom_ed</th>\n",
       "      <th>dad_ed</th>\n",
       "      <th>respondant</th>\n",
       "      <th>respondant_age</th>\n",
       "      <th>curso</th>\n",
       "      <th>...</th>\n",
       "      <th>income_quintil_uf</th>\n",
       "      <th>income_p40_p80_uf</th>\n",
       "      <th>parental_exp_cc_or_more</th>\n",
       "      <th>parental_exp_college_or_more</th>\n",
       "      <th>cod_curso</th>\n",
       "      <th>simce_mat</th>\n",
       "      <th>simce_lect</th>\n",
       "      <th>simce_mat_norm2002</th>\n",
       "      <th>simce_lect_norm2002</th>\n",
       "      <th>merge2_panel_parents_panel_alu</th>\n",
       "    </tr>\n",
       "  </thead>\n",
       "  <tbody>\n",
       "    <tr>\n",
       "      <th>0</th>\n",
       "      <td>2005</td>\n",
       "      <td>255724.0</td>\n",
       "      <td>5.0</td>\n",
       "      <td>4.0</td>\n",
       "      <td>2.0</td>\n",
       "      <td>16.0</td>\n",
       "      <td>NaN</td>\n",
       "      <td>1.0</td>\n",
       "      <td>NaN</td>\n",
       "      <td>4b</td>\n",
       "      <td>...</td>\n",
       "      <td>1.0</td>\n",
       "      <td>1.0</td>\n",
       "      <td>1.0</td>\n",
       "      <td>0.0</td>\n",
       "      <td>1899.0</td>\n",
       "      <td>178.59000</td>\n",
       "      <td>140.30000</td>\n",
       "      <td>-1.275738</td>\n",
       "      <td>-2.070125</td>\n",
       "      <td>both</td>\n",
       "    </tr>\n",
       "    <tr>\n",
       "      <th>1</th>\n",
       "      <td>2005</td>\n",
       "      <td>255725.0</td>\n",
       "      <td>5.0</td>\n",
       "      <td>5.0</td>\n",
       "      <td>2.0</td>\n",
       "      <td>14.0</td>\n",
       "      <td>13.0</td>\n",
       "      <td>1.0</td>\n",
       "      <td>NaN</td>\n",
       "      <td>4b</td>\n",
       "      <td>...</td>\n",
       "      <td>1.0</td>\n",
       "      <td>1.0</td>\n",
       "      <td>1.0</td>\n",
       "      <td>1.0</td>\n",
       "      <td>1899.0</td>\n",
       "      <td>341.63000</td>\n",
       "      <td>358.72000</td>\n",
       "      <td>1.744648</td>\n",
       "      <td>1.999407</td>\n",
       "      <td>both</td>\n",
       "    </tr>\n",
       "    <tr>\n",
       "      <th>2</th>\n",
       "      <td>2005</td>\n",
       "      <td>255727.0</td>\n",
       "      <td>5.0</td>\n",
       "      <td>5.0</td>\n",
       "      <td>2.0</td>\n",
       "      <td>13.0</td>\n",
       "      <td>13.0</td>\n",
       "      <td>3.0</td>\n",
       "      <td>NaN</td>\n",
       "      <td>4b</td>\n",
       "      <td>...</td>\n",
       "      <td>1.0</td>\n",
       "      <td>1.0</td>\n",
       "      <td>1.0</td>\n",
       "      <td>1.0</td>\n",
       "      <td>1899.0</td>\n",
       "      <td>231.89000</td>\n",
       "      <td>173.17000</td>\n",
       "      <td>-0.288333</td>\n",
       "      <td>-1.457702</td>\n",
       "      <td>both</td>\n",
       "    </tr>\n",
       "    <tr>\n",
       "      <th>3</th>\n",
       "      <td>2005</td>\n",
       "      <td>255728.0</td>\n",
       "      <td>5.0</td>\n",
       "      <td>2.0</td>\n",
       "      <td>2.0</td>\n",
       "      <td>8.0</td>\n",
       "      <td>13.0</td>\n",
       "      <td>1.0</td>\n",
       "      <td>NaN</td>\n",
       "      <td>4b</td>\n",
       "      <td>...</td>\n",
       "      <td>1.0</td>\n",
       "      <td>1.0</td>\n",
       "      <td>0.0</td>\n",
       "      <td>0.0</td>\n",
       "      <td>1899.0</td>\n",
       "      <td>141.42000</td>\n",
       "      <td>210.52000</td>\n",
       "      <td>-1.964328</td>\n",
       "      <td>-0.761808</td>\n",
       "      <td>both</td>\n",
       "    </tr>\n",
       "    <tr>\n",
       "      <th>4</th>\n",
       "      <td>2005</td>\n",
       "      <td>255730.0</td>\n",
       "      <td>5.0</td>\n",
       "      <td>NaN</td>\n",
       "      <td>2.0</td>\n",
       "      <td>9.0</td>\n",
       "      <td>11.0</td>\n",
       "      <td>NaN</td>\n",
       "      <td>NaN</td>\n",
       "      <td>4b</td>\n",
       "      <td>...</td>\n",
       "      <td>1.0</td>\n",
       "      <td>1.0</td>\n",
       "      <td>NaN</td>\n",
       "      <td>NaN</td>\n",
       "      <td>1899.0</td>\n",
       "      <td>236.85001</td>\n",
       "      <td>260.17999</td>\n",
       "      <td>-0.196446</td>\n",
       "      <td>0.163441</td>\n",
       "      <td>both</td>\n",
       "    </tr>\n",
       "    <tr>\n",
       "      <th>...</th>\n",
       "      <td>...</td>\n",
       "      <td>...</td>\n",
       "      <td>...</td>\n",
       "      <td>...</td>\n",
       "      <td>...</td>\n",
       "      <td>...</td>\n",
       "      <td>...</td>\n",
       "      <td>...</td>\n",
       "      <td>...</td>\n",
       "      <td>...</td>\n",
       "      <td>...</td>\n",
       "      <td>...</td>\n",
       "      <td>...</td>\n",
       "      <td>...</td>\n",
       "      <td>...</td>\n",
       "      <td>...</td>\n",
       "      <td>...</td>\n",
       "      <td>...</td>\n",
       "      <td>...</td>\n",
       "      <td>...</td>\n",
       "      <td>...</td>\n",
       "    </tr>\n",
       "    <tr>\n",
       "      <th>12060831</th>\n",
       "      <td>2022</td>\n",
       "      <td>235766.0</td>\n",
       "      <td>41814.0</td>\n",
       "      <td>NaN</td>\n",
       "      <td>NaN</td>\n",
       "      <td>NaN</td>\n",
       "      <td>NaN</td>\n",
       "      <td>NaN</td>\n",
       "      <td>NaN</td>\n",
       "      <td>4b</td>\n",
       "      <td>...</td>\n",
       "      <td>NaN</td>\n",
       "      <td>NaN</td>\n",
       "      <td>NaN</td>\n",
       "      <td>NaN</td>\n",
       "      <td>9603</td>\n",
       "      <td>NaN</td>\n",
       "      <td>NaN</td>\n",
       "      <td>NaN</td>\n",
       "      <td>NaN</td>\n",
       "      <td>right_only</td>\n",
       "    </tr>\n",
       "    <tr>\n",
       "      <th>12060832</th>\n",
       "      <td>2022</td>\n",
       "      <td>175255.0</td>\n",
       "      <td>41845.0</td>\n",
       "      <td>NaN</td>\n",
       "      <td>NaN</td>\n",
       "      <td>NaN</td>\n",
       "      <td>NaN</td>\n",
       "      <td>NaN</td>\n",
       "      <td>NaN</td>\n",
       "      <td>4b</td>\n",
       "      <td>...</td>\n",
       "      <td>NaN</td>\n",
       "      <td>NaN</td>\n",
       "      <td>NaN</td>\n",
       "      <td>NaN</td>\n",
       "      <td>7218</td>\n",
       "      <td>318.22000</td>\n",
       "      <td>355.00000</td>\n",
       "      <td>1.310968</td>\n",
       "      <td>1.930097</td>\n",
       "      <td>right_only</td>\n",
       "    </tr>\n",
       "    <tr>\n",
       "      <th>12060833</th>\n",
       "      <td>2022</td>\n",
       "      <td>175227.0</td>\n",
       "      <td>41845.0</td>\n",
       "      <td>NaN</td>\n",
       "      <td>NaN</td>\n",
       "      <td>NaN</td>\n",
       "      <td>NaN</td>\n",
       "      <td>NaN</td>\n",
       "      <td>NaN</td>\n",
       "      <td>4b</td>\n",
       "      <td>...</td>\n",
       "      <td>NaN</td>\n",
       "      <td>NaN</td>\n",
       "      <td>NaN</td>\n",
       "      <td>NaN</td>\n",
       "      <td>7218</td>\n",
       "      <td>NaN</td>\n",
       "      <td>NaN</td>\n",
       "      <td>NaN</td>\n",
       "      <td>NaN</td>\n",
       "      <td>right_only</td>\n",
       "    </tr>\n",
       "    <tr>\n",
       "      <th>12060834</th>\n",
       "      <td>2022</td>\n",
       "      <td>143371.0</td>\n",
       "      <td>41899.0</td>\n",
       "      <td>NaN</td>\n",
       "      <td>NaN</td>\n",
       "      <td>NaN</td>\n",
       "      <td>NaN</td>\n",
       "      <td>NaN</td>\n",
       "      <td>NaN</td>\n",
       "      <td>4b</td>\n",
       "      <td>...</td>\n",
       "      <td>NaN</td>\n",
       "      <td>NaN</td>\n",
       "      <td>NaN</td>\n",
       "      <td>NaN</td>\n",
       "      <td>5967</td>\n",
       "      <td>255.60000</td>\n",
       "      <td>NaN</td>\n",
       "      <td>0.150905</td>\n",
       "      <td>NaN</td>\n",
       "      <td>right_only</td>\n",
       "    </tr>\n",
       "    <tr>\n",
       "      <th>12060835</th>\n",
       "      <td>2022</td>\n",
       "      <td>143356.0</td>\n",
       "      <td>41899.0</td>\n",
       "      <td>NaN</td>\n",
       "      <td>NaN</td>\n",
       "      <td>NaN</td>\n",
       "      <td>NaN</td>\n",
       "      <td>NaN</td>\n",
       "      <td>NaN</td>\n",
       "      <td>4b</td>\n",
       "      <td>...</td>\n",
       "      <td>NaN</td>\n",
       "      <td>NaN</td>\n",
       "      <td>NaN</td>\n",
       "      <td>NaN</td>\n",
       "      <td>5967</td>\n",
       "      <td>NaN</td>\n",
       "      <td>NaN</td>\n",
       "      <td>NaN</td>\n",
       "      <td>NaN</td>\n",
       "      <td>right_only</td>\n",
       "    </tr>\n",
       "  </tbody>\n",
       "</table>\n",
       "<p>12060836 rows × 25 columns</p>\n",
       "</div>"
      ],
      "text/plain": [
       "          agno  idalumno      rbd  parental_exp  income  mom_ed  dad_ed  \\\n",
       "0         2005  255724.0      5.0           4.0     2.0    16.0     NaN   \n",
       "1         2005  255725.0      5.0           5.0     2.0    14.0    13.0   \n",
       "2         2005  255727.0      5.0           5.0     2.0    13.0    13.0   \n",
       "3         2005  255728.0      5.0           2.0     2.0     8.0    13.0   \n",
       "4         2005  255730.0      5.0           NaN     2.0     9.0    11.0   \n",
       "...        ...       ...      ...           ...     ...     ...     ...   \n",
       "12060831  2022  235766.0  41814.0           NaN     NaN     NaN     NaN   \n",
       "12060832  2022  175255.0  41845.0           NaN     NaN     NaN     NaN   \n",
       "12060833  2022  175227.0  41845.0           NaN     NaN     NaN     NaN   \n",
       "12060834  2022  143371.0  41899.0           NaN     NaN     NaN     NaN   \n",
       "12060835  2022  143356.0  41899.0           NaN     NaN     NaN     NaN   \n",
       "\n",
       "          respondant  respondant_age curso  ... income_quintil_uf  \\\n",
       "0                1.0             NaN    4b  ...               1.0   \n",
       "1                1.0             NaN    4b  ...               1.0   \n",
       "2                3.0             NaN    4b  ...               1.0   \n",
       "3                1.0             NaN    4b  ...               1.0   \n",
       "4                NaN             NaN    4b  ...               1.0   \n",
       "...              ...             ...   ...  ...               ...   \n",
       "12060831         NaN             NaN    4b  ...               NaN   \n",
       "12060832         NaN             NaN    4b  ...               NaN   \n",
       "12060833         NaN             NaN    4b  ...               NaN   \n",
       "12060834         NaN             NaN    4b  ...               NaN   \n",
       "12060835         NaN             NaN    4b  ...               NaN   \n",
       "\n",
       "         income_p40_p80_uf  parental_exp_cc_or_more  \\\n",
       "0                      1.0                      1.0   \n",
       "1                      1.0                      1.0   \n",
       "2                      1.0                      1.0   \n",
       "3                      1.0                      0.0   \n",
       "4                      1.0                      NaN   \n",
       "...                    ...                      ...   \n",
       "12060831               NaN                      NaN   \n",
       "12060832               NaN                      NaN   \n",
       "12060833               NaN                      NaN   \n",
       "12060834               NaN                      NaN   \n",
       "12060835               NaN                      NaN   \n",
       "\n",
       "          parental_exp_college_or_more  cod_curso  simce_mat  simce_lect  \\\n",
       "0                                  0.0     1899.0  178.59000   140.30000   \n",
       "1                                  1.0     1899.0  341.63000   358.72000   \n",
       "2                                  1.0     1899.0  231.89000   173.17000   \n",
       "3                                  0.0     1899.0  141.42000   210.52000   \n",
       "4                                  NaN     1899.0  236.85001   260.17999   \n",
       "...                                ...        ...        ...         ...   \n",
       "12060831                           NaN       9603        NaN         NaN   \n",
       "12060832                           NaN       7218  318.22000   355.00000   \n",
       "12060833                           NaN       7218        NaN         NaN   \n",
       "12060834                           NaN       5967  255.60000         NaN   \n",
       "12060835                           NaN       5967        NaN         NaN   \n",
       "\n",
       "          simce_mat_norm2002  simce_lect_norm2002  \\\n",
       "0                  -1.275738            -2.070125   \n",
       "1                   1.744648             1.999407   \n",
       "2                  -0.288333            -1.457702   \n",
       "3                  -1.964328            -0.761808   \n",
       "4                  -0.196446             0.163441   \n",
       "...                      ...                  ...   \n",
       "12060831                 NaN                  NaN   \n",
       "12060832            1.310968             1.930097   \n",
       "12060833                 NaN                  NaN   \n",
       "12060834            0.150905                  NaN   \n",
       "12060835                 NaN                  NaN   \n",
       "\n",
       "         merge2_panel_parents_panel_alu  \n",
       "0                                  both  \n",
       "1                                  both  \n",
       "2                                  both  \n",
       "3                                  both  \n",
       "4                                  both  \n",
       "...                                 ...  \n",
       "12060831                     right_only  \n",
       "12060832                     right_only  \n",
       "12060833                     right_only  \n",
       "12060834                     right_only  \n",
       "12060835                     right_only  \n",
       "\n",
       "[12060836 rows x 25 columns]"
      ]
     },
     "execution_count": 53,
     "metadata": {},
     "output_type": "execute_result"
    }
   ],
   "source": [
    "panel_parents_alu"
   ]
  },
  {
   "cell_type": "markdown",
   "id": "92f4f450",
   "metadata": {},
   "source": [
    "### + student expectations"
   ]
  },
  {
   "cell_type": "code",
   "execution_count": 54,
   "id": "8bb18d14",
   "metadata": {
    "ExecuteTime": {
     "end_time": "2023-10-29T13:42:34.964159Z",
     "start_time": "2023-10-29T13:42:34.826255Z"
    }
   },
   "outputs": [],
   "source": [
    "panel_asp_alu = panel_asp_alu[~panel_asp_alu.idalumno.isna()]"
   ]
  },
  {
   "cell_type": "code",
   "execution_count": 55,
   "id": "1c0a0e87",
   "metadata": {
    "ExecuteTime": {
     "end_time": "2023-10-29T13:42:45.872193Z",
     "start_time": "2023-10-29T13:42:34.965196Z"
    }
   },
   "outputs": [],
   "source": [
    "panel_parents_alu = pd.merge(panel_parents_alu, panel_asp_alu, on = ['agno','curso', 'rbd', 'idalumno'], \n",
    "                            how = 'left' , validate = 'many_to_one', indicator=True)"
   ]
  },
  {
   "cell_type": "code",
   "execution_count": 56,
   "id": "c08695b1",
   "metadata": {
    "ExecuteTime": {
     "end_time": "2023-10-29T13:42:47.604961Z",
     "start_time": "2023-10-29T13:42:45.873148Z"
    }
   },
   "outputs": [],
   "source": [
    "panel_parents_alu = panel_parents_alu.rename(columns = {'_merge':'merge3_panel_parents_panel_alu_asp'})"
   ]
  },
  {
   "cell_type": "code",
   "execution_count": 57,
   "id": "1b1874cf",
   "metadata": {
    "ExecuteTime": {
     "end_time": "2023-10-29T13:42:47.731620Z",
     "start_time": "2023-10-29T13:42:47.605998Z"
    }
   },
   "outputs": [
    {
     "data": {
      "text/plain": [
       "merge3_panel_parents_panel_alu_asp\n",
       "left_only     8965926\n",
       "both          3094910\n",
       "right_only          0\n",
       "Name: count, dtype: int64"
      ]
     },
     "execution_count": 57,
     "metadata": {},
     "output_type": "execute_result"
    }
   ],
   "source": [
    "panel_parents_alu.merge3_panel_parents_panel_alu_asp.value_counts()"
   ]
  },
  {
   "cell_type": "code",
   "execution_count": 58,
   "id": "5f5e217f",
   "metadata": {
    "ExecuteTime": {
     "end_time": "2023-10-29T13:42:49.839082Z",
     "start_time": "2023-10-29T13:42:47.732425Z"
    }
   },
   "outputs": [
    {
     "data": {
      "text/html": [
       "<div>\n",
       "<style scoped>\n",
       "    .dataframe tbody tr th:only-of-type {\n",
       "        vertical-align: middle;\n",
       "    }\n",
       "\n",
       "    .dataframe tbody tr th {\n",
       "        vertical-align: top;\n",
       "    }\n",
       "\n",
       "    .dataframe thead th {\n",
       "        text-align: right;\n",
       "    }\n",
       "</style>\n",
       "<table border=\"1\" class=\"dataframe\">\n",
       "  <thead>\n",
       "    <tr style=\"text-align: right;\">\n",
       "      <th></th>\n",
       "      <th>agno</th>\n",
       "      <th>idalumno</th>\n",
       "      <th>rbd</th>\n",
       "      <th>parental_exp</th>\n",
       "      <th>income</th>\n",
       "      <th>mom_ed</th>\n",
       "      <th>dad_ed</th>\n",
       "      <th>respondant</th>\n",
       "      <th>respondant_age</th>\n",
       "      <th>curso</th>\n",
       "      <th>...</th>\n",
       "      <th>parental_exp_college_or_more</th>\n",
       "      <th>cod_curso</th>\n",
       "      <th>simce_mat</th>\n",
       "      <th>simce_lect</th>\n",
       "      <th>simce_mat_norm2002</th>\n",
       "      <th>simce_lect_norm2002</th>\n",
       "      <th>merge2_panel_parents_panel_alu</th>\n",
       "      <th>student_expectations</th>\n",
       "      <th>student_exp_coordinada</th>\n",
       "      <th>merge3_panel_parents_panel_alu_asp</th>\n",
       "    </tr>\n",
       "  </thead>\n",
       "  <tbody>\n",
       "    <tr>\n",
       "      <th>0</th>\n",
       "      <td>2005</td>\n",
       "      <td>255724.0</td>\n",
       "      <td>5.0</td>\n",
       "      <td>4.0</td>\n",
       "      <td>2.0</td>\n",
       "      <td>16.0</td>\n",
       "      <td>NaN</td>\n",
       "      <td>1.0</td>\n",
       "      <td>NaN</td>\n",
       "      <td>4b</td>\n",
       "      <td>...</td>\n",
       "      <td>0.0</td>\n",
       "      <td>1899.0</td>\n",
       "      <td>178.59000</td>\n",
       "      <td>140.30000</td>\n",
       "      <td>-1.275738</td>\n",
       "      <td>-2.070125</td>\n",
       "      <td>both</td>\n",
       "      <td>NaN</td>\n",
       "      <td>NaN</td>\n",
       "      <td>left_only</td>\n",
       "    </tr>\n",
       "    <tr>\n",
       "      <th>1</th>\n",
       "      <td>2005</td>\n",
       "      <td>255725.0</td>\n",
       "      <td>5.0</td>\n",
       "      <td>5.0</td>\n",
       "      <td>2.0</td>\n",
       "      <td>14.0</td>\n",
       "      <td>13.0</td>\n",
       "      <td>1.0</td>\n",
       "      <td>NaN</td>\n",
       "      <td>4b</td>\n",
       "      <td>...</td>\n",
       "      <td>1.0</td>\n",
       "      <td>1899.0</td>\n",
       "      <td>341.63000</td>\n",
       "      <td>358.72000</td>\n",
       "      <td>1.744648</td>\n",
       "      <td>1.999407</td>\n",
       "      <td>both</td>\n",
       "      <td>NaN</td>\n",
       "      <td>NaN</td>\n",
       "      <td>left_only</td>\n",
       "    </tr>\n",
       "    <tr>\n",
       "      <th>2</th>\n",
       "      <td>2005</td>\n",
       "      <td>255727.0</td>\n",
       "      <td>5.0</td>\n",
       "      <td>5.0</td>\n",
       "      <td>2.0</td>\n",
       "      <td>13.0</td>\n",
       "      <td>13.0</td>\n",
       "      <td>3.0</td>\n",
       "      <td>NaN</td>\n",
       "      <td>4b</td>\n",
       "      <td>...</td>\n",
       "      <td>1.0</td>\n",
       "      <td>1899.0</td>\n",
       "      <td>231.89000</td>\n",
       "      <td>173.17000</td>\n",
       "      <td>-0.288333</td>\n",
       "      <td>-1.457702</td>\n",
       "      <td>both</td>\n",
       "      <td>NaN</td>\n",
       "      <td>NaN</td>\n",
       "      <td>left_only</td>\n",
       "    </tr>\n",
       "    <tr>\n",
       "      <th>3</th>\n",
       "      <td>2005</td>\n",
       "      <td>255728.0</td>\n",
       "      <td>5.0</td>\n",
       "      <td>2.0</td>\n",
       "      <td>2.0</td>\n",
       "      <td>8.0</td>\n",
       "      <td>13.0</td>\n",
       "      <td>1.0</td>\n",
       "      <td>NaN</td>\n",
       "      <td>4b</td>\n",
       "      <td>...</td>\n",
       "      <td>0.0</td>\n",
       "      <td>1899.0</td>\n",
       "      <td>141.42000</td>\n",
       "      <td>210.52000</td>\n",
       "      <td>-1.964328</td>\n",
       "      <td>-0.761808</td>\n",
       "      <td>both</td>\n",
       "      <td>NaN</td>\n",
       "      <td>NaN</td>\n",
       "      <td>left_only</td>\n",
       "    </tr>\n",
       "    <tr>\n",
       "      <th>4</th>\n",
       "      <td>2005</td>\n",
       "      <td>255730.0</td>\n",
       "      <td>5.0</td>\n",
       "      <td>NaN</td>\n",
       "      <td>2.0</td>\n",
       "      <td>9.0</td>\n",
       "      <td>11.0</td>\n",
       "      <td>NaN</td>\n",
       "      <td>NaN</td>\n",
       "      <td>4b</td>\n",
       "      <td>...</td>\n",
       "      <td>NaN</td>\n",
       "      <td>1899.0</td>\n",
       "      <td>236.85001</td>\n",
       "      <td>260.17999</td>\n",
       "      <td>-0.196446</td>\n",
       "      <td>0.163441</td>\n",
       "      <td>both</td>\n",
       "      <td>NaN</td>\n",
       "      <td>NaN</td>\n",
       "      <td>left_only</td>\n",
       "    </tr>\n",
       "    <tr>\n",
       "      <th>...</th>\n",
       "      <td>...</td>\n",
       "      <td>...</td>\n",
       "      <td>...</td>\n",
       "      <td>...</td>\n",
       "      <td>...</td>\n",
       "      <td>...</td>\n",
       "      <td>...</td>\n",
       "      <td>...</td>\n",
       "      <td>...</td>\n",
       "      <td>...</td>\n",
       "      <td>...</td>\n",
       "      <td>...</td>\n",
       "      <td>...</td>\n",
       "      <td>...</td>\n",
       "      <td>...</td>\n",
       "      <td>...</td>\n",
       "      <td>...</td>\n",
       "      <td>...</td>\n",
       "      <td>...</td>\n",
       "      <td>...</td>\n",
       "      <td>...</td>\n",
       "    </tr>\n",
       "    <tr>\n",
       "      <th>12060831</th>\n",
       "      <td>2022</td>\n",
       "      <td>235766.0</td>\n",
       "      <td>41814.0</td>\n",
       "      <td>NaN</td>\n",
       "      <td>NaN</td>\n",
       "      <td>NaN</td>\n",
       "      <td>NaN</td>\n",
       "      <td>NaN</td>\n",
       "      <td>NaN</td>\n",
       "      <td>4b</td>\n",
       "      <td>...</td>\n",
       "      <td>NaN</td>\n",
       "      <td>9603</td>\n",
       "      <td>NaN</td>\n",
       "      <td>NaN</td>\n",
       "      <td>NaN</td>\n",
       "      <td>NaN</td>\n",
       "      <td>right_only</td>\n",
       "      <td>NaN</td>\n",
       "      <td>NaN</td>\n",
       "      <td>left_only</td>\n",
       "    </tr>\n",
       "    <tr>\n",
       "      <th>12060832</th>\n",
       "      <td>2022</td>\n",
       "      <td>175255.0</td>\n",
       "      <td>41845.0</td>\n",
       "      <td>NaN</td>\n",
       "      <td>NaN</td>\n",
       "      <td>NaN</td>\n",
       "      <td>NaN</td>\n",
       "      <td>NaN</td>\n",
       "      <td>NaN</td>\n",
       "      <td>4b</td>\n",
       "      <td>...</td>\n",
       "      <td>NaN</td>\n",
       "      <td>7218</td>\n",
       "      <td>318.22000</td>\n",
       "      <td>355.00000</td>\n",
       "      <td>1.310968</td>\n",
       "      <td>1.930097</td>\n",
       "      <td>right_only</td>\n",
       "      <td>NaN</td>\n",
       "      <td>NaN</td>\n",
       "      <td>left_only</td>\n",
       "    </tr>\n",
       "    <tr>\n",
       "      <th>12060833</th>\n",
       "      <td>2022</td>\n",
       "      <td>175227.0</td>\n",
       "      <td>41845.0</td>\n",
       "      <td>NaN</td>\n",
       "      <td>NaN</td>\n",
       "      <td>NaN</td>\n",
       "      <td>NaN</td>\n",
       "      <td>NaN</td>\n",
       "      <td>NaN</td>\n",
       "      <td>4b</td>\n",
       "      <td>...</td>\n",
       "      <td>NaN</td>\n",
       "      <td>7218</td>\n",
       "      <td>NaN</td>\n",
       "      <td>NaN</td>\n",
       "      <td>NaN</td>\n",
       "      <td>NaN</td>\n",
       "      <td>right_only</td>\n",
       "      <td>NaN</td>\n",
       "      <td>NaN</td>\n",
       "      <td>left_only</td>\n",
       "    </tr>\n",
       "    <tr>\n",
       "      <th>12060834</th>\n",
       "      <td>2022</td>\n",
       "      <td>143371.0</td>\n",
       "      <td>41899.0</td>\n",
       "      <td>NaN</td>\n",
       "      <td>NaN</td>\n",
       "      <td>NaN</td>\n",
       "      <td>NaN</td>\n",
       "      <td>NaN</td>\n",
       "      <td>NaN</td>\n",
       "      <td>4b</td>\n",
       "      <td>...</td>\n",
       "      <td>NaN</td>\n",
       "      <td>5967</td>\n",
       "      <td>255.60000</td>\n",
       "      <td>NaN</td>\n",
       "      <td>0.150905</td>\n",
       "      <td>NaN</td>\n",
       "      <td>right_only</td>\n",
       "      <td>NaN</td>\n",
       "      <td>NaN</td>\n",
       "      <td>left_only</td>\n",
       "    </tr>\n",
       "    <tr>\n",
       "      <th>12060835</th>\n",
       "      <td>2022</td>\n",
       "      <td>143356.0</td>\n",
       "      <td>41899.0</td>\n",
       "      <td>NaN</td>\n",
       "      <td>NaN</td>\n",
       "      <td>NaN</td>\n",
       "      <td>NaN</td>\n",
       "      <td>NaN</td>\n",
       "      <td>NaN</td>\n",
       "      <td>4b</td>\n",
       "      <td>...</td>\n",
       "      <td>NaN</td>\n",
       "      <td>5967</td>\n",
       "      <td>NaN</td>\n",
       "      <td>NaN</td>\n",
       "      <td>NaN</td>\n",
       "      <td>NaN</td>\n",
       "      <td>right_only</td>\n",
       "      <td>NaN</td>\n",
       "      <td>NaN</td>\n",
       "      <td>left_only</td>\n",
       "    </tr>\n",
       "  </tbody>\n",
       "</table>\n",
       "<p>12060836 rows × 28 columns</p>\n",
       "</div>"
      ],
      "text/plain": [
       "          agno  idalumno      rbd  parental_exp  income  mom_ed  dad_ed  \\\n",
       "0         2005  255724.0      5.0           4.0     2.0    16.0     NaN   \n",
       "1         2005  255725.0      5.0           5.0     2.0    14.0    13.0   \n",
       "2         2005  255727.0      5.0           5.0     2.0    13.0    13.0   \n",
       "3         2005  255728.0      5.0           2.0     2.0     8.0    13.0   \n",
       "4         2005  255730.0      5.0           NaN     2.0     9.0    11.0   \n",
       "...        ...       ...      ...           ...     ...     ...     ...   \n",
       "12060831  2022  235766.0  41814.0           NaN     NaN     NaN     NaN   \n",
       "12060832  2022  175255.0  41845.0           NaN     NaN     NaN     NaN   \n",
       "12060833  2022  175227.0  41845.0           NaN     NaN     NaN     NaN   \n",
       "12060834  2022  143371.0  41899.0           NaN     NaN     NaN     NaN   \n",
       "12060835  2022  143356.0  41899.0           NaN     NaN     NaN     NaN   \n",
       "\n",
       "          respondant  respondant_age curso  ... parental_exp_college_or_more  \\\n",
       "0                1.0             NaN    4b  ...                          0.0   \n",
       "1                1.0             NaN    4b  ...                          1.0   \n",
       "2                3.0             NaN    4b  ...                          1.0   \n",
       "3                1.0             NaN    4b  ...                          0.0   \n",
       "4                NaN             NaN    4b  ...                          NaN   \n",
       "...              ...             ...   ...  ...                          ...   \n",
       "12060831         NaN             NaN    4b  ...                          NaN   \n",
       "12060832         NaN             NaN    4b  ...                          NaN   \n",
       "12060833         NaN             NaN    4b  ...                          NaN   \n",
       "12060834         NaN             NaN    4b  ...                          NaN   \n",
       "12060835         NaN             NaN    4b  ...                          NaN   \n",
       "\n",
       "         cod_curso  simce_mat  simce_lect  simce_mat_norm2002  \\\n",
       "0           1899.0  178.59000   140.30000           -1.275738   \n",
       "1           1899.0  341.63000   358.72000            1.744648   \n",
       "2           1899.0  231.89000   173.17000           -0.288333   \n",
       "3           1899.0  141.42000   210.52000           -1.964328   \n",
       "4           1899.0  236.85001   260.17999           -0.196446   \n",
       "...            ...        ...         ...                 ...   \n",
       "12060831      9603        NaN         NaN                 NaN   \n",
       "12060832      7218  318.22000   355.00000            1.310968   \n",
       "12060833      7218        NaN         NaN                 NaN   \n",
       "12060834      5967  255.60000         NaN            0.150905   \n",
       "12060835      5967        NaN         NaN                 NaN   \n",
       "\n",
       "          simce_lect_norm2002  merge2_panel_parents_panel_alu  \\\n",
       "0                   -2.070125                            both   \n",
       "1                    1.999407                            both   \n",
       "2                   -1.457702                            both   \n",
       "3                   -0.761808                            both   \n",
       "4                    0.163441                            both   \n",
       "...                       ...                             ...   \n",
       "12060831                  NaN                      right_only   \n",
       "12060832             1.930097                      right_only   \n",
       "12060833                  NaN                      right_only   \n",
       "12060834                  NaN                      right_only   \n",
       "12060835                  NaN                      right_only   \n",
       "\n",
       "          student_expectations  student_exp_coordinada  \\\n",
       "0                          NaN                     NaN   \n",
       "1                          NaN                     NaN   \n",
       "2                          NaN                     NaN   \n",
       "3                          NaN                     NaN   \n",
       "4                          NaN                     NaN   \n",
       "...                        ...                     ...   \n",
       "12060831                   NaN                     NaN   \n",
       "12060832                   NaN                     NaN   \n",
       "12060833                   NaN                     NaN   \n",
       "12060834                   NaN                     NaN   \n",
       "12060835                   NaN                     NaN   \n",
       "\n",
       "         merge3_panel_parents_panel_alu_asp  \n",
       "0                                 left_only  \n",
       "1                                 left_only  \n",
       "2                                 left_only  \n",
       "3                                 left_only  \n",
       "4                                 left_only  \n",
       "...                                     ...  \n",
       "12060831                          left_only  \n",
       "12060832                          left_only  \n",
       "12060833                          left_only  \n",
       "12060834                          left_only  \n",
       "12060835                          left_only  \n",
       "\n",
       "[12060836 rows x 28 columns]"
      ]
     },
     "execution_count": 58,
     "metadata": {},
     "output_type": "execute_result"
    }
   ],
   "source": [
    "panel_parents_alu"
   ]
  },
  {
   "cell_type": "markdown",
   "id": "9d0d64d4",
   "metadata": {},
   "source": [
    "## + School data "
   ]
  },
  {
   "cell_type": "code",
   "execution_count": 59,
   "id": "eb65eba9",
   "metadata": {
    "ExecuteTime": {
     "end_time": "2023-10-29T13:42:50.025967Z",
     "start_time": "2023-10-29T13:42:49.840079Z"
    }
   },
   "outputs": [],
   "source": [
    "EE_data_acum = pd.read_csv('Datos\\Intermedios\\DatosAbiertos\\20231117_schools_2002_2012.csv')"
   ]
  },
  {
   "cell_type": "code",
   "execution_count": 60,
   "id": "630073fd",
   "metadata": {
    "ExecuteTime": {
     "end_time": "2023-10-29T13:42:50.056812Z",
     "start_time": "2023-10-29T13:42:50.026930Z"
    },
    "scrolled": true
   },
   "outputs": [
    {
     "data": {
      "text/plain": [
       "0"
      ]
     },
     "execution_count": 60,
     "metadata": {},
     "output_type": "execute_result"
    }
   ],
   "source": [
    "EE_data_acum.duplicated(['agno','rbd']).sum()"
   ]
  },
  {
   "cell_type": "code",
   "execution_count": 61,
   "id": "3223fa88",
   "metadata": {
    "ExecuteTime": {
     "end_time": "2023-10-29T13:42:52.714094Z",
     "start_time": "2023-10-29T13:42:50.059570Z"
    }
   },
   "outputs": [],
   "source": [
    "panel_parents_alu = pd.merge(panel_parents_alu, EE_data_acum, on = ['agno','rbd'], \n",
    "                            how = 'left' ,validate = 'many_to_one')"
   ]
  },
  {
   "cell_type": "markdown",
   "id": "e2a88760",
   "metadata": {},
   "source": [
    "## IVE"
   ]
  },
  {
   "cell_type": "code",
   "execution_count": 62,
   "id": "96c319c9",
   "metadata": {
    "ExecuteTime": {
     "end_time": "2023-10-29T13:42:52.823368Z",
     "start_time": "2023-10-29T13:42:52.715094Z"
    }
   },
   "outputs": [],
   "source": [
    "IVE_EE_10_19 = pd.read_csv(r'Datos\\Intermedios\\DatosAbiertos\\IVE_total_10_19.csv')"
   ]
  },
  {
   "cell_type": "code",
   "execution_count": 63,
   "id": "3b08ba5d",
   "metadata": {
    "ExecuteTime": {
     "end_time": "2023-10-29T13:42:52.871106Z",
     "start_time": "2023-10-29T13:42:52.824370Z"
    }
   },
   "outputs": [],
   "source": [
    "IVE_EE_10_19 = IVE_EE_10_19.drop(columns = ['ciclo']).groupby(['agno','rbd'], as_index=False).mean()"
   ]
  },
  {
   "cell_type": "code",
   "execution_count": 64,
   "id": "38bd933d",
   "metadata": {
    "ExecuteTime": {
     "end_time": "2023-10-29T13:42:56.057931Z",
     "start_time": "2023-10-29T13:42:52.872140Z"
    }
   },
   "outputs": [],
   "source": [
    "panel_parents_alu = pd.merge(panel_parents_alu, IVE_EE_10_19, on = ['agno','rbd'], \n",
    "                            how = 'left' ,validate = 'many_to_one')"
   ]
  },
  {
   "cell_type": "markdown",
   "id": "945d102f",
   "metadata": {},
   "source": [
    "## Rendimiento"
   ]
  },
  {
   "cell_type": "markdown",
   "id": "0ef3fb79",
   "metadata": {},
   "source": [
    "### Todo con idalumno - mrun primero"
   ]
  },
  {
   "cell_type": "code",
   "execution_count": 85,
   "id": "e6d651cc",
   "metadata": {
    "ExecuteTime": {
     "end_time": "2023-10-29T16:02:07.397904Z",
     "start_time": "2023-10-29T16:01:43.310975Z"
    }
   },
   "outputs": [],
   "source": [
    "panel_parents_alu_id = pd.merge(df_merge1, panel_parents_alu, on = ['agno','rbd', 'curso', 'idalumno'], \n",
    "                                how = 'left' ,validate = 'many_to_one')"
   ]
  },
  {
   "cell_type": "markdown",
   "id": "5cc6921a",
   "metadata": {},
   "source": [
    "### Final"
   ]
  },
  {
   "cell_type": "code",
   "execution_count": 101,
   "id": "90d3bf86",
   "metadata": {
    "ExecuteTime": {
     "end_time": "2023-10-29T16:13:28.465489Z",
     "start_time": "2023-10-29T16:11:40.792735Z"
    }
   },
   "outputs": [],
   "source": [
    "REND_data_acum_pct = pd.read_csv(r'Datos\\Intermedios\\DatosAbiertos\\20231127_rendimiento_asistencia_sit_fin_2002_2023.csv',\n",
    "                                low_memory=False)"
   ]
  },
  {
   "cell_type": "code",
   "execution_count": 103,
   "id": "7ecc3851",
   "metadata": {
    "ExecuteTime": {
     "end_time": "2023-10-29T21:32:17.482042Z",
     "start_time": "2023-10-29T21:31:30.021365Z"
    }
   },
   "outputs": [],
   "source": [
    "REND_data_acum_pct['gen_alu'] = REND_data_acum_pct.gen_alu.replace(0,np.nan)\n",
    "REND_data_acum_pct['mrun'] = REND_data_acum_pct.mrun.replace(' ',np.nan)\n",
    "REND_data_acum_pct['mrun'] = pd.to_numeric(REND_data_acum_pct.mrun)\n",
    "REND_data_acum_pct = REND_data_acum_pct[~REND_data_acum_pct.mrun.isna()]"
   ]
  },
  {
   "cell_type": "code",
   "execution_count": 109,
   "id": "4b94a6e6",
   "metadata": {
    "ExecuteTime": {
     "end_time": "2023-10-29T21:37:54.429569Z",
     "start_time": "2023-10-29T21:36:24.710911Z"
    }
   },
   "outputs": [],
   "source": [
    "panel_total = pd.merge(panel_parents_alu_id, REND_data_acum_pct.drop(columns = [ 'rbd', 'curso']), on = ['agno','mrun'], \n",
    "                            how = 'left' , validate = 'many_to_one', indicator=True)"
   ]
  },
  {
   "cell_type": "code",
   "execution_count": 129,
   "id": "ce12d3e8",
   "metadata": {
    "ExecuteTime": {
     "end_time": "2023-10-29T21:54:16.068221Z",
     "start_time": "2023-10-29T21:54:12.882659Z"
    }
   },
   "outputs": [],
   "source": [
    "dups = panel_total[panel_total.duplicated(['agno','mrun'], keep = False)]\n",
    "dups.loc[:,'parental_exp'] = dups.parental_exp.replace(np.nan, 0)\n",
    "dups = dups.sort_values(by = ['agno','mrun','parental_exp'], ascending =True)\n",
    "dups = dups.drop_duplicates(subset= ['agno','mrun'], keep = 'last')\n",
    "dups = dups[~dups.mrun.isna()]\n",
    "dups.loc[:,'parental_exp'] = dups.parental_exp.replace(0, np.nan)"
   ]
  },
  {
   "cell_type": "code",
   "execution_count": 133,
   "id": "b99076f7",
   "metadata": {
    "ExecuteTime": {
     "end_time": "2023-10-29T21:55:45.164693Z",
     "start_time": "2023-10-29T21:55:41.218678Z"
    }
   },
   "outputs": [],
   "source": [
    "panel_total = panel_total[~panel_total.duplicated(['agno','mrun'], keep = False)]\n",
    "panel_total = pd.concat([panel_total, dups])\n",
    "panel_total = panel_total.drop(columns = ['is_duplicate'])"
   ]
  },
  {
   "cell_type": "code",
   "execution_count": 140,
   "id": "4a43b85a",
   "metadata": {
    "ExecuteTime": {
     "end_time": "2023-10-29T22:04:23.977110Z",
     "start_time": "2023-10-29T22:04:08.076409Z"
    }
   },
   "outputs": [],
   "source": [
    "panel_total = panel_total.rename(columns = {'_merge':'merge4_panel_parents_panel_alu_asp_rend'})"
   ]
  },
  {
   "cell_type": "markdown",
   "id": "e7e9090e",
   "metadata": {},
   "source": [
    "# Adicionales"
   ]
  },
  {
   "cell_type": "code",
   "execution_count": 18,
   "id": "481fc978",
   "metadata": {
    "ExecuteTime": {
     "end_time": "2023-10-30T02:02:31.952602Z",
     "start_time": "2023-10-30T02:02:31.667214Z"
    }
   },
   "outputs": [],
   "source": [
    "# quintil GPA repecto a curso - letra - EE - año \n",
    "panel_total['GPA_quintil'] = pd.cut(panel_total['GPA_percentil'], bins=[0, .2, .4, .6, .8, float('Inf')], labels=[1,2,3,4,5])"
   ]
  },
  {
   "cell_type": "code",
   "execution_count": 7,
   "id": "c6087aec",
   "metadata": {
    "ExecuteTime": {
     "end_time": "2023-10-30T01:44:34.445912Z",
     "start_time": "2023-10-30T01:44:34.432911Z"
    }
   },
   "outputs": [],
   "source": [
    "cohort_1b = [2002,2004,2005,2006,2007,2008,2009,2010,2011,2012,2013]\n",
    "agno_in_4b = [x + 3 for x in cohort_1b]"
   ]
  },
  {
   "cell_type": "code",
   "execution_count": 25,
   "id": "4c8d86e9",
   "metadata": {
    "ExecuteTime": {
     "end_time": "2023-10-30T02:11:22.300193Z",
     "start_time": "2023-10-30T02:11:14.645111Z"
    },
    "scrolled": true
   },
   "outputs": [
    {
     "name": "stdout",
     "output_type": "stream",
     "text": [
      "2002\n",
      "2003\n",
      "2004\n",
      "2005\n",
      "2006\n",
      "2007\n",
      "2008\n",
      "2009\n",
      "2010\n",
      "2011\n",
      "2012\n",
      "2013\n"
     ]
    }
   ],
   "source": [
    "cols_4b = ['agno_grade1_enrolled','mrun','income','income_decil_casen','income_quintil_casen', 'income_uf',\n",
    "           'income_quintil_uf','prom_gral','GPA_percentil','GPA_quintil','curso']\n",
    "\n",
    "panel_total_4b_for_baseline = pd.DataFrame(columns = cols_4b)\n",
    "c = 0\n",
    "for a in range(2002,2014):\n",
    "    print(a)\n",
    "    if  a != 2003:\n",
    "        data = panel_total[(panel_total.agno_grade1_enrolled == a) & (panel_total.agno == agno_in_4b[c]) & (panel_total.curso == '4b')]\n",
    "        c+=1\n",
    "        \n",
    "        data = data[cols_4b]\n",
    "        panel_total_4b_for_baseline = pd.concat([panel_total_4b_for_baseline,data])"
   ]
  },
  {
   "cell_type": "code",
   "execution_count": 26,
   "id": "3a7037a0",
   "metadata": {
    "ExecuteTime": {
     "end_time": "2023-10-30T02:11:27.693287Z",
     "start_time": "2023-10-30T02:11:27.281302Z"
    }
   },
   "outputs": [],
   "source": [
    "for col in ['income','income_decil_casen','income_quintil_casen', 'income_uf',\n",
    "            'income_quintil_uf','prom_gral','GPA_percentil','GPA_quintil']:\n",
    "    panel_total_4b_for_baseline = panel_total_4b_for_baseline.rename(columns = {col: col + '_4b'})"
   ]
  },
  {
   "cell_type": "code",
   "execution_count": 29,
   "id": "fb920349",
   "metadata": {
    "ExecuteTime": {
     "end_time": "2023-10-30T02:12:08.548032Z",
     "start_time": "2023-10-30T02:12:08.502483Z"
    }
   },
   "outputs": [],
   "source": [
    "panel_total_4b_for_baseline = panel_total_4b_for_baseline.drop(columns = ['agno_grade1_enrolled','curso'])\n",
    "panel_total = pd.merge(panel_total, panel_total_4b_for_baseline, on = 'mrun', how = 'left', validate = 'many_to_one')"
   ]
  },
  {
   "cell_type": "code",
   "execution_count": 34,
   "id": "b232d421",
   "metadata": {
    "ExecuteTime": {
     "end_time": "2023-10-30T02:20:34.823576Z",
     "start_time": "2023-10-30T02:14:52.235283Z"
    }
   },
   "outputs": [],
   "source": [
    "panel_total.to_csv(r'Datos\\Finales\\20231129_panel_total_2002_2022.csv',index = False)"
   ]
  }
 ],
 "metadata": {
  "kernelspec": {
   "display_name": "Python 3 (ipykernel)",
   "language": "python",
   "name": "python3"
  },
  "language_info": {
   "codemirror_mode": {
    "name": "ipython",
    "version": 3
   },
   "file_extension": ".py",
   "mimetype": "text/x-python",
   "name": "python",
   "nbconvert_exporter": "python",
   "pygments_lexer": "ipython3",
   "version": "3.9.13"
  },
  "latex_envs": {
   "LaTeX_envs_menu_present": true,
   "autoclose": false,
   "autocomplete": true,
   "bibliofile": "biblio.bib",
   "cite_by": "apalike",
   "current_citInitial": 1,
   "eqLabelWithNumbers": true,
   "eqNumInitial": 1,
   "hotkeys": {
    "equation": "Ctrl-E",
    "itemize": "Ctrl-I"
   },
   "labels_anchors": false,
   "latex_user_defs": false,
   "report_style_numbering": false,
   "user_envs_cfg": false
  },
  "toc": {
   "base_numbering": 1,
   "nav_menu": {},
   "number_sections": true,
   "sideBar": true,
   "skip_h1_title": false,
   "title_cell": "Table of Contents",
   "title_sidebar": "Contents",
   "toc_cell": false,
   "toc_position": {
    "height": "calc(100% - 180px)",
    "left": "10px",
    "top": "150px",
    "width": "307.2px"
   },
   "toc_section_display": true,
   "toc_window_display": true
  },
  "varInspector": {
   "cols": {
    "lenName": 16,
    "lenType": 16,
    "lenVar": 40
   },
   "kernels_config": {
    "python": {
     "delete_cmd_postfix": "",
     "delete_cmd_prefix": "del ",
     "library": "var_list.py",
     "varRefreshCmd": "print(var_dic_list())"
    },
    "r": {
     "delete_cmd_postfix": ") ",
     "delete_cmd_prefix": "rm(",
     "library": "var_list.r",
     "varRefreshCmd": "cat(var_dic_list()) "
    }
   },
   "types_to_exclude": [
    "module",
    "function",
    "builtin_function_or_method",
    "instance",
    "_Feature"
   ],
   "window_display": false
  }
 },
 "nbformat": 4,
 "nbformat_minor": 5
}
